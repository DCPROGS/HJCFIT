{
 "cells": [
  {
   "cell_type": "markdown",
   "metadata": {},
   "source": [
    "# OpenMP example"
   ]
  },
  {
   "cell_type": "markdown",
   "metadata": {},
   "source": [
    "In this example we illustrate how OpenMP can be used to speedup the calculation of the likelihood."
   ]
  },
  {
   "cell_type": "markdown",
   "metadata": {},
   "source": [
    "First we set the number of openmp threads. This is done via an environmental variable called `OMP_NUM_THREADS`. In this example we set the value of the variable from Python but typically this will be done directly in a shell script before running the example i.e. something like:\n",
    "\n",
    "```\n",
    "export OMP_NUM_THREADS=4\n",
    "python script.py\n",
    "```"
   ]
  },
  {
   "cell_type": "code",
   "execution_count": 1,
   "metadata": {
    "collapsed": true
   },
   "outputs": [],
   "source": [
    "import os\n",
    "os.environ['OMP_NUM_THREADS'] = '4'"
   ]
  },
  {
   "cell_type": "markdown",
   "metadata": {},
   "source": [
    "Note that only the value of `OMP_NUM_THREADS` at import time infulences the execution. To experiment with OpenMP restart the notebook kernel, change the value in the cell above reexecute. You should see the time of execution change in the last cell."
   ]
  },
  {
   "cell_type": "markdown",
   "metadata": {},
   "source": [
    "Some general settings:"
   ]
  },
  {
   "cell_type": "code",
   "execution_count": 2,
   "metadata": {
    "collapsed": false
   },
   "outputs": [],
   "source": [
    "%matplotlib inline\n",
    "import matplotlib\n",
    "import matplotlib.pyplot as plt"
   ]
  },
  {
   "cell_type": "code",
   "execution_count": 3,
   "metadata": {
    "collapsed": true
   },
   "outputs": [],
   "source": [
    "import sys, time, math\n",
    "import numpy as np\n",
    "from numpy import linalg as nplin"
   ]
  },
  {
   "cell_type": "markdown",
   "metadata": {},
   "source": [
    "### Load data"
   ]
  },
  {
   "cell_type": "markdown",
   "metadata": {},
   "source": [
    "HJCFIT depends on DCPROGS/DCPYPS module for data input and setting kinetic mechanism:"
   ]
  },
  {
   "cell_type": "code",
   "execution_count": 4,
   "metadata": {
    "collapsed": false
   },
   "outputs": [],
   "source": [
    "from dcpyps.samples import samples\n",
    "from dcpyps import dataset, mechanism, dcplots, dcio"
   ]
  },
  {
   "cell_type": "code",
   "execution_count": 5,
   "metadata": {
    "collapsed": false
   },
   "outputs": [],
   "source": [
    "# LOAD DATA: Burzomato 2004 example set.\n",
    "scnfiles = [[\"./samples/glydemo/A-10.scn\"], \n",
    "            [\"./samples/glydemo/B-30.scn\"],\n",
    "            [\"./samples/glydemo/C-100.scn\"], \n",
    "            [\"./samples/glydemo/D-1000.scn\"]]\n",
    "tr = [0.000030, 0.000030, 0.000030, 0.000030]\n",
    "tc = [0.004, -1, -0.06, -0.02]\n",
    "conc = [10e-6, 30e-6, 100e-6, 1000e-6]"
   ]
  },
  {
   "cell_type": "markdown",
   "metadata": {},
   "source": [
    "Initialise Single-Channel Record from dcpyps. Note that SCRecord takes a list of file names; several SCN files from the same patch can be loaded."
   ]
  },
  {
   "cell_type": "code",
   "execution_count": 6,
   "metadata": {
    "collapsed": false
   },
   "outputs": [],
   "source": [
    "# Initaialise SCRecord instance.\n",
    "recs = []\n",
    "bursts = []\n",
    "for i in range(len(scnfiles)):\n",
    "    rec = dataset.SCRecord(scnfiles[i], conc[i], tr[i], tc[i])\n",
    "    recs.append(rec)\n",
    "    bursts.append(rec.bursts.intervals())"
   ]
  },
  {
   "cell_type": "markdown",
   "metadata": {},
   "source": [
    "### Load demo mechanism (C&H82 numerical example)"
   ]
  },
  {
   "cell_type": "code",
   "execution_count": 7,
   "metadata": {
    "collapsed": false
   },
   "outputs": [],
   "source": [
    "# LOAD FLIP MECHANISM USED in Burzomato et al 2004\n",
    "mecfn = \"./samples/mec/demomec.mec\"\n",
    "version, meclist, max_mecnum = dcio.mec_get_list(mecfn)\n",
    "mec = dcio.mec_load(mecfn, meclist[2][0])"
   ]
  },
  {
   "cell_type": "code",
   "execution_count": 8,
   "metadata": {
    "collapsed": true
   },
   "outputs": [],
   "source": [
    "# PREPARE RATE CONSTANTS.\n",
    "# Fixed rates.\n",
    "#fixed = np.array([False, False, False, False, False, False, False, True,\n",
    "#    False, False, False, False, False, False])\n",
    "for i in range(len(mec.Rates)):\n",
    "    mec.Rates[i].fixed = False\n",
    "\n",
    "# Constrained rates.\n",
    "mec.Rates[21].is_constrained = True\n",
    "mec.Rates[21].constrain_func = mechanism.constrain_rate_multiple\n",
    "mec.Rates[21].constrain_args = [17, 3]\n",
    "mec.Rates[19].is_constrained = True\n",
    "mec.Rates[19].constrain_func = mechanism.constrain_rate_multiple\n",
    "mec.Rates[19].constrain_args = [17, 2]\n",
    "mec.Rates[16].is_constrained = True\n",
    "mec.Rates[16].constrain_func = mechanism.constrain_rate_multiple\n",
    "mec.Rates[16].constrain_args = [20, 3]\n",
    "mec.Rates[18].is_constrained = True\n",
    "mec.Rates[18].constrain_func = mechanism.constrain_rate_multiple\n",
    "mec.Rates[18].constrain_args = [20, 2]\n",
    "mec.Rates[8].is_constrained = True\n",
    "mec.Rates[8].constrain_func = mechanism.constrain_rate_multiple\n",
    "mec.Rates[8].constrain_args = [12, 1.5]\n",
    "mec.Rates[13].is_constrained = True\n",
    "mec.Rates[13].constrain_func = mechanism.constrain_rate_multiple\n",
    "mec.Rates[13].constrain_args = [9, 2]\n",
    "mec.update_constrains()\n",
    "# Rates constrained by microscopic reversibility\n",
    "mec.set_mr(True, 7, 0)\n",
    "mec.set_mr(True, 14, 1)\n",
    "\n",
    "# Update constrains\n",
    "mec.update_constrains()"
   ]
  },
  {
   "cell_type": "code",
   "execution_count": 9,
   "metadata": {
    "collapsed": false
   },
   "outputs": [],
   "source": [
    "#Propose initial guesses different from recorded ones \n",
    "initial_guesses = [5000.0, 500.0, 2700.0, 2000.0, 800.0, 15000.0, 300.0, 120000, 6000.0,\n",
    "                   0.45E+09, 1500.0, 12000.0, 4000.0, 0.9E+09, 7500.0, 1200.0, 3000.0, \n",
    "                   0.45E+07, 2000.0, 0.9E+07, 1000, 0.135E+08]\n",
    "mec.set_rateconstants(initial_guesses)\n",
    "mec.update_constrains()"
   ]
  },
  {
   "cell_type": "markdown",
   "metadata": {},
   "source": [
    "### Prepare likelihood function"
   ]
  },
  {
   "cell_type": "code",
   "execution_count": 10,
   "metadata": {
    "collapsed": false
   },
   "outputs": [],
   "source": [
    "def dcprogslik(x, lik, m, c):\n",
    "    m.theta_unsqueeze(np.exp(x))\n",
    "    l = 0\n",
    "    for i in range(len(c)):\n",
    "        m.set_eff('c', c[i])\n",
    "        l += lik[i](m.Q)\n",
    "    return -l * math.log(10)"
   ]
  },
  {
   "cell_type": "code",
   "execution_count": 11,
   "metadata": {
    "collapsed": false
   },
   "outputs": [],
   "source": [
    "# Import HJCFIT likelihood function\n",
    "from dcprogs.likelihood import Log10Likelihood\n",
    "\n",
    "kwargs = {'nmax': 2, 'xtol': 1e-12, 'rtol': 1e-12, 'itermax': 100,\n",
    "    'lower_bound': -1e6, 'upper_bound': 0}\n",
    "likelihood = []\n",
    "\n",
    "for i in range(len(recs)):\n",
    "    likelihood.append(Log10Likelihood(bursts[i], mec.kA,\n",
    "        recs[i].tres, recs[i].tcrit, **kwargs))\n",
    "theta = mec.theta()"
   ]
  },
  {
   "cell_type": "markdown",
   "metadata": {},
   "source": [
    "## Time evaluation of likelihood function"
   ]
  },
  {
   "cell_type": "code",
   "execution_count": 12,
   "metadata": {
    "collapsed": false
   },
   "outputs": [
    {
     "name": "stdout",
     "output_type": "stream",
     "text": [
      "100 loops, best of 3: 12.7 ms per loop\n"
     ]
    }
   ],
   "source": [
    "%timeit dcprogslik(np.log(theta), likelihood, mec, conc)"
   ]
  },
  {
   "cell_type": "code",
   "execution_count": null,
   "metadata": {
    "collapsed": true
   },
   "outputs": [],
   "source": []
  }
 ],
 "metadata": {
  "kernelspec": {
   "display_name": "DCProgs GCC Python 3",
   "language": "python",
   "name": "dcprogsgcc"
  },
  "language_info": {
   "codemirror_mode": {
    "name": "ipython",
    "version": 3
   },
   "file_extension": ".py",
   "mimetype": "text/x-python",
   "name": "python",
   "nbconvert_exporter": "python",
   "pygments_lexer": "ipython3",
   "version": "3.5.2"
  }
 },
 "nbformat": 4,
 "nbformat_minor": 0
}
