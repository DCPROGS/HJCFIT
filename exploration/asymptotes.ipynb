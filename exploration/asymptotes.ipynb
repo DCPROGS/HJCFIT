{
 "metadata": {
  "name": "asymptotes"
 },
 "nbformat": 3,
 "nbformat_minor": 0,
 "worksheets": [
  {
   "cells": [
    {
     "cell_type": "code",
     "collapsed": false,
     "input": [
      "from numpy import array\n",
      "from scipy.optimize import brentq\n",
      "from dcprogs.likelihood import DeterminantEq\n",
      "\n",
      "matrix = array([[ -3050,        50,  3000,      0,    0 ], \n",
      "                [ 2./3., -1502./3.,     0,    500,    0 ],  \n",
      "                [    15,         0, -2065,     50, 2000 ],  \n",
      "                [     0,     15000,  4000, -19000,    0 ],  \n",
      "                [     0,         0,    10,      0,  -10 ] ])\n",
      "determinant_equation = DeterminantEq(matrix, 2, 1e-4, True)\n",
      "\n",
      "print brentq(determinant_equation, -20000, -1000, full_output=True)\n",
      "print brentq(determinant_equation, -1000, 1000, full_output=True)"
     ],
     "language": "python",
     "metadata": {},
     "outputs": [
      {
       "ename": "ImportError",
       "evalue": "No module named dcprogs.likelihood",
       "output_type": "pyerr",
       "traceback": [
        "\u001b[0;31m---------------------------------------------------------------------------\u001b[0m\n\u001b[0;31mImportError\u001b[0m                               Traceback (most recent call last)",
        "\u001b[0;32m<ipython-input-1-fc7bffeb97c1>\u001b[0m in \u001b[0;36m<module>\u001b[0;34m()\u001b[0m\n\u001b[1;32m      1\u001b[0m \u001b[0;32mfrom\u001b[0m \u001b[0mnumpy\u001b[0m \u001b[0;32mimport\u001b[0m \u001b[0marray\u001b[0m\u001b[0;34m\u001b[0m\u001b[0m\n\u001b[1;32m      2\u001b[0m \u001b[0;32mfrom\u001b[0m \u001b[0mscipy\u001b[0m\u001b[0;34m.\u001b[0m\u001b[0moptimize\u001b[0m \u001b[0;32mimport\u001b[0m \u001b[0mbrentq\u001b[0m\u001b[0;34m\u001b[0m\u001b[0m\n\u001b[0;32m----> 3\u001b[0;31m \u001b[0;32mfrom\u001b[0m \u001b[0mdcprogs\u001b[0m\u001b[0;34m.\u001b[0m\u001b[0mlikelihood\u001b[0m \u001b[0;32mimport\u001b[0m \u001b[0mDeterminantEq\u001b[0m\u001b[0;34m\u001b[0m\u001b[0m\n\u001b[0m\u001b[1;32m      4\u001b[0m \u001b[0;34m\u001b[0m\u001b[0m\n\u001b[1;32m      5\u001b[0m matrix = array([[ -3050,        50,  3000,      0,    0 ], \n",
        "\u001b[0;31mImportError\u001b[0m: No module named dcprogs.likelihood"
       ]
      }
     ],
     "prompt_number": 1
    },
    {
     "cell_type": "code",
     "collapsed": false,
     "input": [
      "def random_equation(N=10, zeroprob=0.7, large=0.5, n=2):\n",
      "  from numpy.random import random\n",
      "  matrix = (random((N, N)) - 0.5) * 5\n",
      "  for i in xrange(N):\n",
      "        for j in xrange(i+1, N):\n",
      "            if random(1) > zeroprob: \n",
      "                matrix[i, j] = 0\n",
      "                matrix[j, i] = 0\n",
      "            elif random(1) > large:\n",
      "                if random(1) > 0.5: matrix[i, j] = random(1) * 3000\n",
      "                else: matrix[j, i] = random(1) * 3000\n",
      "  for i in xrange(matrix.shape[0]): matrix[i, i] -= sum(matrix[i, :])\n",
      "  return DeterminantEq(matrix, n, 1e-4, True)\n",
      "\n",
      "de = random_equation(8, n=4)\n",
      "x = arange(-1000, 1000)\n",
      "print(de(x))\n",
      "plot(x, de(x))"
     ],
     "language": "python",
     "metadata": {},
     "outputs": [
      {
       "output_type": "stream",
       "stream": "stdout",
       "text": [
        "389980.756909\n"
       ]
      }
     ],
     "prompt_number": 3
    },
    {
     "cell_type": "code",
     "collapsed": false,
     "input": [
      "from numpy import arraygT"
     ],
     "language": "python",
     "metadata": {},
     "outputs": [],
     "prompt_number": "*"
    }
   ],
   "metadata": {}
  }
 ]
}