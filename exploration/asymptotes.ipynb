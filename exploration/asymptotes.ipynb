{
 "metadata": {
  "name": "asymptotes"
 },
 "nbformat": 3,
 "nbformat_minor": 0,
 "worksheets": [
  {
   "cells": [
    {
     "cell_type": "code",
     "collapsed": false,
     "input": [
      "from dcprogs.likelihood import DeterminantEq, find_root_intervals, find_roots, QMatrix\n",
      "from dcprogs.random import state_matrix as random_state_matrix\n",
      "equation = DeterminantEq(random_state_matrix(), 1e-4)"
     ],
     "language": "python",
     "metadata": {},
     "outputs": [],
     "prompt_number": 1
    },
    {
     "cell_type": "code",
     "collapsed": false,
     "input": [
      "from dcprogs.likelihood import plot_roots\n",
      "plot_roots(equation, size=25000)"
     ],
     "language": "python",
     "metadata": {},
     "outputs": [
      {
       "output_type": "pyout",
       "png": "[encoded data removed]",
       "prompt_number": 2,
       "text": [
        "<matplotlib.figure.Figure at 0x10f12b5d0>"
       ]
      }
     ],
     "prompt_number": 2
    },
    {
     "cell_type": "code",
     "collapsed": false,
     "input": [
      "x = arange(-10, 0e0, 1e-2)\n",
      "plot(x, equation(x))"
     ],
     "language": "python",
     "metadata": {},
     "outputs": [
      {
       "output_type": "pyout",
       "prompt_number": 8,
       "text": [
        "[<matplotlib.lines.Line2D at 0x113d41cd0>]"
       ]
      }
     ],
     "prompt_number": 8
    },
    {
     "cell_type": "code",
     "collapsed": false,
     "input": [
      "from dcprogs.likelihood import find_root_intervals_brute_force\n",
      "print find_root_intervals(equation)\n",
      "print find_root_intervals_brute_force(equation, 10)"
     ],
     "language": "python",
     "metadata": {},
     "outputs": [
      {
       "output_type": "stream",
       "stream": "stdout",
       "text": [
        "[((-19281.59406084638, -16067.995050705316), 1L), ((-16067.995050705316, -15264.59529817005), 1L), ((-15264.59529817005, -14461.195545634786), 1L), ((-9239.097154155555, -9226.544033022192), 1L), ((-9226.544033022192, -9213.990911888828), 1L), ((-6427.198020282127, -5623.798267746861), 1L), ((-5623.798267746861, -4820.398515211595), 1L), ((-4820.398515211595, -3213.5990101410634), 1L), ((-3213.5990101410634, -1606.7995050705317), 1L), ((-1606.7995050705317, -803.3997525352659), 1L), ((-803.3997525352659, -401.69987626763293), 1L), ((-3.1382802833408823, -2.745995247923272), 1L), ((-2.745995247923272, -2.3537102125056615), 1L), ((-1.5691401416704411, 0.0), 1L)]\n",
        "[((-17145.16832451403, -17135.16832451403), 1L), ((-15945.16832451403, -15935.16832451403), 1L), ((-14735.16832451403, -14725.16832451403), 1L), ((-9235.16832451403, -9225.16832451403), 1L), ((-9225.16832451403, -9215.16832451403), 1L), ((-5915.16832451403, -5905.16832451403), 1L), ((-4895.16832451403, -4885.16832451403), 1L), ((-4435.16832451403, -4425.16832451403), 1L), ((-2995.1683245140302, -2985.1683245140302), 1L), ((-1055.1683245140302, -1045.1683245140302), 1L), ((-565.1683245140302, -555.1683245140302), 1L)]"
       ]
      },
      {
       "output_type": "stream",
       "stream": "stdout",
       "text": [
        "\n"
       ]
      }
     ],
     "prompt_number": 7
    },
    {
     "cell_type": "code",
     "collapsed": false,
     "input": [
      "def trial():\n",
      "    from numpy import all\n",
      "    from dcprogs.likelihood import DeterminantEq, find_root_intervals, find_roots, QMatrix\n",
      "    from dcprogs.random import state_matrix as random_state_matrix\n",
      "    \n",
      "    while True:\n",
      "        #try: \n",
      "            matrix = random_state_matrix()\n",
      "            equation = DeterminantEq(matrix, 1e-4)\n",
      "            return all([r[1] == 1 for r in find_roots(equation)])\n",
      "        \n",
      "        #except: continue\n",
      "\n",
      "\n",
      "print all([trial() for i in range(500)])\n"
     ],
     "language": "python",
     "metadata": {},
     "outputs": [
      {
       "output_type": "stream",
       "stream": "stdout",
       "text": [
        "True\n"
       ]
      }
     ],
     "prompt_number": 6
    },
    {
     "cell_type": "markdown",
     "metadata": {},
     "source": [
      "Asymptotic vs Exact for classic Matrix\n",
      "--------------------------------------"
     ]
    },
    {
     "cell_type": "code",
     "collapsed": false,
     "input": [
      "from numpy import array\n",
      "from dcprogs.likelihood import QMatrix, DeterminantEq, Asymptotes, find_roots, ExactG\n",
      "qmatrix = QMatrix( \n",
      "           array([[ -3050,        50,  3000,      0,    0 ], \n",
      "                  [ 2./3., -1502./3.,     0,    500,    0 ],  \n",
      "                  [    15,         0, -2065,     50, 2000 ],  \n",
      "                  [     0,     15000,  4000, -19000,    0 ],  \n",
      "                  [     0,         0,    10,      0,  -10 ] ]), 2)\n",
      "equation = DeterminantEq(qmatrix, 1e-4, True)\n",
      "roots = find_roots(equation)\n",
      "asymptotes = Asymptotes(equation, roots)\n",
      "# exact = ExactG(qmatrix, 1e-4)"
     ],
     "language": "python",
     "metadata": {},
     "outputs": [],
     "prompt_number": 1
    },
    {
     "cell_type": "code",
     "collapsed": false,
     "input": [
      "from scipy.linalg import expm\n",
      "transitions = qmatrix.transpose()\n",
      "\n",
      "right = eig(transitions.matrix)[1]\n",
      "eigenvalues = eig(transitions.matrix)[0]\n",
      "left = eig(transitions.matrix.T)[1].T\n",
      "\n",
      "tau = 1e-4\n",
      "af_factor = dot(expm(tau * transitions.ff), transitions.fa)\n",
      "print af_factor\n",
      "print all(abs(af_factor - dot(expm(tau * qmatrix.aa), qmatrix.af)) < 1e-8)\n",
      "for i, j  in zip(range(5), [0, 1, 2, 4, 3]):\n",
      "    col = right[:transitions.nopen, i]\n",
      "    row = inv(right)[i, transitions.nopen:]\n",
      "    one_way = dot(outer(col, row), af_factor)\n",
      "    col = eig(qmatrix.matrix)[1][qmatrix.nopen:, i]\n",
      "    row = inv(eig(qmatrix.matrix)[1])[i, :qmatrix.nopen]\n",
      "    other_way = dot(outer(col, row), dot(expm(tau * qmatrix.aa), qmatrix.af))\n",
      "    print all(abs(one_way - other_way) < 1e-8)\n",
      "    # print i, \" is ok\", all(abs(dot(outer(col, row), af_factor) - ExactG(transitions, 1e-4).D_af(j)) < 1e-8)\n",
      "    # print\n",
      "    # print ExactG(transitions, tau).D_af(i)\n",
      "    "
     ],
     "language": "python",
     "metadata": {},
     "outputs": [
      {
       "output_type": "stream",
       "stream": "stdout",
       "text": [
        "[[  2.21137053e+03   2.09900610e+00   0.00000000e+00]\n",
        " [  1.67920488e-01   4.75583079e+02   0.00000000e+00]]\n",
        "True\n",
        "True\n",
        "True\n",
        "True\n",
        "True\n",
        "True\n"
       ]
      }
     ],
     "prompt_number": 47
    },
    {
     "cell_type": "code",
     "collapsed": false,
     "input": [
      "from numpy.linalg import eig, inv\n",
      "from numpy import exp\n",
      "from numpy import diag\n",
      "\n",
      "right = eig(qmatrix.matrix)[1]\n",
      "eigenvalues = eig(qmatrix.matrix)[0]\n",
      "# print eigenvalues, \"\\n\"\n",
      "left = eig(qmatrix.matrix.T)[1].T\n",
      "print \"Same order left and right: \", all(abs(eigenvalues - eig(qmatrix.matrix.T)[0]) < 1e-8)\n",
      "\n",
      "for eigenvalue, eigenvector in zip(eigenvalues, right.T): \n",
      "    null_mat = qmatrix.matrix - eigenvalue * identity(qmatrix.matrix.shape[0])\n",
      "    print \"Is right eig: \", all(abs(dot(null_mat, eigenvector)) < 1e-8), eigenvalue\n",
      "for eigenvalue, eigenvector in zip(eigenvalues, left): \n",
      "    null_mat = qmatrix.matrix - eigenvalue * identity(qmatrix.matrix.shape[0])\n",
      "    print \"Is left eig: \", all(abs(dot(eigenvector, null_mat)) < 1e-8), eigenvalue\n",
      "\n",
      "for eigenvalue, eigenvector in zip(eigenvalues, inv(right)): \n",
      "    null_mat = qmatrix.matrix - eigenvalue * identity(qmatrix.matrix.shape[0])\n",
      "    print \"Is row of inv(right) a left eigenvector: \", all(abs(dot(eigenvector, null_mat)) < 1e-8), eigenvalue\n",
      "for eigenvalue, eigenvector in zip(eigenvalues, inv(left).T): \n",
      "    null_mat = qmatrix.matrix - eigenvalue * identity(qmatrix.matrix.shape[0])\n",
      "    print \"Is column of inv(left) a right eigenvector: \", all(abs(dot(null_mat, eigenvector)) < 1e-8), eigenvalue\n",
      "    "
     ],
     "language": "python",
     "metadata": {},
     "outputs": [
      {
       "output_type": "stream",
       "stream": "stdout",
       "text": [
        "Same order left and right:  True\n",
        "Is right eig:  True -19408.2022554\n",
        "Is right eig:  True -3093.52723698\n",
        "Is right eig:  True -2022.1192695\n",
        "Is right eig:  True 3.66326808441e-13\n",
        "Is right eig:  True -101.8179048\n",
        "Is left eig:  True -19408.2022554\n",
        "Is left eig:  True -3093.52723698\n",
        "Is left eig:  True -2022.1192695\n",
        "Is left eig:  True 3.66326808441e-13\n",
        "Is left eig:  True -101.8179048\n",
        "Is row of inv(right) a left eigenvector:  True -19408.2022554\n",
        "Is row of inv(right) a left eigenvector:  True -3093.52723698\n",
        "Is row of inv(right) a left eigenvector:  True -2022.1192695\n",
        "Is row of inv(right) a left eigenvector:  True 3.66326808441e-13\n",
        "Is row of inv(right) a left eigenvector:  True -101.8179048\n",
        "Is column of inv(left) a right eigenvector:  True -19408.2022554\n",
        "Is column of inv(left) a right eigenvector:  True -3093.52723698\n",
        "Is column of inv(left) a right eigenvector:  True -2022.1192695\n",
        "Is column of inv(left) a right eigenvector:  True 3.66326808441e-13\n",
        "Is column of inv(left) a right eigenvector:  True -101.8179048\n"
       ]
      }
     ],
     "prompt_number": 2
    },
    {
     "cell_type": "code",
     "collapsed": false,
     "input": [
      "from numpy.linalg import eig, inv\n",
      "from numpy import exp\n",
      "from numpy import diag\n",
      "\n",
      "Qmatrix2 = qmatrix.transpose()\n",
      "right = eig(Qmatrix2.matrix)[1]\n",
      "eigenvalues = eig(Qmatrix2.matrix)[0]\n",
      "# print eigenvalues, \"\\n\"\n",
      "left = eig(Qmatrix2.matrix.T)[1].T\n",
      "print \"Same order left and right: \", all(abs(eigenvalues - eig(Qmatrix2.matrix.T)[0]) < 1e-8)\n",
      "\n",
      "for eigenvalue, eigenvector in zip(eigenvalues, right.T): \n",
      "    null_mat = Qmatrix2.matrix - eigenvalue * identity(Qmatrix2.matrix.shape[0])\n",
      "    print \"Is right eig: \", all(abs(dot(null_mat, eigenvector)) < 1e-8), eigenvalue\n",
      "for eigenvalue, eigenvector in zip(eigenvalues, left): \n",
      "    null_mat = Qmatrix2.matrix - eigenvalue * identity(Qmatrix2.matrix.shape[0])\n",
      "    print \"Is left eig: \", all(abs(dot(eigenvector, null_mat)) < 1e-8), eigenvalue\n",
      "\n",
      "for eigenvalue, eigenvector in zip(eigenvalues, inv(right)): \n",
      "    null_mat = Qmatrix2.matrix - eigenvalue * identity(Qmatrix2.matrix.shape[0])\n",
      "    print \"Is row of inv(right) a left eigenvector: \", all(abs(dot(eigenvector, null_mat)) < 1e-8), eigenvalue\n",
      "for eigenvalue, eigenvector in zip(eigenvalues, inv(left).T): \n",
      "    null_mat = Qmatrix2.matrix - eigenvalue * identity(Qmatrix2.matrix.shape[0])\n",
      "    print \"Is column of inv(left) a right eigenvector: \", all(abs(dot(null_mat, eigenvector)) < 1e-8), eigenvalue"
     ],
     "language": "python",
     "metadata": {},
     "outputs": [
      {
       "output_type": "stream",
       "stream": "stdout",
       "text": [
        "Same order left and right:  True\n",
        "Is right eig:  True -19408.2022554\n",
        "Is right eig:  True -3093.52723698\n",
        "Is right eig:  True -2022.1192695\n",
        "Is right eig:  True -4.71122067516e-14\n",
        "Is right eig:  True -101.8179048\n",
        "Is left eig:  True -19408.2022554\n",
        "Is left eig:  True -3093.52723698\n",
        "Is left eig:  True -2022.1192695\n",
        "Is left eig:  True -4.71122067516e-14\n",
        "Is left eig:  True -101.8179048\n",
        "Is row of inv(right) a left eigenvector:  True -19408.2022554\n",
        "Is row of inv(right) a left eigenvector:  True -3093.52723698\n",
        "Is row of inv(right) a left eigenvector:  True -2022.1192695\n",
        "Is row of inv(right) a left eigenvector:  True -4.71122067516e-14\n",
        "Is row of inv(right) a left eigenvector:  True -101.8179048\n",
        "Is column of inv(left) a right eigenvector:  True -19408.2022554\n",
        "Is column of inv(left) a right eigenvector:  True -3093.52723698\n",
        "Is column of inv(left) a right eigenvector:  True -2022.1192695\n",
        "Is column of inv(left) a right eigenvector:  True -4.71122067516e-14\n",
        "Is column of inv(left) a right eigenvector:  True -101.8179048\n"
       ]
      }
     ],
     "prompt_number": 3
    },
    {
     "cell_type": "code",
     "collapsed": false,
     "input": [
      "from numpy import array\n",
      "from dcprogs.likelihood import QMatrix, DeterminantEq, Asymptotes, find_roots, ExactG\n",
      "qmatrix = QMatrix( \n",
      "           array([[ -3050,        50,  3000,      0,    0 ], \n",
      "                  [ 2./3., -1502./3.,     0,    500,    0 ],  \n",
      "                  [    15,         0, -2065,     50, 2000 ],  \n",
      "                  [     0,     15000,  4000, -19000,    0 ],  \n",
      "                  [     0,         0,    10,      0,  -10 ] ]), 2)\n",
      "\n",
      "transitions = qmatrix.transpose()\n",
      "tau = 1e-4\n",
      "exact = ExactG(transitions, tau)\n",
      "equation = DeterminantEq(transitions, tau)\n",
      "roots = find_roots(equation)\n",
      "approx = Asymptotes(equation, roots)\n",
      "eigenvalues = eig(-transitions.matrix)[0][[0, 1, 2, 4, 3]]\n",
      "\n",
      "def C_i10(i): \n",
      "    from numpy import zeros\n",
      "    result = zeros((transitions.nopen, transitions.nopen), dtype='float64')\n",
      "    for j in xrange(transitions.matrix.shape[0]):\n",
      "        if i == j: continue\n",
      "        result += dot(exact.D_af(i), exact.recursion_af(j, 0, 0)) / (eigenvalues[j] - eigenvalues[i])\n",
      "        result -= dot(exact.D_af(j), exact.recursion_af(i, 0, 0)) / (eigenvalues[i] - eigenvalues[j])\n",
      "    return result\n",
      "    \n",
      "def C_i20(i): \n",
      "    from numpy import zeros\n",
      "    result = zeros((transitions.nopen, transitions.nopen), dtype='float64')\n",
      "    for j in xrange(transitions.matrix.shape[0]):\n",
      "        if i == j: continue\n",
      "        result += ( dot(exact.D_af(i), exact.recursion_af(j, 1, 0)) \n",
      "                    + dot(exact.D_af(j), exact.recursion_af(i, 1, 0)) ) / (eigenvalues[j] - eigenvalues[i])\n",
      "        result += ( dot(exact.D_af(i), exact.recursion_af(j, 1, 1)) \n",
      "                    - dot(exact.D_af(j), exact.recursion_af(i, 1, 1)) ) / (eigenvalues[j] - eigenvalues[i])**2\n",
      "    return result\n",
      "\n",
      "def C_i21(i): \n",
      "    result = dot(exact.D_af(i), exact.recursion_af(i, 1, 0)) \n",
      "    for j in xrange(transitions.matrix.shape[0]):\n",
      "        if i == j: continue\n",
      "        result -= dot(exact.D_af(j), exact.recursion_af(i, 1, 1)) / (eigenvalues[i] - eigenvalues[j])\n",
      "    return result\n",
      "\n",
      "def C_i22(i): return dot(exact.D_af(i), exact.recursion_af(i, 1, 1)) * 0.5 \n",
      "\n",
      "print all([all(abs(C_i10(i) - exact.recursion_af(i, 1, 0)) < 1e-8) for i in xrange(5)])\n",
      "print all([all(abs(C_i20(i) - exact.recursion_af(i, 2, 0)) < 1e-8) for i in xrange(5)])\n",
      "print all([all(abs(C_i21(i) - exact.recursion_af(i, 2, 1)) < 1e-8) for i in xrange(5)])\n",
      "print all([all(abs(C_i22(i) - exact.recursion_af(i, 2, 2)) < 1e-8) for i in xrange(5)])\n",
      "    \n",
      "print C_i22(0)\n",
      "print exact.recursion_af(0, 2, 2) \n",
      "#print dot(exact.D_af(1) * exact.recursion_af(1, 1, 1)"
     ],
     "language": "python",
     "metadata": {},
     "outputs": [
      {
       "output_type": "stream",
       "stream": "stdout",
       "text": [
        "True\n",
        "True\n",
        "True\n",
        "True\n",
        "[[  4.44037679e+01  -1.92479231e+02  -4.57813227e+00]\n",
        " [ -1.53983385e+04   6.67479474e+04   1.58760470e+03]\n",
        " [ -2.28906614e-02   9.92252936e-02   2.36008070e-03]]\n",
        "[[  4.44037679e+01  -1.92479231e+02  -4.57813227e+00]\n",
        " [ -1.53983385e+04   6.67479474e+04   1.58760470e+03]\n",
        " [ -2.28906614e-02   9.92252936e-02   2.36008070e-03]]\n"
       ]
      }
     ],
     "prompt_number": 6
    }
   ],
   "metadata": {}
  }
 ]
}
