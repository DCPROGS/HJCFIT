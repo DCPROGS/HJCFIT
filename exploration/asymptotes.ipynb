{
 "cells": [
  {
   "cell_type": "code",
   "execution_count": 1,
   "metadata": {
    "collapsed": true
   },
   "outputs": [],
   "source": [
    "%matplotlib inline"
   ]
  },
  {
   "cell_type": "code",
   "execution_count": 2,
   "metadata": {
    "collapsed": true
   },
   "outputs": [],
   "source": [
    "import numpy as np\n",
    "import matplotlib.pyplot as plt"
   ]
  },
  {
   "cell_type": "code",
   "execution_count": 3,
   "metadata": {
    "collapsed": false
   },
   "outputs": [],
   "source": [
    "from dcprogs.likelihood import DeterminantEq, find_root_intervals, find_roots, QMatrix\n",
    "from dcprogs.likelihood.random import qmatrix as random_qmatrix\n",
    "equation = DeterminantEq(random_qmatrix(), 1e-4)"
   ]
  },
  {
   "cell_type": "code",
   "execution_count": 4,
   "metadata": {
    "collapsed": false
   },
   "outputs": [
    {
     "data": {
      "image/png": "[encoded data removed]",
      "text/plain": [
       "<matplotlib.figure.Figure at 0x10e0d7198>"
      ]
     },
     "metadata": {},
     "output_type": "display_data"
    }
   ],
   "source": [
    "from dcprogs.likelihood import plot_roots\n",
    "plot_roots(equation, size=25000);"
   ]
  },
  {
   "cell_type": "code",
   "execution_count": 5,
   "metadata": {
    "collapsed": false
   },
   "outputs": [
    {
     "data": {
      "text/plain": [
       "[<matplotlib.lines.Line2D at 0x10e4db588>]"
      ]
     },
     "execution_count": 5,
     "metadata": {},
     "output_type": "execute_result"
    },
    {
     "data": {
      "image/png": "[encoded data removed]",
      "text/plain": [
       "<matplotlib.figure.Figure at 0x10e26fa90>"
      ]
     },
     "metadata": {},
     "output_type": "display_data"
    }
   ],
   "source": [
    "fig, ax = plt.subplots(1,1)\n",
    "x = np.arange(-10, 0e0, 1e-2)\n",
    "ax.plot(x, equation(x))"
   ]
  },
  {
   "cell_type": "code",
   "execution_count": 6,
   "metadata": {
    "collapsed": false
   },
   "outputs": [
    {
     "name": "stdout",
     "output_type": "stream",
     "text": [
      "[((-14870.504977321867, -7435.2524886609335), 1), ((-7435.2524886609335, -3717.6262443304668), 1), ((-1.8152471896144857, -0.9076235948072429), 1), ((-0.05672647467545268, -0.049635665341021096), 1), ((-0.049635665341021096, -0.04254485600658951), 1)]\n",
      "[((-9920.504977321867, -9910.504977321867), 1), ((-4500.504977321867, -4490.504977321867), 1), ((-10.504977321867045, -0.5049773218670452), 3)]\n"
     ]
    }
   ],
   "source": [
    "from dcprogs.likelihood import find_root_intervals_brute_force\n",
    "print(find_root_intervals(equation))\n",
    "print(find_root_intervals_brute_force(equation, 10))"
   ]
  },
  {
   "cell_type": "code",
   "execution_count": 7,
   "metadata": {
    "collapsed": false
   },
   "outputs": [
    {
     "name": "stdout",
     "output_type": "stream",
     "text": [
      "True\n"
     ]
    }
   ],
   "source": [
    "def trial():\n",
    "    from numpy import all\n",
    "    from dcprogs.likelihood import DeterminantEq, find_root_intervals, find_roots, QMatrix\n",
    "    from dcprogs.likelihood.random import qmatrix as random_qmatrix\n",
    "    \n",
    "    while True:\n",
    "        #try: \n",
    "            matrix = random_qmatrix()\n",
    "            equation = DeterminantEq(matrix, 1e-4)\n",
    "            return all([r[1] == 1 for r in find_roots(equation)])\n",
    "        \n",
    "        #except: continue\n",
    "\n",
    "\n",
    "print(all([trial() for i in range(500)]))\n"
   ]
  },
  {
   "cell_type": "markdown",
   "metadata": {},
   "source": [
    "Asymptotic vs Exact for classic Matrix\n",
    "--------------------------------------"
   ]
  },
  {
   "cell_type": "code",
   "execution_count": 8,
   "metadata": {
    "collapsed": false
   },
   "outputs": [],
   "source": [
    "from numpy import array\n",
    "from dcprogs.likelihood import QMatrix, DeterminantEq, Asymptotes, find_roots\n",
    "qmatrix = QMatrix( \n",
    "           array([[ -3050,        50,  3000,      0,    0 ], \n",
    "                  [ 2./3., -1502./3.,     0,    500,    0 ],  \n",
    "                  [    15,         0, -2065,     50, 2000 ],  \n",
    "                  [     0,     15000,  4000, -19000,    0 ],  \n",
    "                  [     0,         0,    10,      0,  -10 ] ]), 2)\n",
    "equation = DeterminantEq(qmatrix, 1e-4)\n",
    "roots = find_roots(equation)\n",
    "asymptotes = Asymptotes(equation, roots)"
   ]
  },
  {
   "cell_type": "code",
   "execution_count": 9,
   "metadata": {
    "collapsed": false
   },
   "outputs": [
    {
     "name": "stdout",
     "output_type": "stream",
     "text": [
      "[[  2.21137053e+03   2.09900610e+00   0.00000000e+00]\n",
      " [  1.67920488e-01   4.75583079e+02   0.00000000e+00]]\n",
      "True\n",
      "True\n",
      "True\n",
      "True\n",
      "True\n",
      "True\n"
     ]
    }
   ],
   "source": [
    "from dcprogs.likelihood import expm, eig, inv\n",
    "transitions = qmatrix.transpose()\n",
    "\n",
    "right = eig(transitions.matrix)[1]\n",
    "eigenvalues = eig(transitions.matrix)[0]\n",
    "left = eig(transitions.matrix.T)[1].T\n",
    "\n",
    "tau = 1e-4\n",
    "af_factor = np.dot(expm(tau * transitions.ff), transitions.fa)\n",
    "print(af_factor)\n",
    "print(np.all(abs(af_factor - np.dot(expm(tau * qmatrix.aa), qmatrix.af)) < 1e-8))\n",
    "for i, j  in zip(range(5), [0, 1, 2, 4, 3]):\n",
    "    col = right[:transitions.nopen, i]\n",
    "    row = inv(right)[i, transitions.nopen:]\n",
    "    one_way = np.dot(np.outer(col, row), af_factor)\n",
    "    col = eig(qmatrix.matrix)[1][qmatrix.nopen:, i]\n",
    "    row = inv(eig(qmatrix.matrix)[1])[i, :qmatrix.nopen]\n",
    "    other_way = np.dot(np.outer(col, row), np.dot(expm(tau * qmatrix.aa), qmatrix.af))\n",
    "    print(np.all(abs(one_way - other_way) < 1e-8))\n",
    "    # print i, \" is ok\", all(abs(np.dot(outer(col, row), af_factor) - ExactG(transitions, 1e-4).D_af(j)) < 1e-8)\n",
    "    # print\n",
    "    # print ExactG(transitions, tau).D_af(i)\n",
    "    "
   ]
  },
  {
   "cell_type": "code",
   "execution_count": 10,
   "metadata": {
    "collapsed": false
   },
   "outputs": [
    {
     "name": "stdout",
     "output_type": "stream",
     "text": [
      "[ -1.94082023e+04  -3.09352724e+03  -2.02211927e+03  -1.01817905e+02\n",
      "  -3.97221336e-14]\n",
      "[ -1.94082023e+04  -3.09352724e+03  -2.02211927e+03  -1.01817905e+02\n",
      "  -3.41740525e-14]\n",
      "Same order left and right:  True\n",
      "Is right eig:  True -19408.2022554\n",
      "Is right eig:  True -3093.52723698\n",
      "Is right eig:  True -2022.1192695\n",
      "Is right eig:  True -101.8179048\n",
      "Is right eig:  True -3.41740524716e-14\n",
      "Is left eig:  True -3093.52723698\n",
      "Is left eig:  True -2022.1192695\n",
      "Is left eig:  True -3.97221336337e-14\n",
      "Is left eig:  True -19408.2022554\n",
      "Is left eig:  True -101.8179048\n",
      "Is row of inv(right) a left eigenvector:  True -19408.2022554\n",
      "Is row of inv(right) a left eigenvector:  True -3093.52723698\n",
      "Is row of inv(right) a left eigenvector:  True -2022.1192695\n",
      "Is row of inv(right) a left eigenvector:  True -101.8179048\n",
      "Is row of inv(right) a left eigenvector:  True -3.41740524716e-14\n",
      "Is column of inv(left) a right eigenvector:  False -19408.2022554\n",
      "Is column of inv(left) a right eigenvector:  False -3093.52723698\n",
      "Is column of inv(left) a right eigenvector:  False -2022.1192695\n",
      "Is column of inv(left) a right eigenvector:  False -101.8179048\n",
      "Is column of inv(left) a right eigenvector:  False -3.41740524716e-14\n"
     ]
    }
   ],
   "source": [
    "from dcprogs.likelihood import eig, inv\n",
    "from numpy import exp\n",
    "from numpy import diag\n",
    "\n",
    "right = eig(qmatrix.matrix)[1]\n",
    "eigenvalues = eig(qmatrix.matrix)[0]\n",
    "# print eigenvalues, \"\\n\"\n",
    "left = eig(qmatrix.matrix.T)[1].T\n",
    "indices = [-2, 0, 1, -1, 2]\n",
    "print(eig(qmatrix.matrix.T)[0][indices])\n",
    "print(eigenvalues)\n",
    "print(\"Same order left and right: \", all(abs(eigenvalues - eig(qmatrix.matrix.T)[0][indices]) < 1e-8))\n",
    "\n",
    "for eigenvalue, eigenvector in zip(eigenvalues, right.T): \n",
    "    null_mat = qmatrix.matrix - eigenvalue * np.identity(qmatrix.matrix.shape[0])\n",
    "    print(\"Is right eig: \", all(abs(np.dot(null_mat, eigenvector)) < 1e-8), eigenvalue)\n",
    "for eigenvalue, eigenvector in zip(eig(qmatrix.matrix.T)[0], left): \n",
    "    null_mat = qmatrix.matrix - eigenvalue * np.identity(qmatrix.matrix.shape[0])\n",
    "    print(\"Is left eig: \", all(abs(np.dot(eigenvector, null_mat)) < 1e-8), eigenvalue)\n",
    "\n",
    "for eigenvalue, eigenvector in zip(eigenvalues, inv(right)): \n",
    "    null_mat = qmatrix.matrix - eigenvalue * np.identity(qmatrix.matrix.shape[0])\n",
    "    print(\"Is row of inv(right) a left eigenvector: \", all(abs(np.dot(eigenvector, null_mat)) < 1e-8), eigenvalue)\n",
    "for eigenvalue, eigenvector in zip(eigenvalues, inv(left).T): \n",
    "    null_mat = qmatrix.matrix - eigenvalue * np.identity(qmatrix.matrix.shape[0])\n",
    "    print(\"Is column of inv(left) a right eigenvector: \", all(abs(np.dot(null_mat, eigenvector)) < 1e-8), eigenvalue)\n",
    "    "
   ]
  },
  {
   "cell_type": "code",
   "execution_count": 11,
   "metadata": {
    "collapsed": false
   },
   "outputs": [
    {
     "name": "stdout",
     "output_type": "stream",
     "text": [
      "Same order left and right:  True\n",
      "Is right eig:  True -19408.2022554\n",
      "Is right eig:  True -3093.52723698\n",
      "Is right eig:  True -2022.1192695\n",
      "Is right eig:  True -6.87879822226e-14\n",
      "Is right eig:  True -101.8179048\n",
      "Is left eig:  True -19408.2022554\n",
      "Is left eig:  True -3093.52723698\n",
      "Is left eig:  True -2022.1192695\n",
      "Is left eig:  True -6.87879822226e-14\n",
      "Is left eig:  True -101.8179048\n",
      "Is row of inv(right) a left eigenvector:  True -19408.2022554\n",
      "Is row of inv(right) a left eigenvector:  True -3093.52723698\n",
      "Is row of inv(right) a left eigenvector:  True -2022.1192695\n",
      "Is row of inv(right) a left eigenvector:  True -6.87879822226e-14\n",
      "Is row of inv(right) a left eigenvector:  True -101.8179048\n",
      "Is column of inv(left) a right eigenvector:  True -19408.2022554\n",
      "Is column of inv(left) a right eigenvector:  True -3093.52723698\n",
      "Is column of inv(left) a right eigenvector:  True -2022.1192695\n",
      "Is column of inv(left) a right eigenvector:  True -6.87879822226e-14\n",
      "Is column of inv(left) a right eigenvector:  True -101.8179048\n"
     ]
    }
   ],
   "source": [
    "from numpy.linalg import eig, inv\n",
    "from dcprogs.likelihood import eig as dceig\n",
    "from dcprogs.likelihood import inv as dcinv\n",
    "from numpy import exp\n",
    "from numpy import diag\n",
    "\n",
    "Qmatrix2 = qmatrix.transpose()\n",
    "try:\n",
    "    right = eig(Qmatrix2.matrix)[1]\n",
    "    eigenvalues = eig(Qmatrix2.matrix)[0]\n",
    "    eigenvaluesT = eig(Qmatrix2.matrix.T)[0]\n",
    "    left = eig(Qmatrix2.matrix.T)[1].T\n",
    "    invmat = inv(right)\n",
    "    invmatL = inv(left).T\n",
    "except: #fallback for longdoubles to eigen\n",
    "    right = dceig(Qmatrix2.matrix)[1]\n",
    "    eigenvalues = dceig(Qmatrix2.matrix)[0]\n",
    "    left = dceig(Qmatrix2.matrix.T)[1].T\n",
    "    eigenvaluesT = dceig(Qmatrix2.matrix.T)[0]\n",
    "    invmat = dcinv(right)\n",
    "    invmatL = dcinv(left).T\n",
    "    \n",
    "print(\"Same order left and right: \", all(abs(eigenvalues - eigenvaluesT) < 1e-8))\n",
    "\n",
    "for eigenvalue, eigenvector in zip(eigenvalues, right.T): \n",
    "    null_mat = Qmatrix2.matrix - eigenvalue * np.identity(Qmatrix2.matrix.shape[0])\n",
    "    print(\"Is right eig: \", all(abs(np.dot(null_mat, eigenvector)) < 1e-8), eigenvalue)\n",
    "for eigenvalue, eigenvector in zip(eigenvalues, left): \n",
    "    null_mat = Qmatrix2.matrix - eigenvalue * np.identity(Qmatrix2.matrix.shape[0])\n",
    "    print(\"Is left eig: \", all(abs(np.dot(eigenvector, null_mat)) < 1e-8), eigenvalue)\n",
    "\n",
    "for eigenvalue, eigenvector in zip(eigenvalues, invmat): \n",
    "    null_mat = Qmatrix2.matrix - eigenvalue * np.identity(Qmatrix2.matrix.shape[0])\n",
    "    print(\"Is row of inv(right) a left eigenvector: \", all(abs(np.dot(eigenvector, null_mat)) < 1e-8), eigenvalue)\n",
    "for eigenvalue, eigenvector in zip(eigenvalues, invmatL): \n",
    "    null_mat = Qmatrix2.matrix - eigenvalue * np.identity(Qmatrix2.matrix.shape[0])\n",
    "    print(\"Is column of inv(left) a right eigenvector: \", all(abs(np.dot(null_mat, eigenvector)) < 1e-8), eigenvalue)"
   ]
  },
  {
   "cell_type": "code",
   "execution_count": 12,
   "metadata": {
    "collapsed": false
   },
   "outputs": [
    {
     "name": "stdout",
     "output_type": "stream",
     "text": [
      "False\n",
      "False\n",
      "False\n",
      "True\n",
      "[[  4.44037679e+01  -1.92479231e+02  -4.57813227e+00]\n",
      " [ -1.53983385e+04   6.67479474e+04   1.58760470e+03]\n",
      " [ -2.28906614e-02   9.92252936e-02   2.36008070e-03]]\n",
      "[[  4.44037679e+01  -1.92479231e+02  -4.57813227e+00]\n",
      " [ -1.53983385e+04   6.67479474e+04   1.58760470e+03]\n",
      " [ -2.28906614e-02   9.92252936e-02   2.36008070e-03]]\n"
     ]
    }
   ],
   "source": [
    "from numpy import array\n",
    "from dcprogs.likelihood import QMatrix, DeterminantEq, Asymptotes, find_roots, ExactSurvivor\n",
    "qmatrix = QMatrix( \n",
    "           array([[ -3050,        50,  3000,      0,    0 ], \n",
    "                  [ 2./3., -1502./3.,     0,    500,    0 ],  \n",
    "                  [    15,         0, -2065,     50, 2000 ],  \n",
    "                  [     0,     15000,  4000, -19000,    0 ],  \n",
    "                  [     0,         0,    10,      0,  -10 ] ]), 2)\n",
    "\n",
    "transitions = qmatrix.transpose()\n",
    "tau = 1e-4\n",
    "exact = ExactSurvivor(transitions, tau)\n",
    "equation = DeterminantEq(transitions, tau)\n",
    "roots = find_roots(equation)\n",
    "approx = Asymptotes(equation, roots)\n",
    "try:\n",
    "    eigenvalues = eig(-transitions.matrix)[0]\n",
    "except:\n",
    "    eigenvalues = dceig(-transitions.matrix)[0]\n",
    "\n",
    "def C_i10(i): \n",
    "    from numpy import zeros\n",
    "    result = zeros((transitions.nopen, transitions.nopen), dtype='float64')\n",
    "    for j in range(transitions.matrix.shape[0]):\n",
    "        if i == j: continue\n",
    "        result += np.dot(exact.D_af(i), exact.recursion_af(j, 0, 0)) / (eigenvalues[j] - eigenvalues[i])\n",
    "        result -= np.dot(exact.D_af(j), exact.recursion_af(i, 0, 0)) / (eigenvalues[i] - eigenvalues[j])\n",
    "    return result\n",
    "    \n",
    "def C_i20(i): \n",
    "    from numpy import zeros\n",
    "    result = zeros((transitions.nopen, transitions.nopen), dtype='float64')\n",
    "    for j in range(transitions.matrix.shape[0]):\n",
    "        if i == j: continue\n",
    "        result += ( np.dot(exact.D_af(i), exact.recursion_af(j, 1, 0)) \n",
    "                    + np.dot(exact.D_af(j), exact.recursion_af(i, 1, 0)) ) / (eigenvalues[j] - eigenvalues[i])\n",
    "        result += ( np.dot(exact.D_af(i), exact.recursion_af(j, 1, 1)) \n",
    "                    - np.dot(exact.D_af(j), exact.recursion_af(i, 1, 1)) ) / (eigenvalues[j] - eigenvalues[i])**2\n",
    "    return result\n",
    "\n",
    "def C_i21(i): \n",
    "    result = np.dot(exact.D_af(i), exact.recursion_af(i, 1, 0)) \n",
    "    for j in range(transitions.matrix.shape[0]):\n",
    "        if i == j: continue\n",
    "        result -= np.dot(exact.D_af(j), exact.recursion_af(i, 1, 1)) / (eigenvalues[i] - eigenvalues[j])\n",
    "    return result\n",
    "\n",
    "def C_i22(i): return np.dot(exact.D_af(i), exact.recursion_af(i, 1, 1)) * 0.5 \n",
    "\n",
    "print(np.all([np.all(abs(C_i10(i) - exact.recursion_af(i, 1, 0)) < 1e-8) for i in range(5)]))\n",
    "print(np.all([np.all(abs(C_i20(i) - exact.recursion_af(i, 2, 0)) < 1e-8) for i in range(5)]))\n",
    "print(np.all([np.all(abs(C_i21(i) - exact.recursion_af(i, 2, 1)) < 1e-8) for i in range(5)]))\n",
    "print(np.all([np.all(abs(C_i22(i) - exact.recursion_af(i, 2, 2)) < 1e-8) for i in range(5)]))\n",
    "    \n",
    "print(C_i22(0))\n",
    "print(exact.recursion_af(0, 2, 2))\n",
    "#print np.dot(exact.D_af(1) * exact.recursion_af(1, 1, 1)"
   ]
  },
  {
   "cell_type": "code",
   "execution_count": null,
   "metadata": {
    "collapsed": true
   },
   "outputs": [],
   "source": []
  },
  {
   "cell_type": "code",
   "execution_count": null,
   "metadata": {
    "collapsed": true
   },
   "outputs": [],
   "source": []
  }
 ],
 "metadata": {
  "kernelspec": {
   "display_name": "Python 3",
   "language": "python",
   "name": "python3"
  },
  "language_info": {
   "codemirror_mode": {
    "name": "ipython",
    "version": 3
   },
   "file_extension": ".py",
   "mimetype": "text/x-python",
   "name": "python",
   "nbconvert_exporter": "python",
   "pygments_lexer": "ipython3",
   "version": "3.5.2"
  }
 },
 "nbformat": 4,
 "nbformat_minor": 0
}
