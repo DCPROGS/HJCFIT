{
 "metadata": {
  "name": "asymptotes"
 },
 "nbformat": 3,
 "nbformat_minor": 0,
 "worksheets": [
  {
   "cells": [
    {
     "cell_type": "code",
     "collapsed": false,
     "input": [
      "from numpy import array, min, max\n",
      "from scipy.optimize import brentq\n",
      "from dcprogs.likelihood import DeterminantEq, find_root_intervals, find_roots, StateMatrix\n",
      "from dcprogs.random import state_matrix as random_state_matrix\n",
      "\n",
      "matrix = array([[ -3050,        50,  3000,      0,    0 ], \n",
      "                [ 2./3., -1502./3.,     0,    500,    0 ],  \n",
      "                [    15,         0, -2065,     50, 2000 ],  \n",
      "                [     0,     15000,  4000, -19000,    0 ],  \n",
      "                [     0,         0,    10,      0,  -10 ] ])\n",
      "matrix = StateMatrix(matrix, 2)\n",
      "matrix = random_state_matrix()\n",
      "equation = DeterminantEq(matrix, 1e-4, True)\n",
      "\n",
      "intervals = find_root_intervals(equation)\n",
      "mini = min(intervals[0][0])\n",
      "maxi = min(intervals[0][0])\n",
      "for interval in intervals[1:]:\n",
      "    mini = min([mini] + list(interval[0]))\n",
      "    maxi = max([maxi] + list(interval[0]))\n",
      "roots = find_roots(equation, intervals)\n",
      "mini = min([r[0] for r in roots]) * 1.05\n",
      "maxi = 0\n",
      "\n",
      "x = arange(mini, maxi)\n",
      "print x"
     ],
     "language": "python",
     "metadata": {},
     "outputs": [
      {
       "output_type": "stream",
       "stream": "stdout",
       "text": [
        "[ -9.29954991e+03  -9.29854991e+03  -9.29754991e+03 ...,  -2.54990888e+00\n",
        "  -1.54990888e+00  -5.49908876e-01]\n"
       ]
      }
     ],
     "prompt_number": 33
    },
    {
     "cell_type": "code",
     "collapsed": false,
     "input": [
      "x = arange(mini, maxi, (maxi - mini)/1000)\n",
      "y = equation(x)\n",
      "\n",
      "ymin, ymax = min(y), max(y)\n",
      "ymin = ymin - (ymax - ymin) * 0.05\n",
      "ymax = ymax + (ymax - ymin) * 0.05\n",
      "\n",
      "plot(x, y)\n",
      "ax = gca()\n",
      "ax.set_xlim((x[0], x[-1]))\n",
      "ax.set_ylim((ymin, ymax))\n",
      "for root in roots: ax.plot([root[0], root[0]], [ymin, 0])\n",
      "ax.plot([x[0], x[-1]], [0, 0])"
     ],
     "language": "python",
     "metadata": {},
     "outputs": [
      {
       "output_type": "pyout",
       "prompt_number": 34,
       "text": [
        "[<matplotlib.lines.Line2D at 0x105c77610>]"
       ]
      },
      {
       "output_type": "display_data",
       "png": "[encoded data removed]"
      }
     ],
     "prompt_number": 34
    },
    {
     "cell_type": "code",
     "collapsed": false,
     "input": [
      "print matrix"
     ],
     "language": "python",
     "metadata": {},
     "outputs": [
      {
       "output_type": "stream",
       "stream": "stdout",
       "text": [
        "Transition matrix with 1 open states:\n",
        "[[ -5061.377736206646,                   0,  0.6589083923959587,                   0,   5059.156976186455,                   0,                   0,  0.9629292102346286,  0.5989224175608725],\n",
        " [                  0, -0.2753820475706507,                   0,  0.2753820475706507,                   0,                   0,                   0,                   0,                   0],\n",
        " [ 0.8394414252092781,                   0,  -2.422940154329371, 0.03999858804240342,                   0,  0.6712819227868362, 0.08740815155608517,  0.4343492927126928,  0.3504607740220754],\n",
        " [                  0,    969.010147431949,    0.73784260364729,  -970.3309449615062,  0.5829549259098712,                   0,                   0,                   0,                   0],\n",
        " [ 0.3941136781049147,                   0,                   0,  0.2799272002631639,  -1.332111644038727,  0.1687784670991395,                   0,                   0,  0.4892922985715091],\n",
        " [                  0,                   0,  0.9999621953580993,                   0,  0.3802960701495435,  -2.127828662437012,                   0,  0.7475703969293696,                   0],\n",
        " [                  0,                   0,   367.1674238493994,                   0,                   0,                   0,  -367.5806711963989,  0.4132473469995431,                   0],\n",
        " [  8669.112247347764,                   0,  0.3602638402094649,                   0,                   0,  0.3238674649336131,  0.6022471271212269,  -8670.398625780028,                   0],\n",
        " [ 0.2704217232131592,                   0,  0.5344408812904151,                   0,   3634.441392789694,                   0,                   0,                   0,  -3635.246255394198]]\n",
        "\n"
       ]
      }
     ],
     "prompt_number": 26
    },
    {
     "cell_type": "code",
     "collapsed": false,
     "input": [],
     "language": "python",
     "metadata": {},
     "outputs": []
    }
   ],
   "metadata": {}
  }
 ]
}