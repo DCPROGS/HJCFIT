{
 "metadata": {
  "name": "asymptotes"
 },
 "nbformat": 3,
 "nbformat_minor": 0,
 "worksheets": [
  {
   "cells": [
    {
     "cell_type": "code",
     "collapsed": false,
     "input": [
      "from numpy import array\n",
      "\n",
      "class DeterminantEq(object):\n",
      "    def __init__(self, matrix, nopen, tau, doopen=True):\n",
      "        import ctypes\n",
      "        from numpy import array\n",
      "        libloc = \"/Users/mdavezac/usr/src/dcprogs/build/likelihood/liblikelihood.dylib\"\n",
      "        self._likelihood = ctypes.CDLL(libloc)\n",
      "        self._likelihood.create_determinant_eq.argtypes = [\n",
      "            ctypes.c_int, ctypes.c_int, ctypes.POINTER(ctypes.c_double),  ctypes.c_int,\n",
      "            ctypes.c_double, ctypes.c_bool ]\n",
      "        self._likelihood.create_determinant_eq.restype = ctypes.c_void_p\n",
      "        self._likelihood.delete_determinant_eq.argtypes = [ctypes.c_void_p]\n",
      "        self._likelihood.call_determinant_eq.argtypes = [ctypes.c_void_p, ctypes.c_double]\n",
      "        self._likelihood.call_determinant_eq.restype = ctypes.c_double\n",
      "        self._likelihood.str_determinant_eq.argtypes = [ctypes.c_void_p]\n",
      "        self._likelihood.str_determinant_eq.restype = ctypes.c_char_p\n",
      "        \n",
      "        matrix = array(matrix, dtype=\"float64\")\n",
      "        self._c_handle = self._likelihood.create_determinant_eq(\n",
      "             matrix.shape[0], matrix.shape[1],\n",
      "             matrix.ctypes.data_as(ctypes.POINTER(ctypes.c_double)),\n",
      "             int(nopen), float(tau), bool(doopen))\n",
      "    def __del__(self): \n",
      "        if hasattr(self, '_c_handle'):\n",
      "          c_handle = self._c_handle\n",
      "          del self._c_handle\n",
      "          self._likelihood.delete_determinant_eq(c_handle)\n",
      "    def __call__(self, s):\n",
      "        return self._likelihood.call_determinant_eq(self._c_handle, s)\n",
      "    def __str__(self): \n",
      "        return self._likelihood.str_determinant_eq(self._c_handle)\n",
      "            \n",
      "matrix = array([[ -3050,        50,  3000,      0,    0 ], \n",
      "                [ 2./3., -1502./3.,     0,    500,    0 ],  \n",
      "                [    15,         0, -2065,     50, 2000 ],  \n",
      "                [     0,     15000,  4000, -19000,    0 ],  \n",
      "                [     0,         0,    10,      0,  -10 ] ])\n",
      "a = DeterminantEq(matrix, 2, 0.15, True)"
     ],
     "language": "python",
     "metadata": {},
     "outputs": [],
     "prompt_number": 1
    },
    {
     "cell_type": "code",
     "collapsed": false,
     "input": [
      "print a(1)"
     ],
     "language": "python",
     "metadata": {},
     "outputs": [
      {
       "output_type": "stream",
       "stream": "stdout",
       "text": [
        "389980.756909\n"
       ]
      }
     ],
     "prompt_number": 3
    },
    {
     "cell_type": "code",
     "collapsed": false,
     "input": [
      "from numpy import arraygT"
     ],
     "language": "python",
     "metadata": {},
     "outputs": [],
     "prompt_number": "*"
    }
   ],
   "metadata": {}
  }
 ]
}