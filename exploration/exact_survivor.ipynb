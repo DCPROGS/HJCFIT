{
 "cells": [
  {
   "cell_type": "markdown",
   "metadata": {},
   "source": [
    "Exact Survivor Function\n",
    "=======================\n",
    "\n",
    "This is equation 3.12 from [Hawkes, Jalali, Colqhoun (1990)](http://dx.doi.org/10.1098/rsta.1990.0129). A simpler form is also given in [Colquhoun, Hawkes and Srodzinski (1996)](http://dx.doi.org/10.1098/rsta.1996.0115).\n",
    "\n",
    "These equations were performed in two parts: \n",
    "\n",
    "- the recurrence on the one side (recursion_formula.h). It is a set of template functions. This means it can be tested more simply on scalars (rather than matrices, as in the paper), as is done in tests/recursion_formula.cc.\n",
    "- the acrutal survivor functions $^{A}R(t)$ and $^{F}R(t)$ are implemented as instances of exact_survivor.cc:ExactSurvivor::RecursionInterface. \n",
    "\n",
    "\n",
    "Checking the implementation\n",
    "---------------------------\n",
    "\n",
    "The classic  $Q$ matrix first:"
   ]
  },
  {
   "cell_type": "code",
   "execution_count": 1,
   "metadata": {
    "collapsed": true
   },
   "outputs": [],
   "source": [
    "%matplotlib inline"
   ]
  },
  {
   "cell_type": "code",
   "execution_count": 2,
   "metadata": {
    "collapsed": true
   },
   "outputs": [],
   "source": [
    "import numpy as np\n",
    "import matplotlib.pyplot as plt"
   ]
  },
  {
   "cell_type": "code",
   "execution_count": 3,
   "metadata": {
    "collapsed": false
   },
   "outputs": [],
   "source": [
    "from numpy import array\n",
    "from dcprogs.likelihood import QMatrix, DeterminantEq, Asymptotes, find_roots, ExactSurvivor\n",
    "qmatrix = QMatrix( \n",
    "           array([[ -3050,        50,  3000,      0,    0 ], \n",
    "                  [ 2./3., -1502./3.,     0,    500,    0 ],  \n",
    "                  [    15,         0, -2065,     50, 2000 ],  \n",
    "                  [     0,     15000,  4000, -19000,    0 ],  \n",
    "                  [     0,         0,    10,      0,  -10 ] ]), 2)\n"
   ]
  },
  {
   "cell_type": "markdown",
   "metadata": {},
   "source": [
    "Then compares a few recursion terms by hand and by c++"
   ]
  },
  {
   "cell_type": "code",
   "execution_count": 4,
   "metadata": {
    "collapsed": false
   },
   "outputs": [
    {
     "name": "stdout",
     "output_type": "stream",
     "text": [
      "True\n",
      "True\n",
      "True\n",
      "True\n"
     ]
    }
   ],
   "source": [
    "from numpy import array\n",
    "from dcprogs.likelihood import QMatrix, DeterminantEq, Asymptotes, find_roots, ExactSurvivor, eig\n",
    "qmatrix = QMatrix( \n",
    "           array([[ -3050,        50,  3000,      0,    0 ], \n",
    "                  [ 2./3., -1502./3.,     0,    500,    0 ],  \n",
    "                  [    15,         0, -2065,     50, 2000 ],  \n",
    "                  [     0,     15000,  4000, -19000,    0 ],  \n",
    "                  [     0,         0,    10,      0,  -10 ] ]), 2)\n",
    "\n",
    "transitions = qmatrix.transpose()\n",
    "tau = 1e-4\n",
    "exact = ExactSurvivor(transitions, tau)\n",
    "equation = DeterminantEq(transitions, tau)\n",
    "roots = find_roots(equation)\n",
    "approx = Asymptotes(equation, roots)\n",
    "eigenvalues = eig(-transitions.matrix)[0]\n",
    "\n",
    "def C_i10(i): \n",
    "    from numpy import zeros\n",
    "    result = zeros((transitions.nopen, transitions.nopen), dtype='float64')\n",
    "    for j in range(transitions.matrix.shape[0]):\n",
    "        if i == j: continue\n",
    "        result += np.dot(exact.D_af(i), exact.recursion_af(j, 0, 0)) / (eigenvalues[j] - eigenvalues[i])\n",
    "        result -= np.dot(exact.D_af(j), exact.recursion_af(i, 0, 0)) / (eigenvalues[i] - eigenvalues[j])\n",
    "    return result\n",
    "    \n",
    "def C_i20(i): \n",
    "    from numpy import zeros\n",
    "    result = zeros((transitions.nopen, transitions.nopen), dtype='float64')\n",
    "    for j in range(transitions.matrix.shape[0]):\n",
    "        if i == j: continue\n",
    "        result += ( np.dot(exact.D_af(i), exact.recursion_af(j, 1, 0)) \n",
    "                    + np.dot(exact.D_af(j), exact.recursion_af(i, 1, 0)) ) / (eigenvalues[j] - eigenvalues[i])\n",
    "        result += ( np.dot(exact.D_af(i), exact.recursion_af(j, 1, 1)) \n",
    "                    - np.dot(exact.D_af(j), exact.recursion_af(i, 1, 1)) ) / (eigenvalues[j] - eigenvalues[i])**2\n",
    "    return result\n",
    "\n",
    "def C_i21(i): \n",
    "    result = np.dot(exact.D_af(i), exact.recursion_af(i, 1, 0)) \n",
    "    for j in range(transitions.matrix.shape[0]):\n",
    "        if i == j: continue\n",
    "        result -= np.dot(exact.D_af(j), exact.recursion_af(i, 1, 1)) / (eigenvalues[i] - eigenvalues[j])\n",
    "    return result\n",
    "\n",
    "def C_i22(i): return np.dot(exact.D_af(i), exact.recursion_af(i, 1, 1)) * 0.5 \n",
    "\n",
    "print(np.all([np.all(abs(C_i10(i) - exact.recursion_af(i, 1, 0)) < 1e-8) for i in range(5)]))\n",
    "print(np.all([np.all(abs(C_i20(i) - exact.recursion_af(i, 2, 0)) < 1e-8) for i in range(5)]))\n",
    "print(np.all([np.all(abs(C_i21(i) - exact.recursion_af(i, 2, 1)) < 1e-8) for i in range(5)]))\n",
    "print(np.all([np.all(abs(C_i22(i) - exact.recursion_af(i, 2, 2)) < 1e-8) for i in range(5)]))\n",
    "    "
   ]
  },
  {
   "cell_type": "markdown",
   "metadata": {},
   "source": [
    "Try and compare exact and approx via plot. The following is for $^{A}R(t)$ and $^{F}R(t)$."
   ]
  },
  {
   "cell_type": "code",
   "execution_count": 5,
   "metadata": {
    "collapsed": false
   },
   "outputs": [
    {
     "data": {
      "image/png": "[encoded data removed]",
      "text/plain": [
       "<matplotlib.figure.Figure at 0x1061177b8>"
      ]
     },
     "metadata": {},
     "output_type": "display_data"
    }
   ],
   "source": [
    "tau, i, j, n = 1e-4, 0, 0, 4\n",
    "\n",
    "fig, ax = plt.subplots(2, 1)\n",
    "\n",
    "transitions = qmatrix\n",
    "exact = ExactSurvivor(transitions, tau)\n",
    "equation = DeterminantEq(transitions, tau)\n",
    "roots = find_roots(equation)\n",
    "approx = Asymptotes(equation, roots)\n",
    "\n",
    "x = np.arange(0, n * tau, tau / 10.)\n",
    "ax[0].plot(x, exact.af(x)[:, i, j], label=\"exact\")\n",
    "ax[0].plot(x, approx(x)[:, i, j], '.', label=\"approx\")\n",
    "ax[0].set_title(\"Component ${0}$ of the matrix $^{{A}}R(t)$.\".format((i, j)))\n",
    "ax[0].legend()\n",
    "\n",
    "roots = find_roots(equation.transpose())\n",
    "approx = Asymptotes(equation.transpose(), roots)\n",
    "\n",
    "i, j = 1, 0\n",
    "x = np.arange(0, n*tau, tau / 10.)\n",
    "ax[1].plot(x, exact.fa(x)[:, i, j], label=\"exact\")\n",
    "ax[1].plot(x, approx(x)[:, i, j], '.', label=\"approx\")\n",
    "ax[1].set_title(\"Component ${0}$ of the matrix $^{{F}}R(t)$.\".format((i, j)))\n",
    "ax[1].legend(loc=0)\n",
    "\n",
    "fig.tight_layout()"
   ]
  },
  {
   "cell_type": "code",
   "execution_count": null,
   "metadata": {
    "collapsed": true
   },
   "outputs": [],
   "source": []
  }
 ],
 "metadata": {
  "kernelspec": {
   "display_name": "Python 3",
   "language": "python",
   "name": "python3"
  },
  "language_info": {
   "codemirror_mode": {
    "name": "ipython",
    "version": 3
   },
   "file_extension": ".py",
   "mimetype": "text/x-python",
   "name": "python",
   "nbconvert_exporter": "python",
   "pygments_lexer": "ipython3",
   "version": "3.5.2"
  }
 },
 "nbformat": 4,
 "nbformat_minor": 0
}
