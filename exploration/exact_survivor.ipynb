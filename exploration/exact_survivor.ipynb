{
 "metadata": {
  "name": "exact_survivor"
 },
 "nbformat": 3,
 "nbformat_minor": 0,
 "worksheets": [
  {
   "cells": [
    {
     "cell_type": "markdown",
     "metadata": {},
     "source": [
      "Exact Survivor Function\n",
      "=======================\n",
      "\n",
      "This is equation 3.12 from [Hawkes, Jalali, Colqhoun (1990)](http://dx.doi.org/10.1098/rsta.1990.0129). A simpler form is also given in [Colquhoun, Hawkes and Srodzinski (1996)](http://dx.doi.org/10.1098/rsta.1996.0115).\n",
      "\n",
      "These equations were performed in two parts: \n",
      "\n",
      "- the recurrence on the one side (recursion_formula.h). It is a set of template functions. This means it can be tested more simply on scalars (rather than matrices, as in the paper), as is done in tests/recursion_formula.cc.\n",
      "- the acrutal survivor functions $^{A}R(t)$ and $^{F}R(t)$ are implemented as instances of exact_survivor.cc:ExactSurvivor::RecursionInterface. \n",
      "\n",
      "\n",
      "Checking the implementation\n",
      "---------------------------\n",
      "\n",
      "The classic  $Q$ matrix first:"
     ]
    },
    {
     "cell_type": "code",
     "collapsed": false,
     "input": [
      "from numpy import array\n",
      "from dcprogs.likelihood import QMatrix, DeterminantEq, Asymptotes, find_roots, ExactSurvivor\n",
      "qmatrix = QMatrix( \n",
      "           array([[ -3050,        50,  3000,      0,    0 ], \n",
      "                  [ 2./3., -1502./3.,     0,    500,    0 ],  \n",
      "                  [    15,         0, -2065,     50, 2000 ],  \n",
      "                  [     0,     15000,  4000, -19000,    0 ],  \n",
      "                  [     0,         0,    10,      0,  -10 ] ]), 2)\n"
     ],
     "language": "python",
     "metadata": {},
     "outputs": [],
     "prompt_number": 1
    },
    {
     "cell_type": "markdown",
     "metadata": {},
     "source": [
      "Then compares a few recursion terms by hand and by c++"
     ]
    },
    {
     "cell_type": "code",
     "collapsed": false,
     "input": [
      "from numpy import array\n",
      "from dcprogs.likelihood import QMatrix, DeterminantEq, Asymptotes, find_roots, ExactSurvivor\n",
      "qmatrix = QMatrix( \n",
      "           array([[ -3050,        50,  3000,      0,    0 ], \n",
      "                  [ 2./3., -1502./3.,     0,    500,    0 ],  \n",
      "                  [    15,         0, -2065,     50, 2000 ],  \n",
      "                  [     0,     15000,  4000, -19000,    0 ],  \n",
      "                  [     0,         0,    10,      0,  -10 ] ]), 2)\n",
      "\n",
      "transitions = qmatrix.transpose()\n",
      "tau = 1e-4\n",
      "exact = ExactSurvivor(transitions, tau)\n",
      "equation = DeterminantEq(transitions, tau)\n",
      "roots = find_roots(equation)\n",
      "approx = Asymptotes(equation, roots)\n",
      "eigenvalues = eig(-transitions.matrix)[0][[0, 1, 2, 4, 3]]\n",
      "\n",
      "def C_i10(i): \n",
      "    from numpy import zeros\n",
      "    result = zeros((transitions.nopen, transitions.nopen), dtype='float64')\n",
      "    for j in xrange(transitions.matrix.shape[0]):\n",
      "        if i == j: continue\n",
      "        if abs(eigenvalues[j]) < 1e-8: continue\n",
      "        result += dot(exact.D_af(i), exact.recursion_af(j, 0, 0)) / (eigenvalues[j] - eigenvalues[i])\n",
      "        result -= dot(exact.D_af(j), exact.recursion_af(i, 0, 0)) / (eigenvalues[i] - eigenvalues[j])\n",
      "    return result\n",
      "    \n",
      "def C_i20(i): \n",
      "    from numpy import zeros\n",
      "    result = zeros((transitions.nopen, transitions.nopen), dtype='float64')\n",
      "    for j in xrange(transitions.matrix.shape[0]):\n",
      "        if i == j: continue\n",
      "        if abs(eigenvalues[j]) < 1e-8: continue\n",
      "        result += ( dot(exact.D_af(i), exact.recursion_af(j, 1, 0)) \n",
      "                    + dot(exact.D_af(j), exact.recursion_af(i, 1, 0)) ) / (eigenvalues[j] - eigenvalues[i])\n",
      "        result += ( dot(exact.D_af(i), exact.recursion_af(j, 1, 1)) \n",
      "                    - dot(exact.D_af(j), exact.recursion_af(i, 1, 1)) ) / (eigenvalues[j] - eigenvalues[i])**2\n",
      "    return result\n",
      "\n",
      "def C_i21(i): \n",
      "    result = dot(exact.D_af(i), exact.recursion_af(i, 1, 0)) \n",
      "    for j in xrange(transitions.matrix.shape[0]):\n",
      "        if i == j: continue\n",
      "        if abs(eigenvalues[j]) < 1e-8: continue\n",
      "        result -= dot(exact.D_af(j), exact.recursion_af(i, 1, 1)) / (eigenvalues[i] - eigenvalues[j])\n",
      "    return result\n",
      "\n",
      "def C_i22(i): return dot(exact.D_af(i), exact.recursion_af(i, 1, 1)) * 0.5 \n",
      "\n",
      "print all([all(abs(C_i10(i) - exact.recursion_af(i, 1, 0)) < 1e-8) for i in xrange(5)])\n",
      "print all([all(abs(C_i20(i) - exact.recursion_af(i, 2, 0)) < 1e-8) for i in xrange(5)])\n",
      "print all([all(abs(C_i21(i) - exact.recursion_af(i, 2, 1)) < 1e-8) for i in xrange(5)])\n",
      "print all([all(abs(C_i22(i) - exact.recursion_af(i, 2, 2)) < 1e-8) for i in xrange(5)])\n",
      "    "
     ],
     "language": "python",
     "metadata": {},
     "outputs": [
      {
       "output_type": "stream",
       "stream": "stdout",
       "text": [
        "True\n",
        "True\n",
        "True\n",
        "True\n"
       ]
      }
     ],
     "prompt_number": 5
    },
    {
     "cell_type": "markdown",
     "metadata": {},
     "source": [
      "Try and compare exact and approx via plot. The following is for $^{A}R(t)$."
     ]
    },
    {
     "cell_type": "code",
     "collapsed": false,
     "input": [
      "tau, i, j, n = 1e-4, 0, 0, 5\n",
      "\n",
      "transitions = qmatrix\n",
      "exact = ExactSurvivor(transitions, tau)\n",
      "equation = DeterminantEq(transitions, tau)\n",
      "roots = find_roots(equation)\n",
      "approx = Asymptotes(equation, roots)\n",
      "\n",
      "x = arange(0, n * tau, tau / 10.)\n",
      "plot(x, [exact.af(u)[i, j] for u in x], label=\"exact\")\n",
      "plot(x, [approx(u)[i, j] for u in x], label=\"approx\")\n",
      "title(\"Component ${0}$ of the matrix $^{{A}}R(t)$.\".format((i, j)))\n",
      "legend()\n",
      "display(gcf())"
     ],
     "language": "python",
     "metadata": {},
     "outputs": [
      {
       "output_type": "display_data",
       "png": "[encoded data removed]",
       "text": [
        "<matplotlib.figure.Figure at 0x1161c8e90>"
       ]
      }
     ],
     "prompt_number": 3
    },
    {
     "cell_type": "markdown",
     "metadata": {},
     "source": [
      "However things go haywire if we try to plot $^{{F}}R(t)$."
     ]
    },
    {
     "cell_type": "code",
     "collapsed": false,
     "input": [
      "tau, i, j, n = 1e-4, 1, 0, 4\n",
      "\n",
      "transitions = qmatrix.transpose()\n",
      "exact = ExactSurvivor(transitions, tau)\n",
      "equation = DeterminantEq(transitions, tau)\n",
      "roots = find_roots(equation)\n",
      "approx = Asymptotes(equation, roots)\n",
      "\n",
      "x = arange(0, n * tau, tau / 10.)\n",
      "plot(x, [exact.af(u)[i, j] for u in x], label=\"exact\")\n",
      "plot(x, [approx(u)[i, j] for u in x], label=\"approx\")\n",
      "title(\"Component ${0}$ of the matrix $^{{F}}R(t)$.\".format((i, j)))\n",
      "legend()\n",
      "display(gcf())"
     ],
     "language": "python",
     "metadata": {},
     "outputs": [
      {
       "output_type": "display_data",
       "png": "[encoded data removed]",
       "text": [
        "<matplotlib.figure.Figure at 0x1179afe10>"
       ]
      }
     ],
     "prompt_number": 7
    },
    {
     "cell_type": "markdown",
     "metadata": {},
     "source": [
      "In order to see which term dominates, we print each term in $B_{im}$ for $m=6$.\n",
      "Clearly, it is the result of a single eigenvalue, and a single term $C_{360}$. Unfortunately, this is the one term that is of order 0 in the $B_{im}$ polynomial."
     ]
    },
    {
     "cell_type": "code",
     "collapsed": false,
     "input": [
      "from numpy import max, abs\n",
      "transitions = qmatrix.transpose()\n",
      "exact = ExactSurvivor(transitions, tau)\n",
      "m = 6\n",
      "tau = exact.tau\n",
      "t = 6.1 * tau\n",
      "for i in range(5):\n",
      "    if abs(exact.eigenvalues_af[i]) < 1e-8: continue\n",
      "    print \"eigenvalue \", exact.eigenvalues_af[i]\n",
      "    for r in range(m+1): \n",
      "        print \"  max |C_{{{i}{m}{r}}}({t} - {m}*{tau}**{r})| = {cimr}\"\\\n",
      "              .format(i=i, m=m, r=r, tau=tau, t=t,\n",
      "                      cimr=max(abs(exact.recursion_af(i, m, r) * (t-m*tau)**r)))"
     ],
     "language": "python",
     "metadata": {},
     "outputs": [
      {
       "output_type": "stream",
       "stream": "stdout",
       "text": [
        "eigenvalue  19408.2022554\n",
        "  max |C_{060}(0.00061 - 6*0.0001**0)| = 2.15889192321e-08"
       ]
      },
      {
       "output_type": "stream",
       "stream": "stdout",
       "text": [
        "\n",
        "  max |C_{061}(0.00061 - 6*0.0001**1)| = 2.28348233145e-09"
       ]
      },
      {
       "output_type": "stream",
       "stream": "stdout",
       "text": [
        "\n",
        "  max |C_{062}(0.00061 - 6*0.0001**2)| = 1.10695423756e-10\n",
        "  max |C_{063}(0.00061 - 6*0.0001**3)| = 3.17981707269e-12\n",
        "  max |C_{064}(0.00061 - 6*0.0001**4)| = 5.78008609015e-14\n",
        "  max |C_{065}(0.00061 - 6*0.0001**5)| = 6.40386549608e-16\n",
        "  max |C_{066}(0.00061 - 6*0.0001**6)| = 3.44882436992e-18\n",
        "eigenvalue  3093.52723698\n",
        "  max |C_{160}(0.00061 - 6*0.0001**0)| = 9.42534054704e-07"
       ]
      },
      {
       "output_type": "stream",
       "stream": "stdout",
       "text": [
        "\n",
        "  max |C_{161}(0.00061 - 6*0.0001**1)| = 2.26373931662e-09"
       ]
      },
      {
       "output_type": "stream",
       "stream": "stdout",
       "text": [
        "\n",
        "  max |C_{162}(0.00061 - 6*0.0001**2)| = 2.54020880885e-12\n",
        "  max |C_{163}(0.00061 - 6*0.0001**3)| = 2.57946861741e-15\n",
        "  max |C_{164}(0.00061 - 6*0.0001**4)| = 1.77633336404e-18\n",
        "  max |C_{165}(0.00061 - 6*0.0001**5)| = 4.85168625124e-22\n",
        "  max |C_{166}(0.00061 - 6*0.0001**6)| = 4.83741543715e-26\n",
        "eigenvalue  2022.1192695\n",
        "  max |C_{260}(0.00061 - 6*0.0001**0)| = 1.67776154039e-05"
       ]
      },
      {
       "output_type": "stream",
       "stream": "stdout",
       "text": [
        "\n",
        "  max |C_{261}(0.00061 - 6*0.0001**1)| = 1.9953384845e-08"
       ]
      },
      {
       "output_type": "stream",
       "stream": "stdout",
       "text": [
        "\n",
        "  max |C_{262}(0.00061 - 6*0.0001**2)| = 1.38543438282e-11\n",
        "  max |C_{263}(0.00061 - 6*0.0001**3)| = 7.53442968701e-15\n",
        "  max |C_{264}(0.00061 - 6*0.0001**4)| = 3.22411348959e-18\n",
        "  max |C_{265}(0.00061 - 6*0.0001**5)| = 1.64880983103e-21\n",
        "  max |C_{266}(0.00061 - 6*0.0001**6)| = 7.62052227306e-25\n",
        "eigenvalue  101.8179048\n",
        "  max |C_{360}(0.00061 - 6*0.0001**0)| = 2043.1293669"
       ]
      },
      {
       "output_type": "stream",
       "stream": "stdout",
       "text": [
        "\n",
        "  max |C_{361}(0.00061 - 6*0.0001**1)| = 2.11249489366"
       ]
      },
      {
       "output_type": "stream",
       "stream": "stdout",
       "text": [
        "\n",
        "  max |C_{362}(0.00061 - 6*0.0001**2)| = 0.00109195389575\n",
        "  max |C_{363}(0.00061 - 6*0.0001**3)| = 3.7626020052e-07\n",
        "  max |C_{364}(0.00061 - 6*0.0001**4)| = 9.71226046259e-11\n",
        "  max |C_{365}(0.00061 - 6*0.0001**5)| = 2.03859199031e-14\n",
        "  max |C_{366}(0.00061 - 6*0.0001**6)| = 3.00503627919e-18\n"
       ]
      }
     ],
     "prompt_number": 134
    },
    {
     "cell_type": "markdown",
     "metadata": {},
     "source": [
      "We now print $C_{3m0}$ for a range of $m$. It is noteworthy that for $i=0, 1, 2$, $C_{im0}$ decreases with $m$."
     ]
    },
    {
     "cell_type": "code",
     "collapsed": false,
     "input": [
      "i, tau, r, n = 3, exact.tau, 0, 7\n",
      "for m in range(n):\n",
      "    print \"max |C_{{{i}{m}{r}}}| = {cimr}\"\\\n",
      "          .format(i=i, m=m, r=0, tau=tau, t=t,\n",
      "                  cimr=max(abs(exact.recursion_af(i, m, 0))))\n",
      "for m in range(n):\n",
      "    result = 0\n",
      "    for r in range(1, m+1):\n",
      "        result += abs(exact.recursion_af(i, m, r) * (0.1 * tau)**r)\n",
      "    print \"max sum_{{r=1}}^m |C_{{{i}{m}r}} (0.1*{tau}^r)| = {sum}\"\\\n",
      "          .format(i=i, m=m, r=r, tau=tau, t=t, sum=max(abs(result)))\n",
      "print \"Each time t increases by tau, a factor e^{{-{l}*tau}} = {exp} appears (tau={tau})\" \\\n",
      "      .format(l=exact.eigenvalues_af[3], tau=tau, exp=exp(-exact.eigenvalues_af[3]*tau))"
     ],
     "language": "python",
     "metadata": {},
     "outputs": [
      {
       "output_type": "stream",
       "stream": "stdout",
       "text": [
        "max |C_{300}| = 0.838277172685\n",
        "max |C_{310}| = 3.63128131375\n",
        "max |C_{320}| = 12.904810279\n",
        "max |C_{330}| = 46.1552049662\n",
        "max |C_{340}| = 164.132842754\n",
        "max |C_{350}| = 580.660352203"
       ]
      },
      {
       "output_type": "stream",
       "stream": "stdout",
       "text": [
        "\n",
        "max |C_{360}| = 2043.1293669"
       ]
      },
      {
       "output_type": "stream",
       "stream": "stdout",
       "text": [
        "\n",
        "max sum_{r=1}^m |C_{30r} (0.1*0.0001^r)| = 0\n",
        "max sum_{r=1}^m |C_{31r} (0.1*0.0001^r)| = 0.00310470305696\n",
        "max sum_{r=1}^m |C_{32r} (0.1*0.0001^r)| = 0.0133652375759\n",
        "max sum_{r=1}^m |C_{33r} (0.1*0.0001^r)| = 0.0473373714486\n",
        "max sum_{r=1}^m |C_{34r} (0.1*0.0001^r)| = 0.168892310686\n",
        "max sum_{r=1}^m |C_{35r} (0.1*0.0001^r)| = 0.599042727019\n",
        "max sum_{r=1}^m |C_{36r} (0.1*0.0001^r)| = 2.11358722391"
       ]
      },
      {
       "output_type": "stream",
       "stream": "stdout",
       "text": [
        "\n",
        "Each time t increases by tau, a factor e^{-101.8179048*tau} = 0.989869868473 appears (tau=0.0001)\n"
       ]
      }
     ],
     "prompt_number": 154
    },
    {
     "cell_type": "markdown",
     "metadata": {},
     "source": [
      "Below is even more exploratory code"
     ]
    },
    {
     "cell_type": "code",
     "collapsed": false,
     "input": [
      "def first_term(exact, i, m):\n",
      "    from math import factorial\n",
      "    result = [factorial(r) * dot(exact.D_af(i), exact.recursion_af(j, m-1, r))\n",
      "              / (exact.eigenvalues_af[j] - exact.eigenvalues_af[i])**(r+1)\n",
      "              for r in range(m) for j in range(5) if j != i]\n",
      "    return sum(result, axis=0)\n",
      "def second_term(exact, i, m):\n",
      "    from math import factorial\n",
      "    result = [factorial(r) * dot(exact.D_af(j), exact.recursion_af(i, m-1, r))\n",
      "              / (exact.eigenvalues_af[i] - exact.eigenvalues_af[j])**(r+1)\n",
      "              for r in range(m) for j in range(5) if j != i]\n",
      "    return sum(result, axis=0)\n",
      "print first_term(exact, 3, 2)\n",
      "print\n",
      "print second_term(exact, 3, 2)\n",
      "print max(abs(exact.recursion_af(3, 1, 0)))"
     ],
     "language": "python",
     "metadata": {},
     "outputs": [
      {
       "output_type": "stream",
       "stream": "stdout",
       "text": [
        "[[ -1.71930213e-03  -5.53565533e-05  -3.02868908e-01]\n",
        " [ -7.39992478e-02  -2.38256164e-03  -1.30355631e+01]\n",
        " [  1.87251292e-04   6.02894974e-06   3.29858222e-02]]\n",
        "\n",
        "[[ 0.00134376  0.00088874 -0.07653821]\n",
        " [ 0.00152884  0.00116434 -0.13075277]\n",
        " [ 0.0013189   0.00081258 -0.05809467]]\n",
        "3.63128131375\n"
       ]
      }
     ],
     "prompt_number": 177
    },
    {
     "cell_type": "code",
     "collapsed": false,
     "input": [
      "def B_im(exact, t, i, m):\n",
      "    matrices = lambda i, m, l: exact.recursion_af(i, m, l)\n",
      "    result = matrices(i, m, 0) \n",
      "    return result\n",
      "    for r in xrange(1, m+1): \n",
      "        result += matrices(i, m, r) * t**r\n",
      "    return result\n",
      "def M_m(exact, t, m):\n",
      "    matrices = lambda i, m, l: exact.recursion_af(i, m, l)\n",
      "    eigenvalues = exact.eigenvalues_af\n",
      "    result = B_im(exact, t, 0, m)\n",
      "    result[:, :] = 0e0\n",
      "    for i, eigenvalue in enumerate(eigenvalues):\n",
      "        if abs(eigenvalue) < 1e-10: continue\n",
      "        if abs(eigenvalue-2022) > 1e1: continue\n",
      "        result += B_im(exact, t, i, m) * exp(-eigenvalue * t)\n",
      "    return result\n",
      "def R(exact, t):\n",
      "    current_t = t\n",
      "    tau = exact.tau\n",
      "    result = B_im(exact, tau, 0, 0)\n",
      "    result[:, :] = 0e0\n",
      "\n",
      "    m = 0\n",
      "    while current_t >= 0:\n",
      "        sign = 1 if m % 2 == 0 else -1\n",
      "        if m == 5:\n",
      "          print t, current_t, M_m(exact, current_t, m)[i, j], exact.recursion_af(3, m, 0)[i, j]* exp(-exact.eigenvalues_fa[3]* current_t)\n",
      "        result += sign * M_m(exact, current_t, m)\n",
      "        m += 1\n",
      "        current_t -= tau\n",
      "    return result"
     ],
     "language": "python",
     "metadata": {},
     "outputs": [],
     "prompt_number": 145
    },
    {
     "cell_type": "code",
     "collapsed": false,
     "input": [
      "print exact.eigenvalues_fa\n"
     ],
     "language": "python",
     "metadata": {},
     "outputs": [
      {
       "output_type": "stream",
       "stream": "stdout",
       "text": [
        "[  1.94082023e+04   3.09352724e+03   2.02211927e+03   1.01817905e+02\n",
        "   2.88932107e-12]\n"
       ]
      }
     ],
     "prompt_number": 62
    },
    {
     "cell_type": "code",
     "collapsed": false,
     "input": [
      "tau, i, j, n = 1e-4, 0, 0, 5\n",
      "\n",
      "transitions = qmatrix.transpose()\n",
      "exact = ExactSurvivor(transitions, tau)\n",
      "equation = DeterminantEq(transitions, tau)\n",
      "roots = find_roots(equation)\n",
      "approx = Asymptotes(equation, roots)\n",
      "\n",
      "x = arange(0, n * tau, tau / 10.)\n",
      "# plot(x, [exact.af(u)[i, j] for u in x], label=\"exact\")\n",
      "y = [R(exact, u)[i, j] for u in x]\n",
      "plot(x, y, label=\"approx\")\n",
      "\n",
      "print exact.recursion_af(3, 0, 0)[i, j], exact.eigenvalues_af[3]\n",
      "for r in range(1, n):\n",
      "    x = arange((r-1)*tau, r*tau, tau / 10.0)\n",
      "    y = [(-1)**m*exact.recursion_af(3, m, 0)[i, j]*exp(-exact.eigenvalues_af[3]*(x-m*tau)) for m in range(r)]\n",
      "    y = sum(array(y), axis=0)\n",
      "    plot(x, y)\n",
      "    \n",
      "\n",
      "#title(\"Component ${0}$ of the matrix $R_{{af}}$.\".format((i, j)))\n",
      "#legend()"
     ],
     "language": "python",
     "metadata": {},
     "outputs": [
      {
       "output_type": "stream",
       "stream": "stdout",
       "text": [
        "0.000894149050102 101.8179048\n"
       ]
      }
     ],
     "prompt_number": 146
    },
    {
     "cell_type": "code",
     "collapsed": false,
     "input": [
      "for n in xrange(7): print B_im(exact, (6-n) * exact.tau + exact.tau/10.0, 3, n)[0, 0]"
     ],
     "language": "python",
     "metadata": {},
     "outputs": [
      {
       "output_type": "stream",
       "stream": "stdout",
       "text": [
        "0.000894149050102\n",
        "-7.67425757502e-05\n",
        "-0.00309396909599\n",
        "-0.00973746366026\n",
        "-0.0329900373869\n",
        "-0.109828438689"
       ]
      },
      {
       "output_type": "stream",
       "stream": "stdout",
       "text": [
        "\n",
        "-0.362117874752"
       ]
      },
      {
       "output_type": "stream",
       "stream": "stdout",
       "text": [
        "\n"
       ]
      }
     ],
     "prompt_number": 8
    },
    {
     "cell_type": "code",
     "collapsed": false,
     "input": [
      "for n in xrange(1, 7):\n",
      "    print exact.recursion_af(3, n, 0)[0,0]"
     ],
     "language": "python",
     "metadata": {},
     "outputs": [
      {
       "output_type": "stream",
       "stream": "stdout",
       "text": [
        "-0.000245635916001\n",
        "-0.0030630603096\n",
        "-0.00938174341304\n",
        "-0.0322505488396\n",
        "-0.108507905881"
       ]
      },
      {
       "output_type": "stream",
       "stream": "stdout",
       "text": [
        "\n",
        "-0.361717123285"
       ]
      },
      {
       "output_type": "stream",
       "stream": "stdout",
       "text": [
        "\n"
       ]
      }
     ],
     "prompt_number": 9
    },
    {
     "cell_type": "code",
     "collapsed": false,
     "input": [
      "i, u, v = 3, 0, 0\n",
      "x = []\n",
      "y = []\n",
      "z = []\n",
      "t = 7.5 * equation.tau\n",
      "for m in range(8):\n",
      "    for l in range(0, m+1):\n",
      "        x.append(m)\n",
      "        y.append(l)\n",
      "        z.append(exact.recursion_af(i, m, l)[u, v]*(t-m*equation.tau)**l)\n",
      "\n",
      "from mpl_toolkits.mplot3d import Axes3D\n",
      "fig = figure()\n",
      "ax = fig.add_subplot(111, projection='3d')\n",
      "ax.plot_trisurf(x, y, log10(abs(array(z))))\n",
      "ax.set_xlabel('m')\n",
      "ax.set_ylabel('l')\n",
      "print max(z)"
     ],
     "language": "python",
     "metadata": {},
     "outputs": [
      {
       "output_type": "stream",
       "stream": "stdout",
       "text": [
        "0.000894149050102\n"
       ]
      }
     ],
     "prompt_number": 10
    },
    {
     "cell_type": "code",
     "collapsed": false,
     "input": [
      "print log10(max(abs(array(z)))), log10(min(abs(array(z))))"
     ],
     "language": "python",
     "metadata": {},
     "outputs": [
      {
       "output_type": "stream",
       "stream": "stdout",
       "text": [
        "0.0760858864917 -18.8778035812\n"
       ]
      }
     ],
     "prompt_number": 11
    },
    {
     "cell_type": "code",
     "collapsed": false,
     "input": [
      "from numpy.linalg import eig, inv\n",
      "transitions = qmatrix.transpose()\n",
      "eigenvalues, eigenvectors = eig(transitions.matrix)\n",
      "print transitions.fa\n",
      "#outer(eigenvectors[:, 4], inv(eigenvectors)[4, :])[:3, 3:] * exp(tau*transitions.ff) * transitions.fa"
     ],
     "language": "python",
     "metadata": {},
     "outputs": [
      {
       "output_type": "stream",
       "stream": "stdout",
       "text": [
        "[[ 3000.     0.     0.]\n",
        " [    0.   500.     0.]]\n"
       ]
      }
     ],
     "prompt_number": 185
    }
   ],
   "metadata": {}
  }
 ]
}