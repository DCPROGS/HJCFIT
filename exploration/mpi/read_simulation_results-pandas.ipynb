{
 "cells": [
  {
   "cell_type": "code",
   "execution_count": null,
   "metadata": {
    "collapsed": true
   },
   "outputs": [],
   "source": []
  },
  {
   "cell_type": "code",
   "execution_count": 1,
   "metadata": {
    "collapsed": false
   },
   "outputs": [
    {
     "name": "stderr",
     "output_type": "stream",
     "text": [
      "/Users/jhn/Envs/dcprogsgcc/lib/python3.5/site-packages/matplotlib/font_manager.py:273: UserWarning: Matplotlib is building the font cache using fc-list. This may take a moment.\n",
      "  warnings.warn('Matplotlib is building the font cache using fc-list. This may take a moment.')\n",
      "/Users/jhn/Envs/dcprogsgcc/lib/python3.5/site-packages/matplotlib/font_manager.py:273: UserWarning: Matplotlib is building the font cache using fc-list. This may take a moment.\n",
      "  warnings.warn('Matplotlib is building the font cache using fc-list. This may take a moment.')\n"
     ]
    }
   ],
   "source": [
    "%matplotlib inline\n",
    "import matplotlib.pyplot as plt"
   ]
  },
  {
   "cell_type": "code",
   "execution_count": 2,
   "metadata": {
    "collapsed": true
   },
   "outputs": [],
   "source": [
    "import os\n",
    "import glob\n",
    "import pickle\n",
    "import numpy as np\n",
    "import pandas as pd\n",
    "from collections import OrderedDict"
   ]
  },
  {
   "cell_type": "code",
   "execution_count": 3,
   "metadata": {
    "collapsed": true
   },
   "outputs": [],
   "source": [
    "from dcpyps import mechanism\n",
    "from dcpyps.samples import samples"
   ]
  },
  {
   "cell_type": "code",
   "execution_count": 4,
   "metadata": {
    "collapsed": true
   },
   "outputs": [],
   "source": [
    "def constrain(mec):\n",
    "    for i in range(len(mec.Rates)):\n",
    "        mec.Rates[i].fixed = False\n",
    "    # Constrained rates.\n",
    "    mec.Rates[21].is_constrained = True\n",
    "    mec.Rates[21].constrain_func = mechanism.constrain_rate_multiple\n",
    "    mec.Rates[21].constrain_args = [20, 1.5]\n",
    "    mec.Rates[18].is_constrained = True\n",
    "    mec.Rates[18].constrain_func = mechanism.constrain_rate_multiple\n",
    "    mec.Rates[18].constrain_args = [19, 2]\n",
    "    mec.Rates[14].is_constrained = True\n",
    "    mec.Rates[14].constrain_func = mechanism.constrain_rate_multiple\n",
    "    mec.Rates[14].constrain_args = [12, 3]\n",
    "    mec.Rates[13].is_constrained = True\n",
    "    mec.Rates[13].constrain_func = mechanism.constrain_rate_multiple\n",
    "    mec.Rates[13].constrain_args = [12, 2]\n",
    "    mec.Rates[15].is_constrained = True\n",
    "    mec.Rates[15].constrain_func = mechanism.constrain_rate_multiple\n",
    "    mec.Rates[15].constrain_args = [17, 3]\n",
    "    mec.Rates[16].is_constrained = True\n",
    "    mec.Rates[16].constrain_func = mechanism.constrain_rate_multiple\n",
    "    mec.Rates[16].constrain_args = [17, 2]\n",
    "    mec.update_constrains()\n",
    "    mec.set_mr(True, 9, 0)\n",
    "    mec.set_mr(True, 11, 1)\n",
    "    mec.update_constrains()\n",
    "    return mec"
   ]
  },
  {
   "cell_type": "code",
   "execution_count": 5,
   "metadata": {
    "collapsed": false
   },
   "outputs": [],
   "source": [
    "mec_true = samples.GlyR_flip()\n",
    "ig = [4200, 28000, 130000, 3400, 2100, 6700, 180, 6800, 22000,\n",
    "    29266, 18000, 948, 302, 604, 906, 1.77e6, 1.18e6, 0.59e6, 300e6, 150e6,\n",
    "    2500, 3750]\n",
    "mec_true.set_rateconstants(ig)\n",
    "mec_true = constrain(mec_true)\n",
    "mec = samples.GlyR_flip()\n",
    "mec = constrain(mec)"
   ]
  },
  {
   "cell_type": "code",
   "execution_count": 6,
   "metadata": {
    "collapsed": false
   },
   "outputs": [],
   "source": [
    "os.chdir(\"results\")"
   ]
  },
  {
   "cell_type": "code",
   "execution_count": 7,
   "metadata": {
    "collapsed": false
   },
   "outputs": [],
   "source": [
    "r = []\n",
    "x = []\n",
    "lik = []\n",
    "cputime = []\n",
    "for file in glob.glob(\"*.result\"):\n",
    "    with open(file, 'rb') as f:\n",
    "        content = pickle.load(f)\n",
    "    #print (np.exp(content[0].x))\n",
    "    mec.theta_unsqueeze(np.exp(content[0].x))\n",
    "    mec.update_constrains()\n",
    "    x.append(np.exp(content[0].x))\n",
    "    r.append(mec.unit_rates())\n",
    "    lik.append(-content[0].fun)\n",
    "    cputime.append(content[1])\n",
    "rates = np.array(r)"
   ]
  },
  {
   "cell_type": "code",
   "execution_count": 8,
   "metadata": {
    "collapsed": false
   },
   "outputs": [],
   "source": [
    "rate_names = []\n",
    "true_rates = []\n",
    "for i in range(len(mec.unit_rates())):\n",
    "    rate_names.append(mec.Rates[i].name)\n",
    "    true_rates.append(mec_true.Rates[i].unit_rate())"
   ]
  },
  {
   "cell_type": "code",
   "execution_count": 69,
   "metadata": {
    "collapsed": false
   },
   "outputs": [],
   "source": [
    "trueratesdf = pd.DataFrame({rate_names[i]: true_rates[i] for i in range(len(rate_names))}, index=np.arange(1))\n",
    "datadict = {rate_names[i]: rates[:,i] for i in range(len(rate_names))}\n",
    "datadict['likelihood'] = lik\n",
    "datadict['cputime'] = cputime\n",
    "datadf = pd.DataFrame(datadict)\n",
    "trueratesser = pd.Series(true_rates, index=rate_names)"
   ]
  },
  {
   "cell_type": "code",
   "execution_count": 72,
   "metadata": {
    "collapsed": false
   },
   "outputs": [
    {
     "data": {
      "text/plain": [
       "beta1      4.200000e+03\n",
       "beta2      2.800000e+04\n",
       "beta3      1.300000e+05\n",
       "alpha1     3.400000e+03\n",
       "alpha2     2.100000e+03\n",
       "alpha3     6.700000e+03\n",
       "delta1     1.800000e+02\n",
       "delta2     6.800000e+03\n",
       "delta3     2.200000e+04\n",
       "gamma1     2.926660e+04\n",
       "gamma2     1.800000e+04\n",
       "gamma3     9.480912e+02\n",
       "k(-1)      3.020000e+02\n",
       "2k(-2)     6.040000e+02\n",
       "3k(-3)     9.060000e+02\n",
       "3k(+1)     1.770000e+06\n",
       "2k(+2)     1.180000e+06\n",
       "k(+3)      5.900000e+05\n",
       "2kf(+2)    3.000000e+08\n",
       "kf(+3)     1.500000e+08\n",
       "2kf(-2)    2.500000e+03\n",
       "3kf(-3)    3.750000e+03\n",
       "dtype: float64"
      ]
     },
     "execution_count": 72,
     "metadata": {},
     "output_type": "execute_result"
    }
   ],
   "source": [
    "trueratesser"
   ]
  },
  {
   "cell_type": "code",
   "execution_count": 73,
   "metadata": {
    "collapsed": false
   },
   "outputs": [
    {
     "data": {
      "text/html": [
       "<div>\n",
       "<table border=\"1\" class=\"dataframe\">\n",
       "  <thead>\n",
       "    <tr style=\"text-align: right;\">\n",
       "      <th></th>\n",
       "      <th>2k(+2)</th>\n",
       "      <th>2k(-2)</th>\n",
       "      <th>2kf(+2)</th>\n",
       "      <th>2kf(-2)</th>\n",
       "      <th>3k(+1)</th>\n",
       "      <th>3k(-3)</th>\n",
       "      <th>3kf(-3)</th>\n",
       "      <th>alpha1</th>\n",
       "      <th>alpha2</th>\n",
       "      <th>alpha3</th>\n",
       "      <th>...</th>\n",
       "      <th>delta1</th>\n",
       "      <th>delta2</th>\n",
       "      <th>delta3</th>\n",
       "      <th>gamma1</th>\n",
       "      <th>gamma2</th>\n",
       "      <th>gamma3</th>\n",
       "      <th>k(+3)</th>\n",
       "      <th>k(-1)</th>\n",
       "      <th>kf(+3)</th>\n",
       "      <th>likelihood</th>\n",
       "    </tr>\n",
       "  </thead>\n",
       "  <tbody>\n",
       "    <tr>\n",
       "      <th>0</th>\n",
       "      <td>1.143842e+06</td>\n",
       "      <td>607.283879</td>\n",
       "      <td>2.764668e+08</td>\n",
       "      <td>2713.639653</td>\n",
       "      <td>1.715763e+06</td>\n",
       "      <td>910.925819</td>\n",
       "      <td>4070.459479</td>\n",
       "      <td>3099.109509</td>\n",
       "      <td>2030.002390</td>\n",
       "      <td>5206.257233</td>\n",
       "      <td>...</td>\n",
       "      <td>291.048872</td>\n",
       "      <td>6882.979615</td>\n",
       "      <td>18045.261569</td>\n",
       "      <td>42337.938717</td>\n",
       "      <td>18510.735103</td>\n",
       "      <td>897.209280</td>\n",
       "      <td>571920.897484</td>\n",
       "      <td>303.641940</td>\n",
       "      <td>1.382334e+08</td>\n",
       "      <td>80684.275444</td>\n",
       "    </tr>\n",
       "    <tr>\n",
       "      <th>1</th>\n",
       "      <td>1.195843e+06</td>\n",
       "      <td>624.061928</td>\n",
       "      <td>3.291649e+08</td>\n",
       "      <td>2781.256985</td>\n",
       "      <td>1.793765e+06</td>\n",
       "      <td>936.092892</td>\n",
       "      <td>4171.885478</td>\n",
       "      <td>3070.981137</td>\n",
       "      <td>1917.875446</td>\n",
       "      <td>6293.112709</td>\n",
       "      <td>...</td>\n",
       "      <td>204.913121</td>\n",
       "      <td>6990.218680</td>\n",
       "      <td>23881.870088</td>\n",
       "      <td>33793.837701</td>\n",
       "      <td>18665.202554</td>\n",
       "      <td>1032.486721</td>\n",
       "      <td>597921.691322</td>\n",
       "      <td>312.030964</td>\n",
       "      <td>1.645825e+08</td>\n",
       "      <td>364106.923360</td>\n",
       "    </tr>\n",
       "    <tr>\n",
       "      <th>2</th>\n",
       "      <td>1.220328e+06</td>\n",
       "      <td>602.571114</td>\n",
       "      <td>3.404442e+08</td>\n",
       "      <td>2924.324531</td>\n",
       "      <td>1.830492e+06</td>\n",
       "      <td>903.856670</td>\n",
       "      <td>4386.486796</td>\n",
       "      <td>3423.770717</td>\n",
       "      <td>2421.473997</td>\n",
       "      <td>6332.076279</td>\n",
       "      <td>...</td>\n",
       "      <td>149.207955</td>\n",
       "      <td>6056.227926</td>\n",
       "      <td>55006.066675</td>\n",
       "      <td>29243.790434</td>\n",
       "      <td>20648.649760</td>\n",
       "      <td>3262.479551</td>\n",
       "      <td>610163.861003</td>\n",
       "      <td>301.285557</td>\n",
       "      <td>1.702221e+08</td>\n",
       "      <td>81477.856135</td>\n",
       "    </tr>\n",
       "    <tr>\n",
       "      <th>3</th>\n",
       "      <td>1.146491e+06</td>\n",
       "      <td>588.020013</td>\n",
       "      <td>3.343530e+08</td>\n",
       "      <td>3064.451951</td>\n",
       "      <td>1.719736e+06</td>\n",
       "      <td>882.030019</td>\n",
       "      <td>4596.677927</td>\n",
       "      <td>3206.321820</td>\n",
       "      <td>1970.885604</td>\n",
       "      <td>5408.587995</td>\n",
       "      <td>...</td>\n",
       "      <td>186.925562</td>\n",
       "      <td>6841.264945</td>\n",
       "      <td>24182.687469</td>\n",
       "      <td>30411.405259</td>\n",
       "      <td>19889.794686</td>\n",
       "      <td>1256.390228</td>\n",
       "      <td>573245.414592</td>\n",
       "      <td>294.010006</td>\n",
       "      <td>1.671765e+08</td>\n",
       "      <td>363191.311106</td>\n",
       "    </tr>\n",
       "    <tr>\n",
       "      <th>4</th>\n",
       "      <td>1.147709e+06</td>\n",
       "      <td>596.066615</td>\n",
       "      <td>3.599258e+08</td>\n",
       "      <td>3049.693528</td>\n",
       "      <td>1.721564e+06</td>\n",
       "      <td>894.099923</td>\n",
       "      <td>4574.540292</td>\n",
       "      <td>2857.164033</td>\n",
       "      <td>2086.547466</td>\n",
       "      <td>5578.791036</td>\n",
       "      <td>...</td>\n",
       "      <td>176.286383</td>\n",
       "      <td>6979.508241</td>\n",
       "      <td>23186.856041</td>\n",
       "      <td>32284.930069</td>\n",
       "      <td>20853.844396</td>\n",
       "      <td>1130.273097</td>\n",
       "      <td>573854.501021</td>\n",
       "      <td>298.033308</td>\n",
       "      <td>1.799629e+08</td>\n",
       "      <td>363381.492633</td>\n",
       "    </tr>\n",
       "  </tbody>\n",
       "</table>\n",
       "<p>5 rows × 24 columns</p>\n",
       "</div>"
      ],
      "text/plain": [
       "         2k(+2)      2k(-2)       2kf(+2)      2kf(-2)        3k(+1)  \\\n",
       "0  1.143842e+06  607.283879  2.764668e+08  2713.639653  1.715763e+06   \n",
       "1  1.195843e+06  624.061928  3.291649e+08  2781.256985  1.793765e+06   \n",
       "2  1.220328e+06  602.571114  3.404442e+08  2924.324531  1.830492e+06   \n",
       "3  1.146491e+06  588.020013  3.343530e+08  3064.451951  1.719736e+06   \n",
       "4  1.147709e+06  596.066615  3.599258e+08  3049.693528  1.721564e+06   \n",
       "\n",
       "       3k(-3)      3kf(-3)       alpha1       alpha2       alpha3  \\\n",
       "0  910.925819  4070.459479  3099.109509  2030.002390  5206.257233   \n",
       "1  936.092892  4171.885478  3070.981137  1917.875446  6293.112709   \n",
       "2  903.856670  4386.486796  3423.770717  2421.473997  6332.076279   \n",
       "3  882.030019  4596.677927  3206.321820  1970.885604  5408.587995   \n",
       "4  894.099923  4574.540292  2857.164033  2086.547466  5578.791036   \n",
       "\n",
       "       ...            delta1       delta2        delta3        gamma1  \\\n",
       "0      ...        291.048872  6882.979615  18045.261569  42337.938717   \n",
       "1      ...        204.913121  6990.218680  23881.870088  33793.837701   \n",
       "2      ...        149.207955  6056.227926  55006.066675  29243.790434   \n",
       "3      ...        186.925562  6841.264945  24182.687469  30411.405259   \n",
       "4      ...        176.286383  6979.508241  23186.856041  32284.930069   \n",
       "\n",
       "         gamma2       gamma3          k(+3)       k(-1)        kf(+3)  \\\n",
       "0  18510.735103   897.209280  571920.897484  303.641940  1.382334e+08   \n",
       "1  18665.202554  1032.486721  597921.691322  312.030964  1.645825e+08   \n",
       "2  20648.649760  3262.479551  610163.861003  301.285557  1.702221e+08   \n",
       "3  19889.794686  1256.390228  573245.414592  294.010006  1.671765e+08   \n",
       "4  20853.844396  1130.273097  573854.501021  298.033308  1.799629e+08   \n",
       "\n",
       "      likelihood  \n",
       "0   80684.275444  \n",
       "1  364106.923360  \n",
       "2   81477.856135  \n",
       "3  363191.311106  \n",
       "4  363381.492633  \n",
       "\n",
       "[5 rows x 24 columns]"
      ]
     },
     "execution_count": 73,
     "metadata": {},
     "output_type": "execute_result"
    }
   ],
   "source": [
    "datadf\n",
    "datadf.head()"
   ]
  },
  {
   "cell_type": "code",
   "execution_count": 74,
   "metadata": {
    "collapsed": false
   },
   "outputs": [
    {
     "data": {
      "text/html": [
       "<div>\n",
       "<table border=\"1\" class=\"dataframe\">\n",
       "  <thead>\n",
       "    <tr style=\"text-align: right;\">\n",
       "      <th></th>\n",
       "      <th>True</th>\n",
       "      <th>Mean</th>\n",
       "      <th>CV%</th>\n",
       "      <th>Bias%</th>\n",
       "    </tr>\n",
       "  </thead>\n",
       "  <tbody>\n",
       "    <tr>\n",
       "      <th>beta1</th>\n",
       "      <td>4.200000e+03</td>\n",
       "      <td>4.204918e+03</td>\n",
       "      <td>13.752663</td>\n",
       "      <td>0.117087</td>\n",
       "    </tr>\n",
       "    <tr>\n",
       "      <th>beta2</th>\n",
       "      <td>2.800000e+04</td>\n",
       "      <td>3.180431e+04</td>\n",
       "      <td>15.860729</td>\n",
       "      <td>13.586822</td>\n",
       "    </tr>\n",
       "    <tr>\n",
       "      <th>beta3</th>\n",
       "      <td>1.300000e+05</td>\n",
       "      <td>1.330140e+05</td>\n",
       "      <td>3.575103</td>\n",
       "      <td>2.318480</td>\n",
       "    </tr>\n",
       "    <tr>\n",
       "      <th>alpha1</th>\n",
       "      <td>3.400000e+03</td>\n",
       "      <td>3.131469e+03</td>\n",
       "      <td>5.905480</td>\n",
       "      <td>-7.897958</td>\n",
       "    </tr>\n",
       "    <tr>\n",
       "      <th>alpha2</th>\n",
       "      <td>2.100000e+03</td>\n",
       "      <td>2.085357e+03</td>\n",
       "      <td>8.502615</td>\n",
       "      <td>-0.697287</td>\n",
       "    </tr>\n",
       "    <tr>\n",
       "      <th>alpha3</th>\n",
       "      <td>6.700000e+03</td>\n",
       "      <td>5.763765e+03</td>\n",
       "      <td>8.042391</td>\n",
       "      <td>-13.973656</td>\n",
       "    </tr>\n",
       "    <tr>\n",
       "      <th>delta1</th>\n",
       "      <td>1.800000e+02</td>\n",
       "      <td>2.016764e+02</td>\n",
       "      <td>23.896479</td>\n",
       "      <td>12.042432</td>\n",
       "    </tr>\n",
       "    <tr>\n",
       "      <th>delta2</th>\n",
       "      <td>6.800000e+03</td>\n",
       "      <td>6.750040e+03</td>\n",
       "      <td>5.207167</td>\n",
       "      <td>-0.734708</td>\n",
       "    </tr>\n",
       "    <tr>\n",
       "      <th>delta3</th>\n",
       "      <td>2.200000e+04</td>\n",
       "      <td>2.886055e+04</td>\n",
       "      <td>45.952414</td>\n",
       "      <td>31.184311</td>\n",
       "    </tr>\n",
       "    <tr>\n",
       "      <th>gamma1</th>\n",
       "      <td>2.926660e+04</td>\n",
       "      <td>3.361438e+04</td>\n",
       "      <td>13.778795</td>\n",
       "      <td>14.855775</td>\n",
       "    </tr>\n",
       "    <tr>\n",
       "      <th>gamma2</th>\n",
       "      <td>1.800000e+04</td>\n",
       "      <td>1.971365e+04</td>\n",
       "      <td>4.944989</td>\n",
       "      <td>9.520252</td>\n",
       "    </tr>\n",
       "    <tr>\n",
       "      <th>gamma3</th>\n",
       "      <td>9.480912e+02</td>\n",
       "      <td>1.515768e+03</td>\n",
       "      <td>58.139244</td>\n",
       "      <td>59.875742</td>\n",
       "    </tr>\n",
       "    <tr>\n",
       "      <th>k(-1)</th>\n",
       "      <td>3.020000e+02</td>\n",
       "      <td>3.018004e+02</td>\n",
       "      <td>2.005674</td>\n",
       "      <td>-0.066108</td>\n",
       "    </tr>\n",
       "    <tr>\n",
       "      <th>2k(-2)</th>\n",
       "      <td>6.040000e+02</td>\n",
       "      <td>6.036007e+02</td>\n",
       "      <td>2.005674</td>\n",
       "      <td>-0.066108</td>\n",
       "    </tr>\n",
       "    <tr>\n",
       "      <th>3k(-3)</th>\n",
       "      <td>9.060000e+02</td>\n",
       "      <td>9.054011e+02</td>\n",
       "      <td>2.005674</td>\n",
       "      <td>-0.066108</td>\n",
       "    </tr>\n",
       "    <tr>\n",
       "      <th>3k(+1)</th>\n",
       "      <td>1.770000e+06</td>\n",
       "      <td>1.756264e+06</td>\n",
       "      <td>2.682165</td>\n",
       "      <td>-0.776055</td>\n",
       "    </tr>\n",
       "    <tr>\n",
       "      <th>2k(+2)</th>\n",
       "      <td>1.180000e+06</td>\n",
       "      <td>1.170843e+06</td>\n",
       "      <td>2.682165</td>\n",
       "      <td>-0.776055</td>\n",
       "    </tr>\n",
       "    <tr>\n",
       "      <th>k(+3)</th>\n",
       "      <td>5.900000e+05</td>\n",
       "      <td>5.854213e+05</td>\n",
       "      <td>2.682165</td>\n",
       "      <td>-0.776055</td>\n",
       "    </tr>\n",
       "    <tr>\n",
       "      <th>2kf(+2)</th>\n",
       "      <td>3.000000e+08</td>\n",
       "      <td>3.280709e+08</td>\n",
       "      <td>8.481752</td>\n",
       "      <td>9.356981</td>\n",
       "    </tr>\n",
       "    <tr>\n",
       "      <th>kf(+3)</th>\n",
       "      <td>1.500000e+08</td>\n",
       "      <td>1.640355e+08</td>\n",
       "      <td>8.481752</td>\n",
       "      <td>9.356981</td>\n",
       "    </tr>\n",
       "    <tr>\n",
       "      <th>2kf(-2)</th>\n",
       "      <td>2.500000e+03</td>\n",
       "      <td>2.906673e+03</td>\n",
       "      <td>4.832491</td>\n",
       "      <td>16.266933</td>\n",
       "    </tr>\n",
       "    <tr>\n",
       "      <th>3kf(-3)</th>\n",
       "      <td>3.750000e+03</td>\n",
       "      <td>4.360010e+03</td>\n",
       "      <td>4.832491</td>\n",
       "      <td>16.266933</td>\n",
       "    </tr>\n",
       "  </tbody>\n",
       "</table>\n",
       "</div>"
      ],
      "text/plain": [
       "                 True          Mean        CV%      Bias%\n",
       "beta1    4.200000e+03  4.204918e+03  13.752663   0.117087\n",
       "beta2    2.800000e+04  3.180431e+04  15.860729  13.586822\n",
       "beta3    1.300000e+05  1.330140e+05   3.575103   2.318480\n",
       "alpha1   3.400000e+03  3.131469e+03   5.905480  -7.897958\n",
       "alpha2   2.100000e+03  2.085357e+03   8.502615  -0.697287\n",
       "alpha3   6.700000e+03  5.763765e+03   8.042391 -13.973656\n",
       "delta1   1.800000e+02  2.016764e+02  23.896479  12.042432\n",
       "delta2   6.800000e+03  6.750040e+03   5.207167  -0.734708\n",
       "delta3   2.200000e+04  2.886055e+04  45.952414  31.184311\n",
       "gamma1   2.926660e+04  3.361438e+04  13.778795  14.855775\n",
       "gamma2   1.800000e+04  1.971365e+04   4.944989   9.520252\n",
       "gamma3   9.480912e+02  1.515768e+03  58.139244  59.875742\n",
       "k(-1)    3.020000e+02  3.018004e+02   2.005674  -0.066108\n",
       "2k(-2)   6.040000e+02  6.036007e+02   2.005674  -0.066108\n",
       "3k(-3)   9.060000e+02  9.054011e+02   2.005674  -0.066108\n",
       "3k(+1)   1.770000e+06  1.756264e+06   2.682165  -0.776055\n",
       "2k(+2)   1.180000e+06  1.170843e+06   2.682165  -0.776055\n",
       "k(+3)    5.900000e+05  5.854213e+05   2.682165  -0.776055\n",
       "2kf(+2)  3.000000e+08  3.280709e+08   8.481752   9.356981\n",
       "kf(+3)   1.500000e+08  1.640355e+08   8.481752   9.356981\n",
       "2kf(-2)  2.500000e+03  2.906673e+03   4.832491  16.266933\n",
       "3kf(-3)  3.750000e+03  4.360010e+03   4.832491  16.266933"
      ]
     },
     "execution_count": 74,
     "metadata": {},
     "output_type": "execute_result"
    }
   ],
   "source": [
    "meandf = pd.DataFrame({'Mean'  : datadf[rate_names].mean(),\n",
    "                       'CV%'   : 100*datadf[rate_names].std(ddof=0)/datadf[rate_names].mean(),\n",
    "                       'Bias%' : (100*(datadf[rate_names].mean()/trueratesser - 1)),\n",
    "                       'True'  : trueratesser})\n",
    "meandf.reindex(columns=['True', 'Mean', 'CV%', 'Bias%'])"
   ]
  },
  {
   "cell_type": "code",
   "execution_count": 78,
   "metadata": {
    "collapsed": false,
    "scrolled": false
   },
   "outputs": [
    {
     "name": "stdout",
     "output_type": "stream",
     "text": [
      "Red line - true value\n"
     ]
    },
    {
     "data": {
      "image/png": "[encoded data removed]",
      "text/plain": [
       "<matplotlib.figure.Figure at 0x116078ac8>"
      ]
     },
     "metadata": {},
     "output_type": "display_data"
    }
   ],
   "source": [
    "fig,axes = plt.subplots(11, 2, figsize=(12,35))\n",
    "for i,axis in enumerate(axes.ravel()):\n",
    "    rate = rate_names[i]\n",
    "    axis.hist(datadf[rate])\n",
    "    axis.set_title(rate)\n",
    "    axis.axvline(trueratesdf[rate][0], color='r')\n",
    "    axis.set_title(rate)\n",
    "    axis.set_xlim(trueratesdf[rate][0] * 0.5, 1.5 * trueratesdf[rate][0])\n",
    "fig.tight_layout()\n",
    "print('Red line - true value')"
   ]
  },
  {
   "cell_type": "code",
   "execution_count": 51,
   "metadata": {
    "collapsed": true
   },
   "outputs": [],
   "source": [
    "def plot_intersection(name1, name2):\n",
    "    fig, ax  = plt.subplots(1,1, figsize=(10,3))\n",
    "    ax.plot(name1, name2, 'b.', data=datadf)\n",
    "    ax.axvline(trueratesdf[name1][0], color='r')\n",
    "    ax.axhline(trueratesdf[name2][0], color='r')\n",
    "    ax.set_xlabel(name1)\n",
    "    ax.set_ylabel(name2)\n",
    "    fig.tight_layout()"
   ]
  },
  {
   "cell_type": "code",
   "execution_count": 52,
   "metadata": {
    "collapsed": false
   },
   "outputs": [
    {
     "data": {
      "image/png": "[encoded data removed]",
      "text/plain": [
       "<matplotlib.figure.Figure at 0x1177badd8>"
      ]
     },
     "metadata": {},
     "output_type": "display_data"
    }
   ],
   "source": [
    "name1 = 'beta3'\n",
    "name2 = 'alpha3'\n",
    "plot_intersection(name1, name2)"
   ]
  },
  {
   "cell_type": "code",
   "execution_count": 53,
   "metadata": {
    "collapsed": false
   },
   "outputs": [
    {
     "data": {
      "image/png": "[encoded data removed]",
      "text/plain": [
       "<matplotlib.figure.Figure at 0x1153df390>"
      ]
     },
     "metadata": {},
     "output_type": "display_data"
    }
   ],
   "source": [
    "plot_intersection(rate_names[12], rate_names[17])\n"
   ]
  },
  {
   "cell_type": "code",
   "execution_count": 77,
   "metadata": {
    "collapsed": false
   },
   "outputs": [
    {
     "name": "stdout",
     "output_type": "stream",
     "text": [
      "Mean CPU time =  51.4601554\n"
     ]
    },
    {
     "data": {
      "image/png": "[encoded data removed]",
      "text/plain": [
       "<matplotlib.figure.Figure at 0x114082860>"
      ]
     },
     "metadata": {},
     "output_type": "display_data"
    }
   ],
   "source": [
    "fig, axes  = plt.subplots(1,2, figsize=(12,3))\n",
    "axes[0].hist(datadf['likelihood'])\n",
    "axes[0].set_xlabel('LogLikelihood')\n",
    "axes[1].hist(datadf['cputime'])\n",
    "axes[1].set_xlabel('CPU time, s')\n",
    "print('Mean CPU time = ', np.mean(cputime))"
   ]
  }
 ],
 "metadata": {
  "kernelspec": {
   "display_name": "DCProgs GCC Python 3",
   "language": "python",
   "name": "dcprogsgcc"
  },
  "language_info": {
   "codemirror_mode": {
    "name": "ipython",
    "version": 3
   },
   "file_extension": ".py",
   "mimetype": "text/x-python",
   "name": "python",
   "nbconvert_exporter": "python",
   "pygments_lexer": "ipython3",
   "version": "3.5.1"
  },
  "widgets": {
   "state": {},
   "version": "1.1.2"
  }
 },
 "nbformat": 4,
 "nbformat_minor": 0
}
