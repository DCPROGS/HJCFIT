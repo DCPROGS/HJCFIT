{
 "metadata": {
  "name": "approxG"
 },
 "nbformat": 3,
 "nbformat_minor": 0,
 "worksheets": [
  {
   "cells": [
    {
     "cell_type": "code",
     "collapsed": false,
     "input": [
      "from numpy import array\n",
      "from dcprogs.likelihood import StateMatrix, DeterminantEq, Asymptotes, find_roots, ExactG, ApproxG, create_approxg\n",
      "Qmatrix = StateMatrix( \n",
      "           array([[ -3050,        50,  3000,      0,    0 ], \n",
      "                  [ 2./3., -1502./3.,     0,    500,    0 ],  \n",
      "                  [    15,         0, -2065,     50, 2000 ],  \n",
      "                  [     0,     15000,  4000, -19000,    0 ],  \n",
      "                  [     0,         0,    10,      0,  -10 ] ]), 2)\n",
      "\n",
      "transitions = Qmatrix\n",
      "tau = 1e-4\n",
      "a = DeterminantEq(transitions, tau)\n",
      "approx = create_approxg(transitions, tau)\n",
      "approx.R_af(0)"
     ],
     "language": "python",
     "metadata": {},
     "outputs": [
      {
       "output_type": "pyout",
       "prompt_number": 1,
       "text": [
        "array([[  1.00024021e+00,   6.07275562e-05],\n",
        "       [  8.09700749e-07,   1.01202035e+00]])"
       ]
      }
     ],
     "prompt_number": 1
    },
    {
     "cell_type": "code",
     "collapsed": false,
     "input": [
      "tau, i, j, n = 1e-4, 0, 0, 4\n",
      "\n",
      "transitions = Qmatrix\n",
      "exact = ExactG(transitions, tau)\n",
      "approx = create_approxg(transitions, tau)\n",
      "\n",
      "x = arange(0, n * tau, tau / 10.)\n",
      "plot(x, [exact.R_af(u)[i, j] for u in x], label=\"exact\")\n",
      "plot(x, [approx.R_af(u)[i, j] for u in x], label=\"approx\")\n",
      "title(\"Component ${0}$ of the matrix $R_{{af}}$.\".format((i, j)))\n",
      "legend()"
     ],
     "language": "python",
     "metadata": {},
     "outputs": [
      {
       "output_type": "pyout",
       "prompt_number": 3,
       "text": [
        "<matplotlib.legend.Legend at 0x10eebff10>"
       ]
      }
     ],
     "prompt_number": 3
    }
   ],
   "metadata": {}
  }
 ]
}