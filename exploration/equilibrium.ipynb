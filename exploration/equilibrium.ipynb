{
 "metadata": {
  "name": "equilibrium"
 },
 "nbformat": 3,
 "nbformat_minor": 0,
 "worksheets": [
  {
   "cells": [
    {
     "cell_type": "code",
     "collapsed": false,
     "input": [
      "from numpy import set_printoptions\n",
      "set_printoptions(precision=14, linewidth=150)"
     ],
     "language": "python",
     "metadata": {},
     "outputs": [],
     "prompt_number": 10
    },
    {
     "cell_type": "markdown",
     "metadata": {},
     "source": [
      "Equilibrium vectors\n",
      "===================\n",
      "\n",
      "From the transition matrix\n",
      "--------------------------\n",
      "\n",
      "There seems to be quite a few approach to computing the equilibrium vectors.\n",
      "By definition, the vectors are the kernel of the transition matrix.\n",
      "\n",
      "$\\frac{\\partial\\mathbf{\\phi}}{\\partial t} = \\mathbf{\\phi}\\mathcal{Q} = 0$\n",
      "\n",
      "Hence, equilibrium is possible if and only if $\\mathcal{Q}^T$ has an null eigenvalue\n"
     ]
    },
    {
     "cell_type": "code",
     "collapsed": false,
     "input": [
      "from numpy import array\n",
      "from numpy.linalg import eig\n",
      "Q = array([[-3050, 50, 3000, 0, 0], [2./3., -1502./3., 0, 500., 0], [15, 0, -2065, 50, 2000], [0,15000,4000, -19000, 0], [0, 0, 10, 0, -10]\n",
      "])\n",
      "eigenvalues, eigenvectors = eig(Q.T)\n",
      "print(eigenvalues)"
     ],
     "language": "python",
     "metadata": {},
     "outputs": [
      {
       "output_type": "stream",
       "stream": "stdout",
       "text": [
        "[ -1.94082022553873e+04  -3.09352723698141e+03  -2.02211926949769e+03  -3.32031417436553e-13  -1.01817904800281e+02]\n"
       ]
      }
     ],
     "prompt_number": 11
    },
    {
     "cell_type": "markdown",
     "metadata": {},
     "source": [
      "The equilibrium vector is:"
     ]
    },
    {
     "cell_type": "code",
     "collapsed": false,
     "input": [
      "from numpy import abs, argmin, sum, sqrt\n",
      "phi = eigenvectors[:, argmin(abs(eigenvalues))]\n",
      "print \"phi: \", phi\n",
      "print \"sum|phi Q|: \", sum(abs(dot(phi, Q)))"
     ],
     "language": "python",
     "metadata": {},
     "outputs": [
      {
       "output_type": "stream",
       "stream": "stdout",
       "text": [
        "phi:  [ -2.499964350567e-05  -1.874973262925e-03  -4.999928701134e-03  -6.249910876417e-05  -9.999857402269e-01]\n",
        "sum|phi Q|:  1.27453603227e-13\n"
       ]
      }
     ],
     "prompt_number": 5
    },
    {
     "cell_type": "markdown",
     "metadata": {},
     "source": [
      "However, the DCprogs crows takes a different approach. First, they add the constraint the sum of populations should add to 1. And then they solve this problem via a linear least square approach:"
     ]
    },
    {
     "cell_type": "code",
     "collapsed": false,
     "input": [
      "def equilibrium_population(matrix):\n",
      "    from numpy.linalg import lstsq\n",
      "    from numpy import ones, concatenate\n",
      "    M = concatenate((matrix.T, ones(shape=(1, matrix.shape[0])) ) )\n",
      "    b = array([0]*(M.shape[0]-1) + [1], dtype=M.dtype)\n",
      "    return lstsq(M, b)\n",
      "def equilibrium_population2(matrix):\n",
      "    from numpy.linalg import inv\n",
      "    from numpy import ones, concatenate\n",
      "    M = concatenate((matrix, ones(shape=(matrix.shape[0], 1)) ), axis=1 )\n",
      "    M = dot(M, M.T)\n",
      "    return dot(ones(shape=(1, M.shape[0])), inv(M))\n",
      "phi, residues, rank, svd = equilibrium_population(Q)\n",
      "print \"phi: \", phi\n",
      "print \"sum|phi Q|: \", sum(abs(dot(phi, Q)))\n"
     ],
     "language": "python",
     "metadata": {},
     "outputs": [
      {
       "output_type": "stream",
       "stream": "stdout",
       "text": [
        "phi:  [  2.482714103056e-05   1.862035577295e-03   4.965428206115e-03   6.206785257648e-05   9.930856412230e-01]\n",
        "sum|phi Q|:  3.65124597224e-13\n"
       ]
      }
     ],
     "prompt_number": 6
    },
    {
     "cell_type": "markdown",
     "metadata": {},
     "source": [
      "Then we go to the markov process by multiplying by the correct matrix and normalising the sum of elements to one:\n"
     ]
    },
    {
     "cell_type": "code",
     "collapsed": false,
     "input": [
      "nopen = 2\n",
      "phiA = dot(phi[nopen:], Q[nopen:, :nopen])\n",
      "phiA /= sum(phiA)\n",
      "print \"phiA: \", phiA\n",
      "phiF = dot(phi[:nopen], Q[:nopen, nopen:])\n",
      "phiF /= sum(phiF)\n",
      "print \"phiF: \", phiF"
     ],
     "language": "python",
     "metadata": {},
     "outputs": [
      {
       "output_type": "stream",
       "stream": "stdout",
       "text": [
        "phiA:  [ 0.074074074074  0.925925925926]\n",
        "phiF:  [ 0.074074074074  0.925925925926  0.            ]\n"
       ]
      }
     ],
     "prompt_number": 7
    },
    {
     "cell_type": "markdown",
     "metadata": {},
     "source": [
      "From the G(s=0) matrix\n",
      "----------------------\n",
      "\n",
      "Another approach is to define equilibrium independantly for open and shut states, using the subblocks of $G(s=0)$:\n",
      "$$\n",
      "\\phi_\\mathcal{A}  = \\phi_\\mathcal{A}G_{\\mathcal{AF}}(s=0) G_\\mathcal{AF}(s=0)\n",
      "$$\n",
      "With the additional constraint that $\\sum_i\\phi$ = 1.\n",
      "This problem can be solved using the linear least square fit method, and adding a suitable row for the condition.\n"
     ]
    },
    {
     "cell_type": "code",
     "collapsed": false,
     "input": [
      "from collections import namedtuple\n",
      "StateMatrix = namedtuple('StateMatrix', [\"matrix\", \"nopen\"])\n",
      "sm = StateMatrix(Q, 2)\n",
      "\n",
      "def laplace_Gaf(Q, s):\n",
      "    from numpy import exp, eye, dot\n",
      "    from numpy.linalg import inv\n",
      "    Qaf = Q.matrix[:Q.nopen, Q.nopen:]\n",
      "    Qaa = Q.matrix[:Q.nopen, :Q.nopen]\n",
      "    return dot(inv(s*eye(Qaa.shape[1]) - Qaa), Qaf)\n",
      "\n",
      "def laplace_Gfa(Q, s):\n",
      "    from numpy import exp, eye, dot\n",
      "    from numpy.linalg import inv\n",
      "    Qfa = Q.matrix[Q.nopen:, :Q.nopen]\n",
      "    Qff = Q.matrix[Q.nopen:, Q.nopen:]\n",
      "    return dot(inv(s*eye(Qff.shape[1]) - Qff), Qfa)\n",
      "print laplace_Gfa(StateMatrix(Q, 2), 1)"
     ],
     "language": "python",
     "metadata": {},
     "outputs": [
      {
       "output_type": "stream",
       "stream": "stdout",
       "text": [
        "[[ 0.0632131443515   0.16634162505001]\n",
        " [ 0.013307330004    0.8244495816115 ]\n",
        " [ 0.057466494865    0.15121965913637]]\n"
       ]
      }
     ],
     "prompt_number": 17
    },
    {
     "cell_type": "code",
     "collapsed": false,
     "input": [
      "def equilibrium(Q, shut=False):\n",
      "    from numpy import ones, concatenate\n",
      "    from numpy.linalg import lstsq\n",
      "    aop = laplace_Gaf if shut else laplace_Gfa\n",
      "    bop = laplace_Gfa if shut else laplace_Gaf\n",
      "    matrix = dot(aop(Q, 0), bop(Q, 0)).T\n",
      "    A = concatenate(  (eye(matrix.shape[0]) - matrix, ones(shape=(1, matrix.shape[1])) ) ) \n",
      "    \n",
      "    b = array([0]*A.shape[1] + [1], dtype=A.dtype)\n",
      "    return lstsq(A, b)\n",
      "sm = StateMatrix(Q, 2)\n",
      "phiA, residues, rank, svd = equilibrium(sm, True)\n",
      "print \"phi_A: \", phiA, \" residues: \", residues\n",
      "gAFgFA = dot(laplace_Gaf(sm, 0), laplace_Gfa(sm, 0))\n",
      "print \"sum|phi_A G_{AF}G_{FA} - phi_A| \", sum(abs(dot(phiA, gAFgFA)-phiA))\n",
      "\n",
      "phiF, residues, rank, svd = equilibrium(sm, False)\n",
      "print \"phi_F: \", phiF, \" residues: \", residues\n",
      "gFAgAF = dot(laplace_Gfa(sm, 0), laplace_Gaf(sm, 0))\n",
      "print \"sum|phi_F G_{FA}G_{AF}  - phi_F| \", sum(abs(dot(phiF, gFAgAF)-phiF))\n"
     ],
     "language": "python",
     "metadata": {},
     "outputs": [
      {
       "output_type": "stream",
       "stream": "stdout",
       "text": [
        "[[ 0.72819680533015 -0.05825574442641]\n",
        " [-0.72819680533013  0.05825574442642]\n",
        " [ 1.                1.              ]]\n",
        "phi_A:  [ 0.07407407407408  0.92592592592592]  residues:  [  1.27205746896833e-29]\n",
        "sum|phi_A G_{AF}G_{FA} - phi_A|  5.12090370108e-15\n",
        "[[ 0.72819680533015 -0.05825574442641 -0.27180319466985]\n",
        " [-0.72819680533013  0.05825574442642 -0.72819680533013]\n",
        " [ 0.                0.                1.              ]\n",
        " [ 1.                1.                1.              ]]\n",
        "phi_F:  [  7.40740740740765e-02   9.25925925925922e-01   1.55431223447522e-15]  residues:  [  8.46389235130676e-30]\n",
        "sum|phi_F G_{FA}G_{AF}  - phi_F|  5.23192600355e-15\n"
       ]
      }
     ],
     "prompt_number": 12
    },
    {
     "cell_type": "markdown",
     "metadata": {},
     "source": [
      "Fortunately, both approaches agree."
     ]
    }
   ],
   "metadata": {}
  }
 ]
}