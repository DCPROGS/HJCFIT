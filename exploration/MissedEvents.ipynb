{
 "metadata": {
  "name": "MissedEvents"
 },
 "nbformat": 3,
 "nbformat_minor": 0,
 "worksheets": [
  {
   "cells": [
    {
     "cell_type": "code",
     "collapsed": false,
     "input": [
      "from numpy import array\n",
      "from dcprogs.likelihood import StateMatrix, DeterminantEq, Asymptotes, find_roots, ExactSurvivor, ApproxSurvivor, create_approx_survivor, create_missed_eventsG\n",
      "Qmatrix = StateMatrix( \n",
      "           array([[ -3050,        50,  3000,      0,    0 ], \n",
      "                  [ 2./3., -1502./3.,     0,    500,    0 ],  \n",
      "                  [    15,         0, -2065,     50, 2000 ],  \n",
      "                  [     0,     15000,  4000, -19000,    0 ],  \n",
      "                  [     0,         0,    10,      0,  -10 ] ]), 2)\n",
      "\n",
      "transitions = Qmatrix\n",
      "tau = 1e-4\n",
      "a = DeterminantEq(transitions, tau)\n",
      "G = create_missed_eventsG(transitions, tau)\n",
      "approx = create_approx_survivor(transitions, tau)\n",
      "exact = ExactSurvivor(transitions, tau)"
     ],
     "language": "python",
     "metadata": {},
     "outputs": [],
     "prompt_number": 1
    },
    {
     "cell_type": "code",
     "collapsed": false,
     "input": [
      "tau, i, j, n = 1e-4, 0, 0, 4\n",
      "\n",
      "x = arange(tau, n * tau, tau / 10.)\n",
      "plot(x, [dot(exact.af(u-tau), G.af_factor)[i, j] for u in x], \".\", label=\"exact\")\n",
      "plot(x, [dot(approx.af(u-tau), G.af_factor)[i, j] for u in x], \"-.\", label=\"approx\")\n",
      "plot(x, [G.af(u)[i, j] for u in x], '--', label=\"G\")\n",
      "title(\"Component ${0}$ of the matrix $^{{e}}G_{{af}}$.\".format((i, j)))\n",
      "legend()"
     ],
     "language": "python",
     "metadata": {},
     "outputs": [
      {
       "output_type": "pyout",
       "prompt_number": 2,
       "text": [
        "<matplotlib.legend.Legend at 0x10f7ac710>"
       ]
      }
     ],
     "prompt_number": 2
    }
   ],
   "metadata": {}
  }
 ]
}