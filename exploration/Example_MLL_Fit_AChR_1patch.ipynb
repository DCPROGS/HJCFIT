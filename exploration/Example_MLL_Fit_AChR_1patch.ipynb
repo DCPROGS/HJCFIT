{
 "cells": [
  {
   "cell_type": "markdown",
   "metadata": {},
   "source": [
    "# HJCFIT- maximum likelihood fit of single-channel data: a simple example"
   ]
  },
  {
   "cell_type": "markdown",
   "metadata": {},
   "source": [
    "Some general settings:"
   ]
  },
  {
   "cell_type": "code",
   "execution_count": 1,
   "metadata": {
    "collapsed": false
   },
   "outputs": [],
   "source": [
    "%matplotlib inline\n",
    "import matplotlib.pyplot as plt"
   ]
  },
  {
   "cell_type": "code",
   "execution_count": 2,
   "metadata": {
    "collapsed": true
   },
   "outputs": [],
   "source": [
    "import sys, time, math\n",
    "import numpy as np\n",
    "from numpy import linalg as nplin"
   ]
  },
  {
   "cell_type": "markdown",
   "metadata": {},
   "source": [
    "### Load data"
   ]
  },
  {
   "cell_type": "markdown",
   "metadata": {},
   "source": [
    "HJCFIT depends on DCPROGS/DCPYPS module for data input and setting kinetic mechanism:"
   ]
  },
  {
   "cell_type": "code",
   "execution_count": 3,
   "metadata": {
    "collapsed": true
   },
   "outputs": [],
   "source": [
    "from dcpyps.samples import samples\n",
    "from dcpyps import dataset, mechanism, dcplots"
   ]
  },
  {
   "cell_type": "code",
   "execution_count": 4,
   "metadata": {
    "collapsed": false
   },
   "outputs": [],
   "source": [
    "fname = \"CH82.scn\" # binary SCN file containing simulated idealised single-channel open/shut intervals\n",
    "tr = 1e-4 # temporal resolution to be imposed to the record\n",
    "tc = 4e-3 # critical time interval to cut the record into bursts\n",
    "conc = 100e-9 # agonist concentration \n"
   ]
  },
  {
   "cell_type": "markdown",
   "metadata": {},
   "source": [
    "Initialise Single-Channel Record from dcpyps. Note that SCRecord takes a list of file names; several SCN files from the same patch can be loaded."
   ]
  },
  {
   "cell_type": "code",
   "execution_count": 5,
   "metadata": {
    "collapsed": false
   },
   "outputs": [
    {
     "name": "stdout",
     "output_type": "stream",
     "text": [
      "\n",
      "\n",
      " Data loaded from file: CH82.scn\n",
      "Concentration of agonist = 0.100 microMolar\n",
      "Resolution for HJC calculations = 100.0 microseconds\n",
      "Critical gap length to define end of group (tcrit) = 4.000 milliseconds\n",
      "\t(defined so that all openings in a group prob come from same channel)\n",
      "Initial and final vectors for bursts calculated asin Colquhoun, Hawkes & Srodzinski, (1996, eqs 5.8, 5.11).\n",
      "\n",
      "Number of resolved intervals = 1672\n",
      "Number of resolved periods = 1672\n",
      "\n",
      "Number of open periods = 836\n",
      "Mean and SD of open periods = 5.703315580 +/- 6.217026586 ms\n",
      "Range of open periods from 0.101663936 ms to 36.745440215 ms\n",
      "\n",
      "Number of shut intervals = 836\n",
      "Mean and SD of shut periods = 2843.529462814 +/- 3982.407808304 ms\n",
      "Range of shut periods from 0.100163714 ms to 30754.167556763 ms\n",
      "Last shut period = 3821.345090866 ms\n",
      "\n",
      "Number of bursts = 572\n",
      "Average length = 8.425049759 ms\n",
      "Range: 0.102 to 62.906 millisec\n",
      "Average number of openings= 1.461538462\n"
     ]
    }
   ],
   "source": [
    "# Initaialise SCRecord instance.\n",
    "rec = dataset.SCRecord([fname], conc, tres=tr, tcrit=tc)\n",
    "rec.printout()"
   ]
  },
  {
   "cell_type": "markdown",
   "metadata": {},
   "source": [
    "Plot dwell-time histograms for inspection. In single-channel analysis field it is common to plot these histograms with x-axis in log scale and y-axis in square-root scale. After such transformation exponential pdf has a bell-shaped form."
   ]
  },
  {
   "cell_type": "code",
   "execution_count": 6,
   "metadata": {
    "collapsed": false
   },
   "outputs": [
    {
     "data": {
      "image/png": "[encoded data removed]",
      "text/plain": [
       "<matplotlib.figure.Figure at 0x6defb70>"
      ]
     },
     "metadata": {},
     "output_type": "display_data"
    }
   ],
   "source": [
    "fig = plt.figure(figsize=(12,5))\n",
    "\n",
    "ax1 = fig.add_subplot(121)\n",
    "dcplots.xlog_hist_data(ax1, rec.opint, rec.tres, shut=False)\n",
    "\n",
    "ax2 = fig.add_subplot(122)\n",
    "dcplots.xlog_hist_data(ax2, rec.shint, rec.tres)\n",
    "\n",
    "fig.tight_layout()"
   ]
  },
  {
   "cell_type": "markdown",
   "metadata": {},
   "source": [
    "### Load demo mechanism (C&H82 numerical example)"
   ]
  },
  {
   "cell_type": "code",
   "execution_count": 7,
   "metadata": {
    "collapsed": false
   },
   "outputs": [
    {
     "name": "stdout",
     "output_type": "stream",
     "text": [
      "\n",
      "class dcpyps.Mechanism\n",
      "Values of unit rates [1/sec]:\n",
      "0\tFrom AR  \tto AR*    \tbeta1   \t15.0\n",
      "1\tFrom A2R  \tto A2R*    \tbeta2   \t15000.0\n",
      "2\tFrom AR*  \tto AR    \talpha1   \t3000.0\n",
      "3\tFrom A2R*  \tto A2R    \talpha2   \t500.0\n",
      "4\tFrom AR  \tto R    \tk(-1)   \t2000.0\n",
      "5\tFrom A2R  \tto AR    \t2k(-2)   \t4000.0\n",
      "6\tFrom R  \tto AR    \t2k(+1)   \t100000000.0\n",
      "7\tFrom AR*  \tto A2R*    \tk*(+2)   \t500000000.0\n",
      "8\tFrom AR  \tto A2R    \tk(+2)   \t500000000.0\n",
      "9\tFrom A2R*  \tto AR*    \t2k*(-2)   \t0.66667\n",
      "\n",
      "Conductance of state AR* (pS)  =      60\n",
      "\n",
      "Conductance of state A2R* (pS)  =      60\n",
      "\n",
      "Number of open states = 2\n",
      "Number of short-lived shut states (within burst) = 2\n",
      "Number of long-lived shut states (between bursts) = 1\n",
      "Number of desensitised states = 0\n",
      "\n",
      "Number of cycles = 1\n",
      "Cycle 0 is formed of states: A2R*  AR*  AR  A2R  \n",
      "\tforward product = 1.500007500e+16\n",
      "\tbackward product = 1.500000000e+16"
     ]
    }
   ],
   "source": [
    "mec = samples.CH82()\n",
    "mec.printout()"
   ]
  },
  {
   "cell_type": "code",
   "execution_count": 8,
   "metadata": {
    "collapsed": false
   },
   "outputs": [],
   "source": [
    "# PREPARE RATE CONSTANTS.\n",
    "# Fixed rates\n",
    "mec.Rates[7].fixed = True\n",
    "# Constrained rates\n",
    "mec.Rates[5].is_constrained = True\n",
    "mec.Rates[5].constrain_func = mechanism.constrain_rate_multiple\n",
    "mec.Rates[5].constrain_args = [4, 2]\n",
    "mec.Rates[6].is_constrained = True\n",
    "mec.Rates[6].constrain_func = mechanism.constrain_rate_multiple\n",
    "mec.Rates[6].constrain_args = [8, 2]\n",
    "# Rates constrained by microscopic reversibility\n",
    "mec.set_mr(True, 9, 0)\n",
    "# Update rates\n",
    "mec.update_constrains()"
   ]
  },
  {
   "cell_type": "code",
   "execution_count": 9,
   "metadata": {
    "collapsed": false
   },
   "outputs": [
    {
     "name": "stdout",
     "output_type": "stream",
     "text": [
      "\n",
      "class dcpyps.Mechanism\n",
      "Values of unit rates [1/sec]:\n",
      "0\tFrom AR  \tto AR*    \tbeta1   \t15.0\n",
      "1\tFrom A2R  \tto A2R*    \tbeta2   \t15000.0\n",
      "2\tFrom AR*  \tto AR    \talpha1   \t3000.0\n",
      "3\tFrom A2R*  \tto A2R    \talpha2   \t500.0\n",
      "4\tFrom AR  \tto R    \tk(-1)   \t2000.0\n",
      "5\tFrom A2R  \tto AR    \t2k(-2)   \t4000.0\n",
      "6\tFrom R  \tto AR    \t2k(+1)   \t1000000000.0\n",
      "7\tFrom AR*  \tto A2R*    \tk*(+2)   \t500000000.0\n",
      "8\tFrom AR  \tto A2R    \tk(+2)   \t500000000.0\n",
      "9\tFrom A2R*  \tto AR*    \t2k*(-2)   \t0.666666666667\n",
      "\n",
      "Conductance of state AR* (pS)  =      60\n",
      "\n",
      "Conductance of state A2R* (pS)  =      60\n",
      "\n",
      "Number of open states = 2\n",
      "Number of short-lived shut states (within burst) = 2\n",
      "Number of long-lived shut states (between bursts) = 1\n",
      "Number of desensitised states = 0\n",
      "\n",
      "Number of cycles = 1\n",
      "Cycle 0 is formed of states: A2R*  AR*  AR  A2R  \n",
      "\tforward product = 1.500000000e+16\n",
      "\tbackward product = 1.500000000e+16"
     ]
    }
   ],
   "source": [
    "#Propose initial guesses different from recorded ones \n",
    "#initial_guesses = [100, 3000, 10000, 100, 1000, 1000, 1e+7, 5e+7, 6e+7, 10]\n",
    "initial_guesses = mec.unit_rates()\n",
    "mec.set_rateconstants(initial_guesses)\n",
    "mec.update_constrains()\n",
    "mec.printout()"
   ]
  },
  {
   "cell_type": "code",
   "execution_count": 10,
   "metadata": {
    "collapsed": false
   },
   "outputs": [
    {
     "name": "stdout",
     "output_type": "stream",
     "text": [
      "\n",
      "theta= [  1.50000000e+01   1.50000000e+04   3.00000000e+03   5.00000000e+02\n",
      "   2.00000000e+03   5.00000000e+08]\n"
     ]
    }
   ],
   "source": [
    "# Extract free parameters\n",
    "theta = mec.theta()\n",
    "print ('\\ntheta=', theta)"
   ]
  },
  {
   "cell_type": "markdown",
   "metadata": {},
   "source": [
    "### Prepare likelihood function"
   ]
  },
  {
   "cell_type": "code",
   "execution_count": 11,
   "metadata": {
    "collapsed": false
   },
   "outputs": [],
   "source": [
    "def dcprogslik(x, lik, m, c):\n",
    "    m.theta_unsqueeze(np.exp(x))\n",
    "    l = 0\n",
    "    for i in range(len(c)):\n",
    "        m.set_eff('c', c[i])\n",
    "        l += lik[i](m.Q)\n",
    "    return -l * math.log(10)"
   ]
  },
  {
   "cell_type": "code",
   "execution_count": 12,
   "metadata": {
    "collapsed": false
   },
   "outputs": [],
   "source": [
    "# Import HJCFIT likelihood function\n",
    "from dcprogs.likelihood import Log10Likelihood\n",
    "\n",
    "# Get bursts from the record\n",
    "bursts = rec.bursts.intervals()\n",
    "# Initiate likelihood function with bursts, number of open states,\n",
    "# temporal resolution and critical time interval\n",
    "likelihood = Log10Likelihood(bursts, mec.kA, tr, tc)"
   ]
  },
  {
   "cell_type": "code",
   "execution_count": 13,
   "metadata": {
    "collapsed": false
   },
   "outputs": [
    {
     "name": "stdout",
     "output_type": "stream",
     "text": [
      "\n",
      "Initial likelihood = 5264.414344\n"
     ]
    }
   ],
   "source": [
    "lik = dcprogslik(np.log(theta), [likelihood], mec, [conc])\n",
    "print (\"\\nInitial likelihood = {0:.6f}\".format(-lik))"
   ]
  },
  {
   "cell_type": "markdown",
   "metadata": {},
   "source": [
    "### Run optimisation"
   ]
  },
  {
   "cell_type": "code",
   "execution_count": 14,
   "metadata": {
    "collapsed": false
   },
   "outputs": [
    {
     "name": "stdout",
     "output_type": "stream",
     "text": [
      "\n",
      "ScyPy.minimize (Nelder-Mead) Fitting started: 2016/03/10 12:10:30\n",
      "\n",
      "ScyPy.minimize (Nelder-Mead) Fitting finished: 2016/03/10 12:10:31\n",
      "\n",
      "CPU time in ScyPy.minimize (Nelder-Mead)= 0.856413275422394\n",
      "Wall clock time in ScyPy.minimize (Nelder-Mead)= 0.8570489883422852\n",
      "\n",
      "Result   ==========================================\n",
      "   status: 0\n",
      " message: 'Optimization terminated successfully.'\n",
      "    nfev: 415\n",
      "       x: array([  2.33189798,   9.48999371,   8.20461943,   6.05142787,\n",
      "         7.68244318,  19.98586637])\n",
      "     nit: 256\n",
      "     fun: -5268.5914092352814\n",
      " success: True\n"
     ]
    }
   ],
   "source": [
    "from scipy.optimize import minimize\n",
    "print (\"\\nScyPy.minimize (Nelder-Mead) Fitting started: \" +\n",
    "       \"%4d/%02d/%02d %02d:%02d:%02d\"%time.localtime()[0:6])\n",
    "start = time.clock()\n",
    "start_wall = time.time()\n",
    "result = minimize(dcprogslik, np.log(theta), args=([likelihood], mec, [conc]),\n",
    "               method='Nelder-Mead')\n",
    "t3 = time.clock() - start\n",
    "t3_wall = time.time() - start_wall\n",
    "print (\"\\nScyPy.minimize (Nelder-Mead) Fitting finished: \" +\n",
    "       \"%4d/%02d/%02d %02d:%02d:%02d\"%time.localtime()[0:6])\n",
    "print ('\\nCPU time in ScyPy.minimize (Nelder-Mead)=', t3)\n",
    "print ('Wall clock time in ScyPy.minimize (Nelder-Mead)=', t3_wall)\n",
    "print ('\\nResult   ==========================================\\n', result)"
   ]
  },
  {
   "cell_type": "code",
   "execution_count": 15,
   "metadata": {
    "collapsed": false
   },
   "outputs": [
    {
     "name": "stdout",
     "output_type": "stream",
     "text": [
      "\n",
      "Final likelihood = 5268.5914092352813896\n",
      "\n",
      "Final rate constants:\n",
      "\n",
      "class dcpyps.Mechanism\n",
      "Values of unit rates [1/sec]:\n",
      "0\tFrom AR  \tto AR*    \tbeta1   \t10.2974673884\n",
      "1\tFrom A2R  \tto A2R*    \tbeta2   \t13226.7121605\n",
      "2\tFrom AR*  \tto AR    \talpha1   \t3657.80834791\n",
      "3\tFrom A2R*  \tto A2R    \talpha2   \t424.719039018\n",
      "4\tFrom AR  \tto R    \tk(-1)   \t2169.9147908\n",
      "5\tFrom A2R  \tto AR    \t2k(-2)   \t4339.82958159\n",
      "6\tFrom R  \tto AR    \t2k(+1)   \t956712565.145\n",
      "7\tFrom AR*  \tto A2R*    \tk*(+2)   \t500000000.0\n",
      "8\tFrom AR  \tto A2R    \tk(+2)   \t478356282.573\n",
      "9\tFrom A2R*  \tto AR*    \t2k*(-2)   \t0.410062923425\n",
      "\n",
      "Conductance of state AR* (pS)  =      60\n",
      "\n",
      "Conductance of state A2R* (pS)  =      60\n",
      "\n",
      "Number of open states = 2\n",
      "Number of short-lived shut states (within burst) = 2\n",
      "Number of long-lived shut states (between bursts) = 1\n",
      "Number of desensitised states = 0\n",
      "\n",
      "Number of cycles = 1\n",
      "Cycle 0 is formed of states: A2R*  AR*  AR  A2R  \n",
      "\tforward product = 9.490188419e+15\n",
      "\tbackward product = 9.490188419e+15"
     ]
    }
   ],
   "source": [
    "print (\"\\nFinal likelihood = {0:.16f}\".format(-result.fun))\n",
    "mec.theta_unsqueeze(np.exp(result.x))\n",
    "print (\"\\nFinal rate constants:\")\n",
    "mec.printout()"
   ]
  },
  {
   "cell_type": "markdown",
   "metadata": {},
   "source": [
    "### Plot experimental histograms and predicted pdfs"
   ]
  },
  {
   "cell_type": "code",
   "execution_count": 16,
   "metadata": {
    "collapsed": false
   },
   "outputs": [],
   "source": [
    "from dcprogs.likelihood import QMatrix\n",
    "from dcprogs.likelihood import missed_events_pdf, ideal_pdf, IdealG, eig\n",
    "qmatrix = QMatrix(mec.Q, 2)\n",
    "idealG = IdealG(qmatrix)"
   ]
  },
  {
   "cell_type": "markdown",
   "metadata": {},
   "source": [
    "Note that to properly overlay ideal and missed-event corrected pdfs ideal pdf has to be scaled (need to renormailse to 1 the area under pdf from $\\tau_{res}$). "
   ]
  },
  {
   "cell_type": "code",
   "execution_count": 18,
   "metadata": {
    "collapsed": false
   },
   "outputs": [],
   "source": [
    "# Scale for ideal pdf\n",
    "def scalefac(tres, matrix, phiA):\n",
    "    eigs, M = eig(-matrix)\n",
    "    N = nplin.inv(M)\n",
    "    k = N.shape[0]\n",
    "    A = np.zeros((k, k, k))\n",
    "    for i in range(k):\n",
    "        A[i] = np.dot(M[:, i].reshape(k, 1), N[i].reshape(1, k))\n",
    "    w = np.zeros(k)\n",
    "    for i in range(k):\n",
    "        w[i] = np.dot(np.dot(np.dot(phiA, A[i]), (-matrix)), np.ones((k, 1)))\n",
    "    return 1 / np.sum((w / eigs) * np.exp(-tres * eigs))"
   ]
  },
  {
   "cell_type": "code",
   "execution_count": 19,
   "metadata": {
    "collapsed": false
   },
   "outputs": [
    {
     "data": {
      "image/png": "[encoded data removed]",
      "text/plain": [
       "<matplotlib.figure.Figure at 0x9cf1ef0>"
      ]
     },
     "metadata": {},
     "output_type": "display_data"
    }
   ],
   "source": [
    "fig = plt.figure(figsize=(12,5))\n",
    "\n",
    "# Plot apparent open period histogram\n",
    "ax1 = fig.add_subplot(121)\n",
    "ipdf = ideal_pdf(qmatrix, shut=False) \n",
    "iscale = scalefac(tr, qmatrix.aa, idealG.initial_occupancies)\n",
    "epdf = missed_events_pdf(qmatrix, tr, nmax=2, shut=False)\n",
    "dcplots.xlog_hist_HJC_fit(ax1, rec.tres, rec.opint, epdf, ipdf, iscale, shut=False)\n",
    "\n",
    "# Plot apparent shut period histogram\n",
    "ax2 = fig.add_subplot(122)\n",
    "ipdf = ideal_pdf(qmatrix, shut=True)\n",
    "iscale = scalefac(tr, qmatrix.ff, idealG.final_occupancies)\n",
    "epdf = missed_events_pdf(qmatrix, tr, nmax=2, shut=True)\n",
    "dcplots.xlog_hist_HJC_fit(ax2, rec.tres, rec.shint, epdf, ipdf, iscale, tcrit=rec.tcrit)\n",
    "\n",
    "fig.tight_layout()"
   ]
  },
  {
   "cell_type": "markdown",
   "metadata": {},
   "source": [
    "Note that in this record only shut time intervals shorter than critical time ($t_{crit}$) were used to minimise likelihood. Thus, only a part of shut time histrogram (to the left from green line, indicating $t_{crit}$ value, in the above plot) is predicted well by rate constant estimates."
   ]
  },
  {
   "cell_type": "code",
   "execution_count": null,
   "metadata": {
    "collapsed": true
   },
   "outputs": [],
   "source": []
  }
 ],
 "metadata": {
  "kernelspec": {
   "display_name": "Python 3",
   "language": "python",
   "name": "python3"
  },
  "language_info": {
   "codemirror_mode": {
    "name": "ipython",
    "version": 3
   },
   "file_extension": ".py",
   "mimetype": "text/x-python",
   "name": "python",
   "nbconvert_exporter": "python",
   "pygments_lexer": "ipython3",
   "version": "3.5.0"
  }
 },
 "nbformat": 4,
 "nbformat_minor": 0
}
