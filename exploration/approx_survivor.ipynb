{
 "metadata": {
  "name": "approx_survivor"
 },
 "nbformat": 3,
 "nbformat_minor": 0,
 "worksheets": [
  {
   "cells": [
    {
     "cell_type": "code",
     "collapsed": false,
     "input": [
      "from numpy import array\n",
      "from dcprogs.likelihood import QMatrix, DeterminantEq, Asymptotes, find_roots, ExactSurvivor, ApproxSurvivor, create_approx_survivor\n",
      "qmatrix = QMatrix( \n",
      "           array([[ -3050,        50,  3000,      0,    0 ], \n",
      "                  [ 2./3., -1502./3.,     0,    500,    0 ],  \n",
      "                  [    15,         0, -2065,     50, 2000 ],  \n",
      "                  [     0,     15000,  4000, -19000,    0 ],  \n",
      "                  [     0,         0,    10,      0,  -10 ] ]), 2)\n",
      "\n",
      "transitions = qmatrix\n",
      "tau = 1e-4\n",
      "a = DeterminantEq(transitions, tau)\n",
      "approx = create_approx_survivor(transitions, tau)"
     ],
     "language": "python",
     "metadata": {},
     "outputs": [],
     "prompt_number": 1
    },
    {
     "cell_type": "code",
     "collapsed": false,
     "input": [
      "tau, i, j, n = 1e-4, 2, 2, 4\n",
      "\n",
      "transitions = qmatrix.transpose()\n",
      "exact = ExactSurvivor(transitions, tau)\n",
      "approx = create_approx_survivor(transitions, tau)\n",
      "\n",
      "x = arange(0, n * tau, tau / 10.)\n",
      "plot(x, exact.af(x)[:, i, j], label=\"exact\")\n",
      "plot(x, approx.af(x)[:, i, j], label=\"approx\")\n",
      "title(\"Component ${0}$ of the matrix $R_{{af}}$.\".format((i, j)))\n",
      "legend()"
     ],
     "language": "python",
     "metadata": {},
     "outputs": [
      {
       "output_type": "pyout",
       "prompt_number": 2,
       "text": [
        "<matplotlib.legend.Legend at 0x105aa9690>"
       ]
      }
     ],
     "prompt_number": 2
    },
    {
     "cell_type": "code",
     "collapsed": false,
     "input": [
      "from dcprogs.likelihood import MissedEventsG, create_missed_eventsG, missed_events_pdf\n",
      "\n",
      "tau = 2e-4\n",
      "x, i, j = arange(0, 8*tau, tau/10.0), 2, 0\n",
      "missedG = create_missed_eventsG(qmatrix, tau)\n",
      "pdf = missed_events_pdf(qmatrix, tau, shut=True)\n",
      "print missedG.fa(0)\n",
      "#plot(x, [missedG.fa(u)[i, j] for u in x])\n",
      "plot(x, pdf(x))\n",
      "\n",
      "# plot(x, missed_events_pdf(qmatrix, tau, shut=True)(x))"
     ],
     "language": "python",
     "metadata": {},
     "outputs": [
      {
       "output_type": "stream",
       "stream": "stdout",
       "text": [
        "[[ 0.0  0.0]\n",
        " [ 0.0  0.0]\n",
        " [ 0.0  0.0]]\n"
       ]
      },
      {
       "output_type": "pyout",
       "prompt_number": 3,
       "text": [
        "[<matplotlib.lines.Line2D at 0x109ba5050>]"
       ]
      }
     ],
     "prompt_number": 3
    },
    {
     "cell_type": "code",
     "collapsed": false,
     "input": [
      "def create_derivative(qmatrix, tau):\n",
      "    from numpy import identity, dot\n",
      "    from dcprogs.likelihood import inv, expm\n",
      "    \n",
      "    If = identity(qmatrix.nshut)\n",
      "    Ia = identity(qmatrix.nopen)\n",
      " \n",
      "    def Xff(s): return s*If - qmatrix.ff\n",
      "    def Sff(s): return If - expm(-tau*Xff(s))\n",
      "    def Gaf(s): return dot(inv(Xff(s)), qmatrix.fa)\n",
      "  \n",
      "    def derivative(s):\n",
      "        from numpy import dot\n",
      "        result = dot(Sff(s), inv(Xff(s))) - tau * (If - Sff(s))\n",
      "        return Ia + dot(dot(qmatrix.af, result), Gaf(s)) \n",
      "    return derivative\n",
      "\n",
      "derivative = create_derivative(qmatrix, tau)\n",
      "print derivative(-1000), \"\\n\"\n",
      "determinant = DeterminantEq(qmatrix, tau)\n",
      "print determinant.s_derivative(-1000)\n",
      "print -(determinant.H(-1000+1e-4) -  determinant.H(-1000-1e-4)) / (2e-4) + identity(qmatrix.nopen) - determinant.s_derivative(-1000)"
     ],
     "language": "python",
     "metadata": {},
     "outputs": [
      {
       "output_type": "stream",
       "stream": "stdout",
       "text": [
        "[[ 1.0007828  0.0019513459]\n",
        " [ 2.6017945e-05  1.0202943]] \n",
        "\n",
        "[[ 1.0007828  0.0019513459]\n",
        " [ 2.6017945e-05  1.0202943]]\n",
        "[[ 1.295485e-13 -4.9130311e-13]\n",
        " [-6.5001132e-15 -5.7521848e-12]]\n"
       ]
      }
     ],
     "prompt_number": 5
    }
   ],
   "metadata": {}
  }
 ]
}