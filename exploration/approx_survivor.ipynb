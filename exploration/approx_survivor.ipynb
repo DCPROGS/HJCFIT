{
 "metadata": {
  "name": "approx_survivor"
 },
 "nbformat": 3,
 "nbformat_minor": 0,
 "worksheets": [
  {
   "cells": [
    {
     "cell_type": "code",
     "collapsed": false,
     "input": [
      "from numpy import array\n",
      "from dcprogs.likelihood import QMatrix, DeterminantEq, Asymptotes, find_roots, ExactSurvivor, ApproxSurvivor, create_approx_survivor\n",
      "qmatrix = QMatrix( \n",
      "           array([[ -3050,        50,  3000,      0,    0 ], \n",
      "                  [ 2./3., -1502./3.,     0,    500,    0 ],  \n",
      "                  [    15,         0, -2065,     50, 2000 ],  \n",
      "                  [     0,     15000,  4000, -19000,    0 ],  \n",
      "                  [     0,         0,    10,      0,  -10 ] ]), 2)\n",
      "\n",
      "transitions = qmatrix\n",
      "tau = 1e-4\n",
      "a = DeterminantEq(transitions, tau)\n",
      "approx = create_approx_survivor(transitions, tau)\n",
      "approx.af(0)"
     ],
     "language": "python",
     "metadata": {},
     "outputs": [
      {
       "output_type": "pyout",
       "prompt_number": 1,
       "text": [
        "array([[  1.00024021e+00,   6.07275562e-05],\n",
        "       [  8.09700749e-07,   1.01202035e+00]])"
       ]
      }
     ],
     "prompt_number": 1
    },
    {
     "cell_type": "code",
     "collapsed": false,
     "input": [
      "tau, i, j, n = 1e-4, 0, 0, 4\n",
      "\n",
      "transitions = qmatrix.transpose()\n",
      "exact = ExactSurvivor(transitions, tau)\n",
      "approx = create_approx_survivor(transitions, tau)\n",
      "\n",
      "x = arange(0, n * tau, tau / 10.)\n",
      "plot(x, [exact.af(u)[i, j] for u in x], label=\"exact\")\n",
      "plot(x, [approx.af(u)[i, j] for u in x], label=\"approx\")\n",
      "title(\"Component ${0}$ of the matrix $R_{{af}}$.\".format((i, j)))\n",
      "legend()"
     ],
     "language": "python",
     "metadata": {},
     "outputs": [
      {
       "output_type": "pyout",
       "prompt_number": 2,
       "text": [
        "<matplotlib.legend.Legend at 0x1186f1910>"
       ]
      }
     ],
     "prompt_number": 2
    },
    {
     "cell_type": "code",
     "collapsed": false,
     "input": [
      "from dcprogs.likelihood import MissedEventsG, create_missed_eventsG, missed_events_pdf\n",
      "\n",
      "x, i, j = arange(tau, 8*tau, tau/10.0), 1, 0\n",
      "missedG = create_missed_eventsG(qmatrix, tau)\n",
      "print missedG.initial_occupancies\n",
      "plot(x, [missedG.fa(u)[i, j] for u in x])\n",
      "# plot(x, missed_events_pdf(qmatrix, tau, shut=True)(x))"
     ],
     "language": "python",
     "metadata": {},
     "outputs": [
      {
       "output_type": "stream",
       "stream": "stdout",
       "text": [
        "[[ 0.1539661  0.8460339]]\n"
       ]
      },
      {
       "output_type": "pyout",
       "prompt_number": 13,
       "text": [
        "[<matplotlib.lines.Line2D at 0x117022250>]"
       ]
      }
     ],
     "prompt_number": 13
    }
   ],
   "metadata": {}
  }
 ]
}