{
 "metadata": {
  "name": "Time series"
 },
 "nbformat": 3,
 "nbformat_minor": 0,
 "worksheets": [
  {
   "cells": [
    {
     "cell_type": "markdown",
     "metadata": {},
     "source": [
      "Just checking the logic."
     ]
    },
    {
     "cell_type": "code",
     "collapsed": false,
     "input": [
      "def random_sorted(N=100):\n",
      "    from numpy import min, max\n",
      "    from numpy.random import random\n",
      "    result = random(N) \n",
      "    result.sort()\n",
      "    return (result - min(result)) / (max(result) - min(result)) * N\n",
      "\n",
      "def plot_time_series(series, ax = None):\n",
      "    from numpy import array, min, max, arange\n",
      "    from matplotlib import pylab\n",
      "    x = [series[0]] + [series[i/2] for i in range(2, 2*len(series)-1)]\n",
      "    y = (arange(0, len(x)) % 4 >= 2).astype('int')\n",
      "    if ax is None: ax = pylab.axes()\n",
      "    ax.plot(x, 0.1 + array(y))\n",
      "    ax.set_xlabel(\"time\")\n",
      "    ax.set_ylim((0, 1.2))\n",
      "    ax.set_xlim((min(x)-0.1, max(x)+0.1))\n",
      "    ax.yaxis.set_visible(False)\n",
      "    pylab.show()\n",
      "    return ax\n",
      "    \n",
      "series = random_sorted(N=100)\n",
      "ax = plot_time_series(series)"
     ],
     "language": "python",
     "metadata": {},
     "outputs": [
      {
       "output_type": "display_data",
       "png": "[encoded data removed]"
      }
     ],
     "prompt_number": 2
    },
    {
     "cell_type": "code",
     "collapsed": false,
     "input": [
      "def filter_series(series, tau=None):\n",
      "    from numpy import array, min, abs, add\n",
      "    durations = series[1:] - series[:-1]\n",
      "    if tau is None: tau = min(abs(durations)) + 0.01\n",
      "    i = 0\n",
      "    while i < len(durations) and durations[i] < tau: i += 2\n",
      "    if i >= len(durations): return array([], dtype=series.dtype)\n",
      "    if i == len(durations) - 1: return series[-2:] \n",
      "    \n",
      "    result = [series[i], durations[i]]\n",
      "    i += 1\n",
      "    while i < len(durations):\n",
      "        if durations[i] >= tau: result.append(durations[i])\n",
      "        else:\n",
      "            interval = durations[i]\n",
      "            if i + 1 < len(durations): \n",
      "                interval += durations[i+1]\n",
      "                i = i + 1\n",
      "            result[-1] += interval\n",
      "        i = i + 1\n",
      "    return add.accumulate(result)\n",
      "\n",
      "tau = 80*min(series[1:] - series[:-1])\n",
      "filtered = filter_series(series, tau=tau)\n",
      "if len(filtered): plot_time_series(filtered)\n",
      "        "
     ],
     "language": "python",
     "metadata": {},
     "outputs": [
      {
       "output_type": "display_data",
       "png": "[encoded data removed]"
      }
     ],
     "prompt_number": 3
    },
    {
     "cell_type": "markdown",
     "metadata": {},
     "source": [
      "The following loads the C++ version of the time filter using ctypes. It needs dcprogs installed as a library (at given location...) and it needs the wrapper to be defined as well. Whether these statements are True depends on you."
     ]
    },
    {
     "cell_type": "code",
     "collapsed": false,
     "input": [
      "from numpy import min\n",
      "series = random_sorted(N=100)\n",
      "ax = plot_time_series(series)\n",
      "\n",
      "tau = 100*min(series[1:] - series[:-1])\n",
      "filtered = filter_series(series, tau=tau)\n",
      "ax = plot_time_series(filtered)\n",
      "\n",
      "result = zeros_like(series)\n",
      "\n",
      "def load_time_filter_wrapper():\n",
      "    import ctypes \n",
      "    \n",
      "    likelihood = ctypes.CDLL(\"/usr/local/lib/liblikelihood.dylib\")\n",
      "    args = [ctypes.c_int, ctypes.POINTER(ctypes.c_double), \n",
      "            ctypes.c_double, ctypes.POINTER(ctypes.c_double)]\n",
      "    likelihood.time_filter_wrapper.argtypes = args\n",
      "    def time_filter_wrapper(series, tau):\n",
      "        from numpy import zeros_like\n",
      "        result = zeros_like(series)\n",
      "        \n",
      "        N = likelihood.time_filter_wrapper( series.shape[0], \n",
      "                                            series.ctypes.data_as(args[1]), \n",
      "                                            tau, \n",
      "                                            result.ctypes.data_as(args[-1]))\n",
      "        return result[:N]\n",
      "    return time_filter_wrapper\n",
      "\n",
      "time_filter_wrapper = load_time_filter_wrapper()\n",
      "\n",
      "plot_time_series(time_filter_wrapper(series, tau)) "
     ],
     "language": "python",
     "metadata": {},
     "outputs": [
      {
       "output_type": "display_data",
       "png": "[encoded data removed]"
      },
      {
       "output_type": "display_data",
       "png": "[encoded data removed]"
      },
      {
       "output_type": "display_data",
       "png": "[encoded data removed]"
      },
      {
       "output_type": "pyout",
       "prompt_number": 4,
       "text": [
        "<matplotlib.axes.AxesSubplot at 0x10f03d110>"
       ]
      }
     ],
     "prompt_number": 4
    },
    {
     "cell_type": "code",
     "collapsed": false,
     "input": [
      "def make_series(N, n, tau, alpha = 10):\n",
      "    \"\"\" Creates a time series with a known number of critical times.\n",
      "        \n",
      "        Parameters:\n",
      "        -----------\n",
      "            N: Number of events\n",
      "            n: Number of critical events\n",
      "            tau: Critical resolution\n",
      "    \"\"\"\n",
      "    from numpy.random import random, shuffle\n",
      "    from numpy import concatenate, add\n",
      "    supercrit = random(N-n) * (alpha - 1.01) * tau + tau *1.01\n",
      "    subcrit   = random(n) * tau * 0.99\n",
      "    intervals = concatenate((supercrit, subcrit))\n",
      "    shuffle(intervals)\n",
      "    return add.accumulate(concatenate(([0], intervals)))\n",
      "make_series(10, 3, 1).shape"
     ],
     "language": "python",
     "metadata": {},
     "outputs": [
      {
       "output_type": "pyout",
       "prompt_number": 5,
       "text": [
        "(11,)"
       ]
      }
     ],
     "prompt_number": 5
    },
    {
     "cell_type": "code",
     "collapsed": false,
     "input": [
      "def count_group(series, tau):\n",
      "    intervals = (series[1:] - series[:-1]) < tau\n",
      "    i, result = 0, 0\n",
      "    while i < len(intervals):\n",
      "        if intervals[i]: \n",
      "            result += 1\n",
      "            while intervals[i]: i += 1\n",
      "        i += 1\n",
      "    return result\n",
      "\n",
      "def nbfilters(series, tau):\n",
      "    from numpy import logical_not\n",
      "    intervals = (series[1:] - series[:-1]) < tau\n",
      "    i, result = 0, sum(logical_not(intervals))\n",
      "    while i < len(intervals):\n",
      "        if intervals[i]: \n",
      "            sub = 0\n",
      "            while i < len(intervals) and intervals[i]: \n",
      "                i += 1\n",
      "                sub += 1\n",
      "            if sub % 2 == 1: result -= 1\n",
      "        i += 1\n",
      "    if not intervals[-1]:\n",
      "        i = 0\n",
      "        while i < len(intervals) and (not intervals[::-1][i]): i += 1 \n",
      "        print \"HERE\", i\n",
      "        \n",
      "    return result + 1\n",
      "\n",
      "from numpy.random import randint\n",
      "from numpy import sum\n",
      "tau = 5\n",
      "for i in range(100):\n",
      "    N = randint(10, 101)\n",
      "    n = randint(1, 11)\n",
      "    series = make_series(N, n, tau=tau)\n",
      "    assert sum((series[1:] - series[:-1]) < tau) == n\n",
      "    assert sum((series[1:] - series[:-1]) >= tau) == N - n\n",
      "    filtered = filter_series(series, tau)\n",
      "    assert sum((filtered[1:] - filtered[:-1]) < tau) == 0\n",
      "    #\u00a0if series[-1] - series[-2] >= tau:\n",
      "        #\u00a0u = count_groups(series, tau)\n",
      "    assert len(filtered) == nbfilters(series, tau), (len(filtered), nbfilters(series, tau))\n",
      "        #if N-2*u != len(filtered[1:] - filtered[:-1]):\n",
      "        #    print len(filtered), nbfilters(series, tau)\n",
      "        #    print (series[1:]  - series[:-1]) < tau\n",
      "            # print len(filtered), N, u, n, N - u - n "
     ],
     "language": "python",
     "metadata": {},
     "outputs": [
      {
       "ename": "AssertionError",
       "evalue": "(3, 2)",
       "output_type": "pyerr",
       "traceback": [
        "\u001b[0;31m---------------------------------------------------------------------------\u001b[0m\n\u001b[0;31mAssertionError\u001b[0m                            Traceback (most recent call last)",
        "\u001b[0;32m<ipython-input-35-f5fb5f13240d>\u001b[0m in \u001b[0;36m<module>\u001b[0;34m()\u001b[0m\n\u001b[1;32m     41\u001b[0m     \u001b[0;31m#\u00a0if series[-1] - series[-2] >= tau:\u001b[0m\u001b[0;34m\u001b[0m\u001b[0;34m\u001b[0m\u001b[0m\n\u001b[1;32m     42\u001b[0m         \u001b[0;31m#\u00a0u = count_groups(series, tau)\u001b[0m\u001b[0;34m\u001b[0m\u001b[0;34m\u001b[0m\u001b[0m\n\u001b[0;32m---> 43\u001b[0;31m     \u001b[0;32massert\u001b[0m \u001b[0mlen\u001b[0m\u001b[0;34m(\u001b[0m\u001b[0mfiltered\u001b[0m\u001b[0;34m)\u001b[0m \u001b[0;34m==\u001b[0m \u001b[0mnbfilters\u001b[0m\u001b[0;34m(\u001b[0m\u001b[0mseries\u001b[0m\u001b[0;34m,\u001b[0m \u001b[0mtau\u001b[0m\u001b[0;34m)\u001b[0m\u001b[0;34m,\u001b[0m \u001b[0;34m(\u001b[0m\u001b[0mlen\u001b[0m\u001b[0;34m(\u001b[0m\u001b[0mfiltered\u001b[0m\u001b[0;34m)\u001b[0m\u001b[0;34m,\u001b[0m \u001b[0mnbfilters\u001b[0m\u001b[0;34m(\u001b[0m\u001b[0mseries\u001b[0m\u001b[0;34m,\u001b[0m \u001b[0mtau\u001b[0m\u001b[0;34m)\u001b[0m\u001b[0;34m)\u001b[0m\u001b[0;34m\u001b[0m\u001b[0m\n\u001b[0m\u001b[1;32m     44\u001b[0m         \u001b[0;31m#if N-2*u != len(filtered[1:] - filtered[:-1]):\u001b[0m\u001b[0;34m\u001b[0m\u001b[0;34m\u001b[0m\u001b[0m\n\u001b[1;32m     45\u001b[0m         \u001b[0;31m#    print len(filtered), nbfilters(series, tau)\u001b[0m\u001b[0;34m\u001b[0m\u001b[0;34m\u001b[0m\u001b[0m\n",
        "\u001b[0;31mAssertionError\u001b[0m: (3, 2)"
       ]
      }
     ],
     "prompt_number": 35
    },
    {
     "cell_type": "code",
     "collapsed": false,
     "input": [
      "series = array([0, 6.253730152737619, 7.1395739649369805, 14.980994970370155, 15.41368082048303, 16.2300190937992, \n",
      "                17.925006049193215, 26.973495570030217, 32.970730504092032, 33.746597102869494, 41.250619588233093,\n",
      "                48.358532712985173, 58.029511078140665, 66.147568468194919, 71.673321309222089, 78.02664673286354,\n",
      "                7def nbfilters(series, tau):\n"
     ],
     "language": "python",
     "metadata": {},
     "outputs": [],
     "prompt_number": 24
    },
    {
     "cell_type": "code",
     "collapsed": false,
     "input": [
      "def nbfilters(series, tau):\n",
      "    from numpy import logical_not\n",
      "    intervals = (series[1:] - series[:-1]) < tau\n",
      "    i, result = 0, sum(logical_not(intervals))\n",
      "    print \"result\", result\n",
      "    while i < len(intervals):\n",
      "        if intervals[i]: \n",
      "            sub = 0\n",
      "            while intervals[i] and i < len(intervals): \n",
      "                i += 1\n",
      "                sub += 1\n",
      "            if sub % 2 == 1: result -G= 1\n",
      "            print \"t\", i, sub, result\n",
      "        i += 1\n",
      "    return result + 1\n",
      "\n",
      "filtered = time_filter_wrapper(series, 1)\n",
      "print len(filtered), nbfilters(series, 1)"
     ],
     "language": "python",
     "metadata": {},
     "outputs": [
      {
       "output_type": "stream",
       "stream": "stdout",
       "text": [
        "14 result 20\n",
        "t 2 1 19\n",
        "t 5 2 19\n",
        "t 9 1 18\n",
        "t 16 1 17\n",
        "t 18 1 16\n",
        "t 20 1 15\n",
        "t 30 5 14\n",
        "t 32 1 13\n",
        "14\n"
       ]
      }
     ],
     "prompt_number": 26
    },
    {
     "cell_type": "code",
     "collapsed": false,
     "input": [
      "sum((series[1:] - series[:-1]) < 1)"
     ],
     "language": "python",
     "metadata": {},
     "outputs": [
      {
       "output_type": "pyout",
       "prompt_number": 20,
       "text": [
        "13"
       ]
      }
     ],
     "prompt_number": 20
    },
    {
     "cell_type": "code",
     "collapsed": false,
     "input": [],
     "language": "python",
     "metadata": {},
     "outputs": []
    }
   ],
   "metadata": {}
  }
 ]
}