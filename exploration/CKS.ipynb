{
 "metadata": {
  "name": "CKS"
 },
 "nbformat": 3,
 "nbformat_minor": 0,
 "worksheets": [
  {
   "cells": [
    {
     "cell_type": "markdown",
     "metadata": {},
     "source": [
      "CKF model\n",
      "=========\n",
      "\n",
      "The following tries to reproduce Fig 9 from [Hawkes, Jalali, Colquhoun (1992)](http://dx.doi.org/10.1098/rstb.1992.0116)."
     ]
    },
    {
     "cell_type": "code",
     "collapsed": false,
     "input": [
      "from dcprogs.likelihood import MissedEventsG, QMatrix, create_missed_eventsG, DeterminantEq, \\\n",
      "                               find_lower_bound_for_roots, find_root_intervals, find_roots,  \\\n",
      "                               ExactSurvivor, create_approx_survivor, missed_events_pdf,     \\\n",
      "                               ideal_pdf\n",
      "from dcprogs._likelihood_methods import exponential_pdfs\n",
      "\n",
      "tau = 0.2\n",
      "qmatrix = QMatrix([[-1, 1, 0], [19, -29, 10], [0, 0.026, -0.026]], 1)\n",
      "g = create_missed_eventsG(qmatrix, tau, 4)\n",
      "determinant = DeterminantEq(qmatrix, tau)\n",
      "exact = ExactSurvivor(qmatrix, tau)\n",
      "approx = create_approx_survivor(qmatrix, tau)\n",
      "phia = g.initial_occupancies\n",
      "phif = g.final_occupancies"
     ],
     "language": "python",
     "metadata": {},
     "outputs": [],
     "prompt_number": 1
    },
    {
     "cell_type": "markdown",
     "metadata": {},
     "source": [
      "Prepares plot a (density of observed shut times)"
     ]
    },
    {
     "cell_type": "code",
     "collapsed": false,
     "input": [
      "x = arange(0, 10, tau/10)\n",
      "pdf = missed_events_pdf(qmatrix, 0.2, nmax=4, shut=True)\n",
      "grapha = (x, pdf(x), '-k')"
     ],
     "language": "python",
     "metadata": {},
     "outputs": [
      {
       "output_type": "pyout",
       "prompt_number": 9,
       "text": [
        "[<matplotlib.lines.Line2D at 0x10ffee590>]"
       ]
      }
     ],
     "prompt_number": 9
    },
    {
     "cell_type": "markdown",
     "metadata": {},
     "source": [
      "Prepares plot b (density of excess shut-time + exponentials)"
     ]
    },
    {
     "cell_type": "code",
     "collapsed": false,
     "input": [
      "def exponential_pdfs(qmatrix, tau, shut=False, tcrit=None):\n",
      "  \"\"\" Returns a list of function that make up the asymptotic pdf. \n",
      "  \n",
      "      This is mostly to re-plot Hawkes et al (1992).\n",
      "  \"\"\"\n",
      "  from operator import itemgetter\n",
      "  from numpy import dot, sum, exp\n",
      "  from dcprogs.likelihood import create_missed_eventsG, create_approx_survivor\n",
      "\n",
      "  g = create_missed_eventsG(qmatrix, tau) \n",
      "  if tcrit is not None:\n",
      "    phi = g.final_CHS_occupancies(tcrit) if shut else g.initial_CHS_occupancies(tcrit) \n",
      "  else: \n",
      "    phi = g.final_occupancies if shut else g.initial_occupancies\n",
      "\n",
      "  if shut: \n",
      "    components = create_approx_survivor(qmatrix, tau).fa_components\n",
      "  else:\n",
      "    components = create_approx_survivor(qmatrix, tau).af_components\n",
      "  components = sorted(components, key=itemgetter(1))\n",
      "\n",
      "  if shut:\n",
      "    for matrix, root in components:\n",
      "      coef = sum(dot(phi, dot(matrix, g.fa_factor))[:g.nopen])\n",
      "      print matrix, root, coef\n",
      "      yield lambda t: coef * exp(root * (t-tau))\n",
      "            \n",
      "  else:\n",
      "    for matrix, root in components:\n",
      "      coef = sum(dot(phi, dot(matrix, g.af_factor))[g.nopen:])\n",
      "      yield lambda t: coef * exp(root * (t-tau))"
     ],
     "language": "python",
     "metadata": {},
     "outputs": [],
     "prompt_number": 41
    },
    {
     "cell_type": "code",
     "collapsed": false,
     "input": [
      "x = arange(0, 3*tau, tau/10)\n",
      "pdf = missed_events_pdf(qmatrix, 0.2, nmax=4, shut=True)\n",
      "\n",
      "graphb = [x, pdf(x+tau), '-k']\n",
      "functions = exponential_pdfs(qmatrix, 0.2, shut=True)\n",
      "plots = ['.r', '.b'] \n",
      "for f, p in zip(functions, plots):\n",
      "    graphb.extend([x, f(x+tau), p])\n",
      "    print f(x)\n",
      "\n",
      "together = array([u for u in graphb[4::3]])\n",
      "together = sum(together, axis=0)\n",
      "graphb.extend([x, together, '-.g'])\n",
      "plot(*graphb)\n"
     ],
     "language": "python",
     "metadata": {},
     "outputs": [
      {
       "output_type": "stream",
       "stream": "stdout",
       "text": [
        "[[-0.84559673  0.64939962]\n",
        " [ 0.00168844 -0.00129668]] -13.0472076684 -0.100554933878\n",
        "[[  3.98651335e-04   3.91518461e-01]\n",
        " [  1.01794800e-03   9.99734351e-01]] -0.0158178151257 0.0157423861018\n",
        "[ 0.01579227  0.01578727  0.01578228  0.01577729  0.0157723   0.01576731\n",
        "  0.01576232  0.01575733  0.01575235  0.01574737  0.01574239  0.01573741\n",
        "  0.01573243  0.01572745  0.01572248  0.0157175   0.01571253  0.01570756\n",
        "  0.01570259  0.01569763  0.01569266  0.0156877   0.01568274  0.01567778\n",
        "  0.01567282  0.01566786  0.0156629   0.01565795  0.015653    0.01564805\n",
        "  0.0156431 ]\n",
        "[ 0.01579227  0.01578727  0.01578228  0.01577729  0.0157723   0.01576731\n",
        "  0.01576232  0.01575733  0.01575235  0.01574737  0.01574239  0.01573741\n",
        "  0.01573243  0.01572745  0.01572248  0.0157175   0.01571253  0.01570756\n",
        "  0.01570259  0.01569763  0.01569266  0.0156877   0.01568274  0.01567778\n",
        "  0.01567282  0.01566786  0.0156629   0.01565795  0.015653    0.01564805\n",
        "  0.0156431 ]\n"
       ]
      },
      {
       "output_type": "pyout",
       "prompt_number": 42,
       "text": [
        "[<matplotlib.lines.Line2D at 0x113e76c50>,\n",
        " <matplotlib.lines.Line2D at 0x1143bce50>,\n",
        " <matplotlib.lines.Line2D at 0x113e7d410>,\n",
        " <matplotlib.lines.Line2D at 0x113e7d810>]"
       ]
      }
     ],
     "prompt_number": 42
    },
    {
     "cell_type": "code",
     "collapsed": false,
     "input": [],
     "language": "python",
     "metadata": {},
     "outputs": []
    },
    {
     "cell_type": "code",
     "collapsed": false,
     "input": [],
     "language": "python",
     "metadata": {},
     "outputs": []
    }
   ],
   "metadata": {}
  }
 ]
}