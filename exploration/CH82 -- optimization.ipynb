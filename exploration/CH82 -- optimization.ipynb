{
 "metadata": {
  "name": "CH82 -- optimization"
 },
 "nbformat": 3,
 "nbformat_minor": 0,
 "worksheets": [
  {
   "cells": [
    {
     "cell_type": "code",
     "collapsed": false,
     "input": [
      "from dcprogs import read_idealized_bursts\n",
      "\n",
      "name   = 'CH82'\n",
      "tau    = 1e-4\n",
      "tcrit  = 4e-3 \n",
      "graph  = [[\"V\", \"V\", \"V\",   0,   0],\n",
      "          [\"V\", \"V\",   0, \"V\",   0],\n",
      "          [\"V\",   0, \"V\", \"V\", \"V\"],\n",
      "          [  0, \"V\", \"V\", \"V\",   0],\n",
      "          [  0,   0, \"V\",   0, \"V\"]] \n",
      "nopen  = 2\n",
      "\n",
      "bursts = read_idealized_bursts(name, tau=tau, tcrit=tcrit)"
     ],
     "language": "python",
     "metadata": {},
     "outputs": [],
     "prompt_number": 1
    },
    {
     "cell_type": "code",
     "collapsed": false,
     "input": [
      "from scipy.optimize import minimize\n",
      "from numpy import NaN, zeros, arange\n",
      "from dcprogs.likelihood.optimization import Likelihood, kernel_projection, minimizer_constraints\n",
      "from dcprogs.likelihood.random import qmatrix as random_qmatrix\n",
      "from dcprogs.likelihood import create_missed_eventsG, QMatrix\n",
      "\n",
      "likelihood = Likelihood(nopen, graph, bursts, tau, tcrit)\n",
      "x = likelihood.random_starting_point(True)\n",
      "\n",
      "N = len(graph)\n",
      "diagonal = (arange(N*N) % N == arange(N*N) // N).reshape((N,N))\n",
      "mask = bitwise_not(likelihood.fixed_mask) & bitwise_not(diagonal)\n",
      "\n",
      "def reduced_likelihood(x): \n",
      "  value = zeros((N,N), dtype='float64')\n",
      "  value[mask] = x.flat\n",
      "  for i, row in enumerate(value): row[i] = -sum(row)\n",
      "  try: result = -likelihood(value)\n",
      "  except: return NaN\n",
      "  return result\n",
      "\n",
      "constraints = []\n",
      "def create_inequality_constraints(i, value=0e0, sign=1e0):\n",
      "  f = lambda x: sign * (x[i]  - value)\n",
      "  def df(x):\n",
      "    a = zeros(x.shape)\n",
      "    a[i] = sign\n",
      "    return a\n",
      "  return f, df\n",
      "\n",
      "for i in xrange(count_nonzero(mask)):\n",
      "  f, df = create_inequality_constraints(i)\n",
      "  constraints.append({'type': 'ineq', 'fun': f, 'jac': df})\n",
      "  f, df = create_inequality_constraints(i, 1e4, -1)\n",
      "  constraints.append({'type': 'ineq', 'fun': f, 'jac': df})\n"
     ],
     "language": "python",
     "metadata": {},
     "outputs": [],
     "prompt_number": 14
    },
    {
     "cell_type": "code",
     "collapsed": false,
     "input": [
      "method = 'COBYLA'\n",
      "x = likelihood.random_starting_point(True)\n",
      "maxx = (x.copy(), likelihood(x))\n",
      "for i in xrange(8):\n",
      "  result = minimize( reduced_likelihood,\n",
      "                     x0 = x[mask],\n",
      "                     method=method,\n",
      "                     constraints=constraints,\n",
      "                     options={'maxiter': 1000, 'disp':True}) \n",
      "\n",
      "  print result\n",
      "  if not isnan(result.fun):\n",
      "    x[mask] = result.x\n",
      "    x[diagonal] = 0\n",
      "    for i, row in enumerate(x): row[i] = -sum(row)\n",
      "    if result.fun < maxx[1]: maxx = (x.copy(), result.fun)\n",
      "    if result.success and i > 4: break\n",
      "  x += likelihood.random_starting_point(True) * 1e-2\n",
      "  if any(isnan(x)): x = likelihood.random_starting_point(True)\n",
      "#  method = 'SLSQP'                     \n",
      "print maxx[0]\n",
      "print maxx[1]"
     ],
     "language": "python",
     "metadata": {},
     "outputs": [
      {
       "output_type": "stream",
       "stream": "stdout",
       "text": [
        "\n",
        "            Current function value: -4969.28508354\n",
        "            Iterations: 22\n",
        "            Function evaluations: 274\n",
        "            Gradient evaluations: 22\n",
        "  status: 4\n",
        " success: False\n",
        "    njev: 22\n",
        "    nfev: 274\n",
        "     fun: -4969.2850835414974\n",
        "       x: array([  1.77848679e+02,   2.56432302e+02,   9.22640398e+03,\n",
        "         4.88761191e+02,   1.00422709e+03,   6.14175377e-13,\n",
        "         1.19124390e+03,   1.57019277e+03,   6.92832372e+01,\n",
        "        -1.37134748e-12])\n",
        " message: 'Inequality constraints incompatible'\n",
        "     jac: array([  2.83525979e+09,   1.26074546e+09,   3.50874069e+09,\n",
        "         5.89678566e+09,   3.50874069e+09,  -2.64015219e+09,\n",
        "        -7.04101562e-01,  -1.46444815e+09,   6.62667042e+09,\n",
        "         5.18973778e+09,   0.00000000e+00])\n",
        "     nit: 22\n",
        "Iteration limit exceeded    (Exit mode 9)"
       ]
      },
      {
       "output_type": "stream",
       "stream": "stdout",
       "text": [
        "\n",
        "            Current function value: nan\n",
        "            Iterations: 1001\n",
        "            Function evaluations: 21984\n",
        "            Gradient evaluations: 1001\n",
        "  status: 9\n",
        " success: False\n",
        "    njev: 1001\n",
        "    nfev: 21984\n",
        "     fun: nan\n",
        "       x: array([ nan,  nan,  nan,  nan,  nan,  nan,  nan,  nan,  nan,  nan])\n",
        " message: 'Iteration limit exceeded'\n",
        "     jac: array([ nan,  nan,  nan,  nan,  nan,  nan,  nan,  nan,  nan,  nan,   0.])\n",
        "     nit: 1001\n",
        "[[ -4.34280982e+02   1.77848679e+02   2.56432302e+02   0.00000000e+00\n",
        "    0.00000000e+00]\n",
        " [  9.22640398e+03  -9.71516517e+03   0.00000000e+00   4.88761191e+02\n",
        "    0.00000000e+00]\n",
        " [  1.00422709e+03   0.00000000e+00  -2.19547099e+03   6.14175377e-13\n",
        "    1.19124390e+03]\n",
        " [  0.00000000e+00   1.57019277e+03   6.92832372e+01  -1.63947601e+03\n",
        "    0.00000000e+00]\n",
        " [  0.00000000e+00   0.00000000e+00  -1.37134748e-12   0.00000000e+00\n",
        "    1.37134748e-12]]\n",
        "-4969.28508354\n"
       ]
      },
      {
       "output_type": "stream",
       "stream": "stdout",
       "text": [
        "  status: 2\n",
        "    nfev: 1000\n",
        "   maxcv: 0.0\n",
        " success: False\n",
        "     fun: -4855.6863168618274\n",
        "       x: array([  2.07731921e+01,   1.56217598e+02,   8.23258377e+01,\n",
        "         1.00737502e+02,   1.23523320e+01,   7.21007332e+00,\n",
        "         9.62147804e+03,   2.81786601e+03,   1.80002043e+01,\n",
        "         2.67948785e+00])\n",
        " message: 'Maximum number of function evaluations has been exceeded.'\n",
        "  status: 1\n",
        "    nfev: 613\n",
        "   maxcv: 0.0\n",
        " success: True\n",
        "     fun: -8532.6023806442481\n",
        "       x: array([  1.78002614e+02,   3.31493155e+02,   1.63264483e+02,\n",
        "         1.19102919e+02,   5.53573289e+01,   3.30945018e+01,\n",
        "         9.61826566e+03,   2.87860487e+03,   1.16314930e+02,\n",
        "         3.52321917e-16])\n",
        " message: 'Optimization terminated successfully.'"
       ]
      },
      {
       "output_type": "stream",
       "stream": "stdout",
       "text": [
        "\n",
        "  status: 1\n",
        "    nfev: 250\n",
        "   maxcv: 5.2041704279304151e-18\n",
        " success: True\n",
        "     fun: -9157.1469586060957\n",
        "       x: array([  2.12217462e+02,   4.14409749e+02,   1.54426804e+02,\n",
        "         1.07456752e+02,   1.09779712e+02,   7.93918181e+01,\n",
        "         9.61902138e+03,   2.90428795e+03,   1.50664681e+02,\n",
        "        -5.20417043e-18])\n",
        " message: 'Optimization terminated successfully.'"
       ]
      },
      {
       "output_type": "stream",
       "stream": "stdout",
       "text": [
        "\n",
        "  status: 1\n",
        "    nfev: 662\n",
        "   maxcv: 0.0\n",
        " success: True\n",
        "     fun: -10387.272026584351\n",
        "       x: array([  4.32943099e+02,   5.72897191e+02,   1.67238291e+02,\n",
        "         1.09472334e+02,   1.49318949e+02,   1.26269804e+02,\n",
        "         9.61802297e+03,   3.16074210e+03,   4.31625294e+02,\n",
        "         2.07200321e-21])\n",
        " message: 'Optimization terminated successfully.'"
       ]
      },
      {
       "output_type": "stream",
       "stream": "stdout",
       "text": [
        "\n",
        "  status: 1\n",
        "    nfev: 164\n",
        "   maxcv: 2.2204460492503069e-20\n",
        " success: True\n",
        "     fun: nan\n",
        "       x: array([  4.34394772e+02,   6.27231166e+02,   1.67121483e+02,\n",
        "         1.09527784e+02,   1.49584335e+02,   1.27453921e+02,\n",
        "         9.64881397e+03,   3.16199458e+03,   4.32819373e+02,\n",
        "        -2.22044605e-20])\n",
        " message: 'Optimization terminated successfully.'"
       ]
      },
      {
       "output_type": "stream",
       "stream": "stdout",
       "text": [
        "\n",
        "  status: 2\n",
        "    nfev: 1000\n",
        "   maxcv: 0.0\n",
        " success: False\n",
        "     fun: -5135.3041302016081\n",
        "       x: array([  760.10011771,   755.32989723,   167.93327154,   123.1997924 ,\n",
        "         207.9840644 ,   187.02187086,  9639.69098604,  3677.05801853,\n",
        "         954.99366164,    16.97480864])\n",
        " message: 'Maximum number of function evaluations has been exceeded.'"
       ]
      },
      {
       "output_type": "stream",
       "stream": "stdout",
       "text": [
        "\n",
        "  status: 2\n",
        "    nfev: 1000\n",
        "   maxcv: 0.0\n",
        " success: False\n",
        "     fun: -5169.0415349263358\n",
        "       x: array([ 1021.64802607,   887.77574788,   155.52283676,   138.94208769,\n",
        "         196.82175811,   190.0190203 ,  9635.29072753,  4200.73194401,\n",
        "        1454.17670122,    45.81320908])\n",
        " message: 'Maximum number of function evaluations has been exceeded.'"
       ]
      },
      {
       "output_type": "stream",
       "stream": "stdout",
       "text": [
        "\n",
        "  status: 2\n",
        "    nfev: 1000\n",
        "   maxcv: 0.0\n",
        " success: False\n",
        "     fun: -5196.0892702873043\n",
        "       x: array([ 1258.8984071 ,  1006.59209677,   135.6086319 ,   161.70305277,\n",
        "         124.55314988,   133.17162165,  9651.35857624,  4795.56032105,\n",
        "        1952.83723855,    92.29449108])\n",
        " message: 'Maximum number of function evaluations has been exceeded.'"
       ]
      },
      {
       "output_type": "stream",
       "stream": "stdout",
       "text": [
        "\n",
        "[[ -1.00584029e+03   4.32943099e+02   5.72897191e+02   0.00000000e+00\n",
        "    0.00000000e+00]\n",
        " [  1.67238291e+02  -2.76710625e+02   0.00000000e+00   1.09472334e+02\n",
        "    0.00000000e+00]\n",
        " [  1.49318949e+02   0.00000000e+00  -9.89361172e+03   1.26269804e+02\n",
        "    9.61802297e+03]\n",
        " [  0.00000000e+00   3.16074210e+03   4.31625294e+02  -3.59236740e+03\n",
        "    0.00000000e+00]\n",
        " [  0.00000000e+00   0.00000000e+00   2.07200321e-21   0.00000000e+00\n",
        "   -2.07200321e-21]]\n",
        "-10387.2720266\n"
       ]
      }
     ],
     "prompt_number": 16
    },
    {
     "cell_type": "code",
     "collapsed": false,
     "input": [],
     "language": "python",
     "metadata": {},
     "outputs": [],
     "prompt_number": 3
    }
   ],
   "metadata": {}
  }
 ]
}