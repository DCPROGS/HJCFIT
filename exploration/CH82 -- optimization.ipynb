{
 "cells": [
  {
   "cell_type": "markdown",
   "metadata": {},
   "source": [
    "# CH82 -- optimization"
   ]
  },
  {
   "cell_type": "markdown",
   "metadata": {},
   "source": [
    "Input: Defines the model and constraints"
   ]
  },
  {
   "cell_type": "code",
   "execution_count": 1,
   "metadata": {
    "collapsed": false
   },
   "outputs": [],
   "source": [
    "from dcprogs import read_idealized_bursts\n",
    "from dcprogs.likelihood import QMatrix\n",
    "\n",
    "name   = \"CH82.scn\"\n",
    "tau    = 1e-4\n",
    "tcrit  = 4e-3 \n",
    "graph  = [[\"V\", \"V\", \"V\",   0,   0],\n",
    "          [\"V\", \"V\",   0, \"V\",   0],\n",
    "          [\"V\",   0, \"V\", \"V\", \"V\"],\n",
    "          [  0, \"V\", \"V\", \"V\",   0],\n",
    "          [  0,   0, \"V\",   0, \"V\"]] \n",
    "nopen  = 2\n",
    "qmatrix = QMatrix([[ -3050,        50,  3000,      0,    0 ], \n",
    "                  [ 2./3., -1502./3.,     0,    500,    0 ],  \n",
    "                  [    15,         0, -2065,     50, 2000 ],  \n",
    "                  [     0,     15000,  4000, -19000,    0 ],  \n",
    "                  [     0,         0,    10,      0,  -10 ] ], 2)\n",
    "\n",
    "bursts = read_idealized_bursts(name, tau=tau, tcrit=tcrit)"
   ]
  },
  {
   "cell_type": "markdown",
   "metadata": {},
   "source": [
    "Creates the constraints, the likelihood function, as well as a function to create random Q-matrix."
   ]
  },
  {
   "cell_type": "code",
   "execution_count": 2,
   "metadata": {
    "collapsed": false
   },
   "outputs": [],
   "source": [
    "from scipy.optimize import minimize\n",
    "from numpy import NaN, zeros, arange\n",
    "import numpy as np\n",
    "from dcprogs.likelihood.random import qmatrix as random_qmatrix\n",
    "from dcprogs.likelihood import QMatrix, Log10Likelihood\n",
    "from dcprogs.likelihood.optimization import reduce_likelihood\n",
    "\n",
    "likelihood = Log10Likelihood(bursts, nopen, tau, tcrit)\n",
    "reduced = reduce_likelihood(likelihood, graph)\n",
    "x = reduced.to_reduced_coords( random_qmatrix(5).matrix )\n",
    "\n",
    "constraints = []\n",
    "def create_inequality_constraints(i, value=0e0, sign=1e0):\n",
    "    f = lambda x: sign * (x[i]  - value)\n",
    "    def df(x):\n",
    "        a = zeros(x.shape)\n",
    "        a[i] = sign\n",
    "        return a\n",
    "    return f, df\n",
    "\n",
    "for i in range(len(x)):\n",
    "    f, df = create_inequality_constraints(i)\n",
    "    constraints.append({'type': 'ineq', 'fun': f, 'jac': df})\n",
    "    f, df = create_inequality_constraints(i, 1e4, -1)\n",
    "    constraints.append({'type': 'ineq', 'fun': f, 'jac': df})\n",
    "\n",
    "    \n",
    "def random_starting_point():\n",
    "    from numpy import infty, NaN\n",
    "    from dcprogs.likelihood.random import rate_matrix as random_rate_matrix\n",
    "    \n",
    "     \n",
    "    for i in range(100):\n",
    "        matrix = random_rate_matrix(N=len(qmatrix.matrix), zeroprob=0)\n",
    "        x = reduced.to_reduced_coords( matrix )\n",
    "        try: \n",
    "            result = reduced(x)\n",
    "            print(result, reduced.to_full_coords(x))\n",
    "        except:\n",
    "            pass\n",
    "        else: \n",
    "            if result != NaN and result != infty and result != -infty: break\n",
    "    else: raise RuntimeError(\"Could not create random matrix\") \n",
    "    return x\n",
    "\n",
    "def does_not_throw(x):\n",
    "    try: return -reduced(x)\n",
    "    except: return NaN"
   ]
  },
  {
   "cell_type": "markdown",
   "metadata": {},
   "source": [
    "Performs the minimization"
   ]
  },
  {
   "cell_type": "code",
   "execution_count": 3,
   "metadata": {
    "collapsed": false
   },
   "outputs": [
    {
     "name": "stdout",
     "output_type": "stream",
     "text": [
      "-12.425436251427712 [[ -6.44069267e+03   5.74181654e-01   6.44011849e+03   0.00000000e+00\n",
      "    0.00000000e+00]\n",
      " [  1.16073652e+03  -1.16142765e+03   0.00000000e+00   6.91127353e-01\n",
      "    0.00000000e+00]\n",
      " [  3.22274403e-01   0.00000000e+00  -2.90372168e+03   2.90281124e+03\n",
      "    5.88161958e-01]\n",
      " [  0.00000000e+00   3.41367880e-01   7.55204456e-01  -1.09657234e+00\n",
      "    0.00000000e+00]\n",
      " [  0.00000000e+00   0.00000000e+00   5.08084841e-01   0.00000000e+00\n",
      "   -5.08084841e-01]]\n",
      "x= [  5.74181654e-01   6.44011849e+03   1.16073652e+03   6.91127353e-01\n",
      "   3.22274403e-01   2.90281124e+03   5.88161958e-01   3.41367880e-01\n",
      "   7.55204456e-01   5.08084841e-01]\n",
      "     fun: -1274.8592956677317\n",
      "   maxcv: 8.3266726846928772e-17\n",
      " message: 'Maximum number of function evaluations has been exceeded.'\n",
      "    nfev: 1000\n",
      "  status: 2\n",
      " success: False\n",
      "       x: array([  7.94011045e+01,   6.43080806e+03,   7.21170754e+02,\n",
      "        -8.32667268e-17,   3.24655178e+01,   2.91303530e+03,\n",
      "         3.95923541e+00,   1.26710451e+02,   7.33402048e+00,\n",
      "         2.84881446e+00])\n",
      "-82.59000956544635 [[ -9.51866450e-01   8.38697463e-02   8.67996704e-01   0.00000000e+00\n",
      "    0.00000000e+00]\n",
      " [  4.62211254e+03  -4.62275606e+03   0.00000000e+00   6.43518503e-01\n",
      "    0.00000000e+00]\n",
      " [  7.83410975e-01   0.00000000e+00  -1.32656283e+00   2.17272465e-01\n",
      "    3.25879386e-01]\n",
      " [  0.00000000e+00   9.06343131e-01   3.58030477e-01  -1.26437361e+00\n",
      "    0.00000000e+00]\n",
      " [  0.00000000e+00   0.00000000e+00   1.12428009e-01   0.00000000e+00\n",
      "   -1.12428009e-01]]\n",
      "Inequality constraints incompatible    (Exit mode 4)\n",
      "            Current function value: -1932.1916761250732\n",
      "            Iterations: 25\n",
      "            Function evaluations: 314\n",
      "            Gradient evaluations: 25\n",
      "     fun: -1932.1916761250732\n",
      "     jac: array([ -7.79186472e+07,  -4.69091861e+07,  -4.69091859e+07,\n",
      "        -4.69091861e+07,  -9.37225744e+07,  -1.72530690e+08,\n",
      "        -8.62568783e+07,  -9.37225740e+07,  -6.50024414e-02,\n",
      "        -9.06735762e+07,   0.00000000e+00])\n",
      " message: 'Inequality constraints incompatible'\n",
      "    nfev: 314\n",
      "     nit: 25\n",
      "    njev: 25\n",
      "  status: 4\n",
      " success: False\n",
      "       x: array([  2.78696256e+02,   6.43421935e+03,  -3.98123191e-14,\n",
      "         1.79885994e+02,   3.33000335e+02,   2.92612560e+03,\n",
      "         1.58470668e+01,   2.08011337e+02,   3.92637131e+01,\n",
      "        -1.11022302e-16])\n",
      "20.291820543659554 [[ -1.00114729e+00   3.80618205e-02   9.63085473e-01   0.00000000e+00\n",
      "    0.00000000e+00]\n",
      " [  5.68001382e-02  -6.93721904e-01   0.00000000e+00   6.36921766e-01\n",
      "    0.00000000e+00]\n",
      " [  3.91225175e+03   0.00000000e+00  -3.91254095e+03   2.23487236e-01\n",
      "    6.57170036e-02]\n",
      " [  0.00000000e+00   8.36963851e-01   4.68661911e-01  -1.30562576e+00\n",
      "    0.00000000e+00]\n",
      " [  0.00000000e+00   0.00000000e+00   7.98806965e-01   0.00000000e+00\n",
      "   -7.98806965e-01]]\n",
      "[  5.75020352e-01   6.44012717e+03   1.20695765e+03   6.97562538e-01\n",
      "   3.30108513e-01   2.90281341e+03   5.91420752e-01   3.50431311e-01\n",
      "   7.58784761e-01   5.09209121e-01]\n",
      "-1932.1916761250732\n"
     ]
    }
   ],
   "source": [
    "import math\n",
    "methods = ['COBYLA', 'SLSQP']\n",
    "x = random_starting_point()\n",
    "print ('x=', x)\n",
    "maxx = (x.copy(), reduced(x))\n",
    "for i in range(len(methods)):\n",
    "    result = minimize(does_not_throw,\n",
    "                      x,\n",
    "                      method=methods[i],\n",
    "                      constraints=constraints,\n",
    "                      options={'maxiter': 1000, 'disp':True}) \n",
    "\n",
    "    print(result)\n",
    "    if not math.isnan(result.fun):\n",
    "        if result.fun < maxx[1]: maxx = (x.copy(), result.fun)\n",
    "        if result.success and i > 4: break\n",
    "    x +=  random_starting_point() * 1e-2\n",
    "    if np.all(np.isnan(x)): x = random_starting_point()\n",
    "print(maxx[0])\n",
    "print(maxx[1])"
   ]
  }
 ],
 "metadata": {
  "kernelspec": {
   "display_name": "DCProgs GCC Python 3",
   "language": "python",
   "name": "dcprogsgcc"
  },
  "language_info": {
   "codemirror_mode": {
    "name": "ipython",
    "version": 3
   },
   "file_extension": ".py",
   "mimetype": "text/x-python",
   "name": "python",
   "nbconvert_exporter": "python",
   "pygments_lexer": "ipython3",
   "version": "3.5.2"
  }
 },
 "nbformat": 4,
 "nbformat_minor": 0
}
