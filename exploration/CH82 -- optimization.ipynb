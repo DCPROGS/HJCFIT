{
 "metadata": {
  "name": "CH82 -- optimization"
 },
 "nbformat": 3,
 "nbformat_minor": 0,
 "worksheets": [
  {
   "cells": [
    {
     "cell_type": "code",
     "collapsed": false,
     "input": [
      "from dcprogs import read_idealized_bursts\n",
      "\n",
      "name   = 'CH82'\n",
      "tau    = 1e-4\n",
      "tcrit  = 4e-3 \n",
      "graph  = [[\"V\", \"V\", \"V\",   0,   0],\n",
      "          [\"V\", \"V\",   0, \"V\",   0],\n",
      "          [\"V\",   0, \"V\", \"V\", \"V\"],\n",
      "          [  0, \"V\", \"V\", \"V\",   0],\n",
      "          [  0,   0, \"V\",   0, \"V\"]] \n",
      "nopen  = 2\n",
      "\n",
      "bursts = read_idealized_bursts(name, tau=tau, tcrit=tcrit)"
     ],
     "language": "python",
     "metadata": {},
     "outputs": [],
     "prompt_number": 1
    },
    {
     "cell_type": "code",
     "collapsed": false,
     "input": [
      "from scipy.optimize import minimize\n",
      "from numpy import NaN, zeros, arange\n",
      "from dcprogs.likelihood.optimization import Likelihood, kernel_projection, minimizer_constraints\n",
      "from dcprogs.likelihood.random import qmatrix as random_qmatrix\n",
      "from dcprogs.likelihood import create_missed_eventsG, QMatrix\n",
      "\n",
      "likelihood = Likelihood(nopen, graph, bursts, tau, tcrit)\n",
      "x = likelihood.random_starting_point(True)\n",
      "\n",
      "N = len(graph)\n",
      "diagonal = (arange(N*N) % N == arange(N*N) // N).reshape((N,N))\n",
      "mask = bitwise_not(likelihood.fixed_mask) & bitwise_not(diagonal)\n",
      "\n",
      "def reduced_likelihood(x): \n",
      "  value = zeros((N,N), dtype='float64')\n",
      "  value[mask] = x.flat\n",
      "  for i, row in enumerate(value): row[i] = -sum(row)\n",
      "  try: result = -likelihood(value)\n",
      "  except: return NaN\n",
      "  return result\n",
      "\n",
      "constraints = []\n",
      "def create_inequality_constraints(i, value=0e0, sign=1e0):\n",
      "  f = lambda x: sign * (x[i]  - value)\n",
      "  def df(x):\n",
      "    a = zeros(x.shape)\n",
      "    a[i] = sign\n",
      "    return a\n",
      "  return f, df\n",
      "\n",
      "for i in xrange(count_nonzero(mask)):\n",
      "  f, df = create_inequality_constraints(i)\n",
      "  constraints.append({'type': 'ineq', 'fun': f, 'jac': df})\n",
      "  f, df = create_inequality_constraints(i, 1e5, -1)\n",
      "  constraints.append({'type': 'ineq', 'fun': f, 'jac': df})\n"
     ],
     "language": "python",
     "metadata": {},
     "outputs": [],
     "prompt_number": 3
    },
    {
     "cell_type": "code",
     "collapsed": false,
     "input": [
      "method = 'COBYLA'\n",
      "maxx = (x.copy(), likelihood(x))\n",
      "for i in xrange(8):\n",
      "  result = minimize( reduced_likelihood,\n",
      "                     x0 = x[mask],\n",
      "                     method=method,\n",
      "                     constraints=constraints,\n",
      "                     options={'maxiter': 1000, 'disp':True}) \n",
      "\n",
      "  print result\n",
      "  if not isnan(result.fun):\n",
      "    x[mask] = result.x\n",
      "    x[diagonal] = 0\n",
      "    for i, row in enumerate(x): row[i] = -sum(row)\n",
      "    if result.fun < maxx[1]: maxx = (x.copy(), result.fun)\n",
      "    if result.success and i > 4: break\n",
      "  x += (likelihood.random_starting_point(True) * 1e-2)\n",
      "  if any(isnan(x)): x = likelihood.random_starting_point(True)\n",
      "# method = 'SLSQP'                     \n",
      "print maxx[0]\n",
      "print maxx[1]"
     ],
     "language": "python",
     "metadata": {},
     "outputs": [
      {
       "output_type": "stream",
       "stream": "stdout",
       "text": [
        "  status: 2\n",
        "    nfev: 1000\n",
        "   maxcv: 0.0\n",
        " success: False\n",
        "     fun: -4758.6595046663206\n",
        "       x: array([  1.35286555e+02,   1.13164660e+02,   9.34089079e+03,\n",
        "         8.25492063e+03,   3.92096334e+02,   3.84926193e+02,\n",
        "         3.44552426e+01,   2.90789518e-02,   2.77772543e-02,\n",
        "         9.95244267e+03])\n",
        " message: 'Maximum number of function evaluations has been exceeded.'\n",
        "  status: 2\n",
        "    nfev: 1000\n",
        "   maxcv: 0.0\n",
        " success: False\n",
        "     fun: -4769.4067146335592\n",
        "       x: array([  1.23467755e+02,   1.18474860e+02,   9.39575239e+03,\n",
        "         8.25476878e+03,   4.04000049e+02,   4.08488018e+02,\n",
        "         3.67965781e+01,   2.03678517e-02,   1.92185337e-02,\n",
        "         9.94767083e+03])\n",
        " message: 'Maximum number of function evaluations has been exceeded.'"
       ]
      },
      {
       "output_type": "stream",
       "stream": "stdout",
       "text": [
        "\n",
        "  status: 2\n",
        "    nfev: 1000\n",
        "   maxcv: 0.0\n",
        " success: False\n",
        "     fun: -4784.8840840190051\n",
        "       x: array([  1.12013027e+02,   1.25475271e+02,   9.39943403e+03,\n",
        "         8.25144143e+03,   4.27752930e+02,   4.41750206e+02,\n",
        "         2.95492701e+01,   2.83351096e-02,   2.67799106e-02,\n",
        "         9.95163646e+03])\n",
        " message: 'Maximum number of function evaluations has been exceeded.'"
       ]
      },
      {
       "output_type": "stream",
       "stream": "stdout",
       "text": [
        "\n",
        "  status: 1\n",
        "    nfev: 132\n",
        "   maxcv: 1.7347234759768071e-17\n",
        " success: True\n",
        "     fun: -4954.1609801149625\n",
        "       x: array([  1.33209035e+02,   1.89844554e+02,   9.40045785e+03,\n",
        "         8.25143179e+03,   4.28828737e+02,   4.67910111e+02,\n",
        "         2.94972813e+01,  -1.73472348e-17,  -1.73472348e-17,\n",
        "         1.00167318e+04])\n",
        " message: 'Optimization terminated successfully.'"
       ]
      },
      {
       "output_type": "stream",
       "stream": "stdout",
       "text": [
        "\n",
        "  status: 1\n",
        "    nfev: 160\n",
        "   maxcv: 0.0\n",
        " success: True\n",
        "     fun: -4750.6089078400419\n",
        "       x: array([  1.32645455e+02,   1.89833379e+02,   9.40146975e+03,\n",
        "         8.25143924e+03,   4.29924746e+02,   5.42204883e+02,\n",
        "         2.95042214e+01,   1.06749630e-02,   1.66117614e-02,\n",
        "         1.00175049e+04])\n",
        " message: 'Optimization terminated successfully.'"
       ]
      },
      {
       "output_type": "stream",
       "stream": "stdout",
       "text": [
        "\n",
        "  status: 1\n",
        "    nfev: 137\n",
        "   maxcv: 6.6369212025257619e-18\n",
        " success: True\n",
        "     fun: -9602.6297530540196\n",
        "       x: array([  1.32420782e+02,   1.86985789e+02,   9.40247492e+03,\n",
        "         8.30076524e+03,   4.84026861e+02,   5.43338761e+02,\n",
        "         2.94961402e+01,  -6.63692120e-18,  -3.46842377e-18,\n",
        "         1.01056612e+04])\n",
        " message: 'Optimization terminated successfully.'"
       ]
      },
      {
       "output_type": "stream",
       "stream": "stdout",
       "text": [
        "\n",
        "  status: 2\n",
        "    nfev: 1000\n",
        "   maxcv: 0.0\n",
        " success: False\n",
        "     fun: -4807.3585254203717\n",
        "       x: array([  1.08114606e+02,   1.66314618e+02,   9.40362140e+03,\n",
        "         8.29988933e+03,   4.94212390e+02,   5.51421481e+02,\n",
        "         2.77336534e+01,   1.95176861e-02,   2.33115858e-02,\n",
        "         1.01904731e+04])\n",
        " message: 'Maximum number of function evaluations has been exceeded.'"
       ]
      },
      {
       "output_type": "stream",
       "stream": "stdout",
       "text": [
        "\n",
        "  status: 1\n",
        "    nfev: 142\n",
        "   maxcv: 3.1346023969732603e-22\n",
        " success: True\n",
        "     fun: -13069.120683062263\n",
        "       x: array([  1.69855056e+02,   1.64484603e+02,   9.40463069e+03,\n",
        "         8.29988368e+03,   4.95417580e+02,   5.52547830e+02,\n",
        "         1.13923672e+02,  -3.13460240e-22,   1.23376163e-20,\n",
        "         1.01914782e+04])\n",
        " message: 'Optimization terminated successfully.'"
       ]
      },
      {
       "output_type": "stream",
       "stream": "stdout",
       "text": [
        "\n",
        "[[ -3.34339660e+02   1.69855056e+02   1.64484603e+02   0.00000000e+00\n",
        "    0.00000000e+00]\n",
        " [  9.40463069e+03  -1.77045144e+04   0.00000000e+00   8.29988368e+03\n",
        "    0.00000000e+00]\n",
        " [  4.95417580e+02   0.00000000e+00  -1.16188908e+03   5.52547830e+02\n",
        "    1.13923672e+02]\n",
        " [  0.00000000e+00  -3.13460240e-22   1.23376163e-20  -1.20241560e-20\n",
        "    0.00000000e+00]\n",
        " [  0.00000000e+00   0.00000000e+00   1.01914782e+04   0.00000000e+00\n",
        "   -1.01914782e+04]]\n",
        "-13069.1206831\n"
       ]
      }
     ],
     "prompt_number": 5
    },
    {
     "cell_type": "code",
     "collapsed": false,
     "input": [],
     "language": "python",
     "metadata": {},
     "outputs": [],
     "prompt_number": 3
    }
   ],
   "metadata": {}
  }
 ]
}