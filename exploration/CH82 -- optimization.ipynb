{
 "cells": [
  {
   "cell_type": "markdown",
   "metadata": {},
   "source": [
    "Input: Defines the model and constraints"
   ]
  },
  {
   "cell_type": "code",
   "execution_count": 1,
   "metadata": {
    "collapsed": false
   },
   "outputs": [],
   "source": [
    "from dcprogs import read_idealized_bursts\n",
    "from dcprogs.likelihood import QMatrix\n",
    "\n",
    "name   = \"CH82.scn\"\n",
    "tau    = 1e-4\n",
    "tcrit  = 4e-3 \n",
    "graph  = [[\"V\", \"V\", \"V\",   0,   0],\n",
    "          [\"V\", \"V\",   0, \"V\",   0],\n",
    "          [\"V\",   0, \"V\", \"V\", \"V\"],\n",
    "          [  0, \"V\", \"V\", \"V\",   0],\n",
    "          [  0,   0, \"V\",   0, \"V\"]] \n",
    "nopen  = 2\n",
    "qmatrix = QMatrix([[ -3050,        50,  3000,      0,    0 ], \n",
    "                  [ 2./3., -1502./3.,     0,    500,    0 ],  \n",
    "                  [    15,         0, -2065,     50, 2000 ],  \n",
    "                  [     0,     15000,  4000, -19000,    0 ],  \n",
    "                  [     0,         0,    10,      0,  -10 ] ], 2)\n",
    "\n",
    "bursts = read_idealized_bursts(name, tau=tau, tcrit=tcrit)"
   ]
  },
  {
   "cell_type": "markdown",
   "metadata": {},
   "source": [
    "Creates the constraints, the likelihood function, as well as a function to create random Q-matrix."
   ]
  },
  {
   "cell_type": "code",
   "execution_count": 2,
   "metadata": {
    "collapsed": false
   },
   "outputs": [],
   "source": [
    "from scipy.optimize import minimize\n",
    "from numpy import NaN, zeros, arange\n",
    "import numpy as np\n",
    "from dcprogs.likelihood.random import qmatrix as random_qmatrix\n",
    "from dcprogs.likelihood import QMatrix, Log10Likelihood\n",
    "from dcprogs.likelihood.optimization import reduce_likelihood\n",
    "\n",
    "likelihood = Log10Likelihood(bursts, nopen, tau, tcrit)\n",
    "reduced = reduce_likelihood(likelihood, graph)\n",
    "x = reduced.to_reduced_coords( random_qmatrix(5).matrix )\n",
    "\n",
    "constraints = []\n",
    "def create_inequality_constraints(i, value=0e0, sign=1e0):\n",
    "  f = lambda x: sign * (x[i]  - value)\n",
    "  def df(x):\n",
    "    a = zeros(x.shape)\n",
    "    a[i] = sign\n",
    "    return a\n",
    "  return f, df\n",
    "\n",
    "for i in range(len(x)):\n",
    "  f, df = create_inequality_constraints(i)\n",
    "  constraints.append({'type': 'ineq', 'fun': f, 'jac': df})\n",
    "  f, df = create_inequality_constraints(i, 1e4, -1)\n",
    "  constraints.append({'type': 'ineq', 'fun': f, 'jac': df})\n",
    "\n",
    "    \n",
    "def random_starting_point():\n",
    "    from numpy import infty, NaN\n",
    "    from dcprogs.likelihood.random import rate_matrix as random_rate_matrix\n",
    "    \n",
    "     \n",
    "    for i in range(100):\n",
    "        matrix = random_rate_matrix(N=len(qmatrix.matrix), zeroprob=0)\n",
    "        x = reduced.to_reduced_coords( matrix )\n",
    "        try: \n",
    "            result = reduced(x)\n",
    "            print (result, reduced.to_full_coords(x))\n",
    "        except: pass\n",
    "        else: \n",
    "          if result != NaN and result != infty and result != -infty: break\n",
    "    else: raise RuntimeError(\"Could not create random matrix\") \n",
    "    return x\n",
    "\n",
    "def does_not_throw(x):\n",
    "    try: return -reduced(x)\n",
    "    except: return NaN"
   ]
  },
  {
   "cell_type": "markdown",
   "metadata": {},
   "source": [
    "Performs the minimization"
   ]
  },
  {
   "cell_type": "code",
   "execution_count": 5,
   "metadata": {
    "collapsed": false
   },
   "outputs": [
    {
     "name": "stdout",
     "output_type": "stream",
     "text": [
      "-217.07356969611322 [[ -5.66293147e+03   1.14800020e+02   5.54813145e+03   0.00000000e+00\n",
      "    0.00000000e+00]\n",
      " [  4.23343991e-01  -5.97724557e-01   0.00000000e+00   1.74380566e-01\n",
      "    0.00000000e+00]\n",
      " [  6.41645553e-01   0.00000000e+00  -3.24488198e+03   3.24355272e+03\n",
      "    6.87616666e-01]\n",
      " [  0.00000000e+00   6.50628084e-01   2.36191806e-01  -8.86819889e-01\n",
      "    0.00000000e+00]\n",
      " [  0.00000000e+00   0.00000000e+00   5.89971946e+03   0.00000000e+00\n",
      "   -5.89971946e+03]]\n",
      "x= [  1.14800020e+02   5.54813145e+03   4.23343991e-01   1.74380566e-01\n",
      "   6.41645553e-01   3.24355272e+03   6.87616666e-01   6.50628084e-01\n",
      "   2.36191806e-01   5.89971946e+03]\n",
      " message: 'Maximum number of function evaluations has been exceeded.'\n",
      "   maxcv: 4.0338985960575666e-16\n",
      "       x: array([  1.07722422e+02,   5.56510937e+03,  -4.03389860e-16,\n",
      "         1.68517836e+02,   1.43391917e+02,   3.23291218e+03,\n",
      "         1.68782731e+01,   1.25355541e+02,   3.92443036e+02,\n",
      "         5.91463553e+03])\n",
      "     fun: -1966.6843486706205\n",
      " success: False\n",
      "  status: 2\n",
      "    nfev: 1000\n",
      "-293.30816921677797 [[ -1.03978553e+04   4.69164559e+03   5.70620975e+03   0.00000000e+00\n",
      "    0.00000000e+00]\n",
      " [  7.72018718e-01  -8.22435609e-01   0.00000000e+00   5.04168907e-02\n",
      "    0.00000000e+00]\n",
      " [  2.21783343e-01   0.00000000e+00  -8.34003399e+03   8.33941711e+03\n",
      "    3.95101667e-01]\n",
      " [  0.00000000e+00   9.20420883e-01   9.56276433e-01  -1.87669732e+00\n",
      "    0.00000000e+00]\n",
      " [  0.00000000e+00   0.00000000e+00   2.64228769e+03   0.00000000e+00\n",
      "   -2.64228769e+03]]\n",
      "Inequality constraints incompatible    (Exit mode 4)\n",
      "            Current function value: -2205.1654493102396\n",
      "            Iterations: 95\n",
      "            Function evaluations: 1168\n",
      "            Gradient evaluations: 95\n",
      "     jac: array([ -3.35693359e-03,   3.44848633e-03,  -1.71072556e+06,\n",
      "        -4.69398565e+05,   1.96427849e+10,   3.28463611e+08,\n",
      "         1.52212167e+06,   2.64334958e+06,  -1.03535555e+06,\n",
      "         1.60862198e+06,   0.00000000e+00])\n",
      "    nfev: 1168\n",
      "       x: array([  2.42650437e+02,   5.61361038e+03,   3.08594188e-13,\n",
      "         2.35246213e+02,   2.13315587e-10,   2.61275090e-09,\n",
      "         2.49653266e+03,   1.47987253e+03,   4.08851137e+03,\n",
      "         5.90229753e+03])\n",
      " message: 'Inequality constraints incompatible'\n",
      "  status: 4\n",
      "    njev: 95\n",
      " success: False\n",
      "     fun: -2205.1654493102396\n",
      "     nit: 95\n",
      "-1187.7385805199572 [[ -6.66229517e-01   4.12262785e-01   2.53966732e-01   0.00000000e+00\n",
      "    0.00000000e+00]\n",
      " [  4.10930307e-02  -2.37307191e+03   0.00000000e+00   2.37303082e+03\n",
      "    0.00000000e+00]\n",
      " [  3.52829000e+03   0.00000000e+00  -3.52937119e+03   9.07489551e-01\n",
      "    1.73704302e-01]\n",
      " [  0.00000000e+00   3.60023796e-01   1.93967994e+03  -1.94003997e+03\n",
      "    0.00000000e+00]\n",
      " [  0.00000000e+00   0.00000000e+00   7.01943467e-01   0.00000000e+00\n",
      "   -7.01943467e-01]]\n",
      "[  1.61716476e+02   5.60519355e+03   4.31064178e-01   1.74884735e-01\n",
      "   6.43863386e-01   3.32694689e+03   6.91567683e-01   6.59832292e-01\n",
      "   2.45754570e-01   5.92614234e+03]\n",
      "-2205.1654493102396\n"
     ]
    }
   ],
   "source": [
    "import math\n",
    "methods = ['COBYLA', 'SLSQP']\n",
    "x = random_starting_point()\n",
    "print ('x=', x)\n",
    "maxx = (x.copy(), reduced(x))\n",
    "for i in range(len(methods)):\n",
    "  result = minimize( does_not_throw,\n",
    "                     x,\n",
    "                     method=methods[i],\n",
    "                     constraints=constraints,\n",
    "                     options={'maxiter': 1000, 'disp':True}) \n",
    "\n",
    "  print (result)\n",
    "  if not math.isnan(result.fun):\n",
    "    if result.fun < maxx[1]: maxx = (x.copy(), result.fun)\n",
    "    if result.success and i > 4: break\n",
    "  x +=  random_starting_point() * 1e-2\n",
    "  if np.all(np.isnan(x)): x = random_starting_point()\n",
    "print (maxx[0])\n",
    "print (maxx[1])"
   ]
  },
  {
   "cell_type": "code",
   "execution_count": null,
   "metadata": {
    "collapsed": true
   },
   "outputs": [],
   "source": []
  }
 ],
 "metadata": {
  "kernelspec": {
   "display_name": "Python 3",
   "language": "python",
   "name": "python3"
  },
  "language_info": {
   "codemirror_mode": {
    "name": "ipython",
    "version": 3
   },
   "file_extension": ".py",
   "mimetype": "text/x-python",
   "name": "python",
   "nbconvert_exporter": "python",
   "pygments_lexer": "ipython3",
   "version": "3.5.0"
  }
 },
 "nbformat": 4,
 "nbformat_minor": 0
}
