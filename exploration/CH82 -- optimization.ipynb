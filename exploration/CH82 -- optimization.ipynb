{
 "metadata": {
  "name": "CH82 -- optimization"
 },
 "nbformat": 3,
 "nbformat_minor": 0,
 "worksheets": [
  {
   "cells": [
    {
     "cell_type": "markdown",
     "metadata": {},
     "source": [
      "Input: Defines the model and constraints"
     ]
    },
    {
     "cell_type": "code",
     "collapsed": false,
     "input": [
      "from dcprogs import read_idealized_bursts\n",
      "from dcprogs.likelihood import QMatrix\n",
      "\n",
      "name   = 'CH82'\n",
      "tau    = 1e-4\n",
      "tcrit  = 4e-3 \n",
      "graph  = [[\"V\", \"V\", \"V\",   0,   0],\n",
      "          [\"V\", \"V\",   0, \"V\",   0],\n",
      "          [\"V\",   0, \"V\", \"V\", \"V\"],\n",
      "          [  0, \"V\", \"V\", \"V\",   0],\n",
      "          [  0,   0, \"V\",   0, \"V\"]] \n",
      "nopen  = 2\n",
      "qmatrix = QMatrix([[ -3050,        50,  3000,      0,    0 ], \n",
      "                  [ 2./3., -1502./3.,     0,    500,    0 ],  \n",
      "                  [    15,         0, -2065,     50, 2000 ],  \n",
      "                  [     0,     15000,  4000, -19000,    0 ],  \n",
      "                  [     0,         0,    10,      0,  -10 ] ], 2)\n",
      "\n",
      "bursts = read_idealized_bursts(name, tau=tau, tcrit=tcrit)"
     ],
     "language": "python",
     "metadata": {},
     "outputs": [],
     "prompt_number": 2
    },
    {
     "cell_type": "markdown",
     "metadata": {},
     "source": [
      "Creates the constraints, the likelihood function, as well as a function to create random Q-matrix."
     ]
    },
    {
     "cell_type": "code",
     "collapsed": false,
     "input": [
      "from scipy.optimize import minimize\n",
      "from numpy import NaN, zeros, arange\n",
      "from dcprogs.likelihood.random import qmatrix as random_qmatrix\n",
      "from dcprogs.likelihood import QMatrix, Log10Likelihood\n",
      "from dcprogs.likelihood.optimization import reduce_likelihood\n",
      "\n",
      "likelihood = Log10Likelihood(bursts, nopen, tau, tcrit)\n",
      "reduced = reduce_likelihood(likelihood, graph)\n",
      "x = reduced.to_reduced_coords( random_qmatrix(5).matrix )\n",
      "\n",
      "constraints = []\n",
      "def create_inequality_constraints(i, value=0e0, sign=1e0):\n",
      "  f = lambda x: sign * (x[i]  - value)\n",
      "  def df(x):\n",
      "    a = zeros(x.shape)\n",
      "    a[i] = sign\n",
      "    return a\n",
      "  return f, df\n",
      "\n",
      "for i in xrange(len(x)):\n",
      "  f, df = create_inequality_constraints(i)\n",
      "  constraints.append({'type': 'ineq', 'fun': f, 'jac': df})\n",
      "  f, df = create_inequality_constraints(i, 1e4, -1)\n",
      "  constraints.append({'type': 'ineq', 'fun': f, 'jac': df})\n",
      "\n",
      "    \n",
      "def random_starting_point():\n",
      "    from numpy import infty, NaN\n",
      "    from dcprogs.likelihood.random import rate_matrix as random_rate_matrix\n",
      "    \n",
      "     \n",
      "    for i in range(100):\n",
      "        matrix = random_rate_matrix(N=len(qmatrix.matrix), zeroprob=0)\n",
      "        x = reduced.to_reduced_coords( matrix )\n",
      "        try: \n",
      "            result = reduced(x)\n",
      "            print result, reduced.to_full_coords(x)\n",
      "        except: pass\n",
      "        else: \n",
      "          if result != NaN and result != infty and result != -infty: break\n",
      "    else: raise RuntimeError(\"Could not create random matrix\") \n",
      "    return x\n",
      "\n",
      "def does_not_throw(x):\n",
      "    try: return -reduced(x)\n",
      "    except: return NaN"
     ],
     "language": "python",
     "metadata": {},
     "outputs": [],
     "prompt_number": 5
    },
    {
     "cell_type": "markdown",
     "metadata": {},
     "source": [
      "Performs the minimization"
     ]
    },
    {
     "cell_type": "code",
     "collapsed": false,
     "input": [
      "method = 'COBYLA'\n",
      "x = random_starting_point()\n",
      "maxx = (x.copy(), reduced(x))\n",
      "for i in xrange(2):\n",
      "  result = minimize( does_not_throw,\n",
      "                     x,\n",
      "                     method=method,\n",
      "                     constraints=constraints,\n",
      "                     options={'maxiter': 1000, 'disp':True}) \n",
      "\n",
      "  print result\n",
      "  if not isnan(result.fun):\n",
      "    if result.fun < maxx[1]: maxx = (x.copy(), result.fun)\n",
      "    if result.success and i > 4: break\n",
      "  x +=  random_starting_point() * 1e-2\n",
      "  if any(isnan(x)): x = random_starting_point()\n",
      "  method = 'SLSQP'                     \n",
      "print maxx[0]\n",
      "print maxx[1]"
     ],
     "language": "python",
     "metadata": {},
     "outputs": [
      {
       "output_type": "stream",
       "stream": "stdout",
       "text": [
        "-3948.20229758 [[-7920.3875  0.92486365  7919.4627  0.0  0.0]\n",
        " [ 0.55517582 -0.80095681  0.0  0.24578098  0.0]\n",
        " [ 0.56113845  0.0 -1041.4415  1040.6404  0.23995299]\n",
        " [ 0.0  6264.7974  0.65518461 -6265.4526  0.0]\n",
        " [ 0.0  0.0  0.59567264  0.0 -0.59567264]]\n",
        "  status: 1\n",
        "    nfev: 472\n",
        "   maxcv: 0.0\n",
        " success: True\n",
        "     fun: -475.89790397458853\n",
        "       x: array([  8.36271279e-01,   7.91969309e+03,   4.39549095e+01,\n",
        "         9.82362014e-01,   7.57945647e+00,   1.03931041e+03,\n",
        "         2.80566914e+01,   6.26417165e+03,   2.53552953e+00,\n",
        "         5.90324742e-05])\n",
        " message: 'Optimization terminated successfully.'"
       ]
      },
      {
       "output_type": "stream",
       "stream": "stdout",
       "text": [
        "\n",
        "-1320.28566922 [[-0.85151686  0.62548723  0.22602963  0.0  0.0]\n",
        " [ 0.022396727 -0.062215884  0.0  0.039819157  0.0]\n",
        " [ 0.18419027  0.0 -0.84143056  0.48693936  0.17030094]\n",
        " [ 0.0  0.79020791  2406.581 -2407.3713  0.0]\n",
        " [ 0.0  0.0  3447.9226  0.0 -3447.9226]]\n",
        "Positive directional derivative for linesearch    (Exit mode 8)"
       ]
      },
      {
       "output_type": "stream",
       "stream": "stdout",
       "text": [
        "\n",
        "            Current function value: -3220.84235128\n",
        "            Iterations: 21\n",
        "            Function evaluations: 239\n",
        "            Gradient evaluations: 17\n",
        "  status: 8\n",
        " success: False\n",
        "    njev: 17\n",
        "    nfev: 239\n",
        "     fun: -3220.84235127546\n",
        "       x: array([ -1.81880694e-07,   2.75946817e+03,   7.39666756e+03,\n",
        "         6.86623309e+02,   7.82140937e+03,   3.14601044e+01,\n",
        "         9.01589486e+03,   8.93304073e+03,  -5.43645200e-07,\n",
        "         4.97340622e-08])\n",
        " message: 'Positive directional derivative for linesearch'\n",
        "     jac: array([ -2.84118652e-01,   8.08013916e-01,   1.83105469e-04,\n",
        "         9.15527344e-05,  -1.32110596e-01,  -7.59887695e-03,\n",
        "         3.45153809e-02,   9.15527344e-05,   3.35693359e-04,\n",
        "         7.00870855e+06,   0.00000000e+00])\n",
        "     nit: 21\n",
        "1497.81512604 [[-1.1363394  0.78958595  0.34675343  0.0  0.0]\n",
        " [ 0.34962076 -6983.2469  0.0  6982.8973  0.0]\n",
        " [ 0.99531441  0.0 -344.45332  0.86158618  342.59642]\n",
        " [ 0.0  0.8029179  0.59347518 -1.3963931  0.0]\n",
        " [ 0.0  0.0  0.33958842  0.0 -0.33958842]]\n",
        "[  9.24863649e-01   7.91946268e+03   5.55175822e-01   2.45780984e-01\n",
        "   5.61138451e-01   1.04064037e+03   2.39952989e-01   6.26479744e+03\n",
        "   6.55184611e-01   5.95672644e-01]\n",
        "-3948.20229758\n"
       ]
      }
     ],
     "prompt_number": 8
    }
   ],
   "metadata": {}
  }
 ]
}