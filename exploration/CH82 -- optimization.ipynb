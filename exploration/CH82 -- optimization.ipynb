{
 "cells": [
  {
   "cell_type": "markdown",
   "metadata": {},
   "source": [
    "# CH82 -- optimization"
   ]
  },
  {
   "cell_type": "markdown",
   "metadata": {},
   "source": [
    "Input: Defines the model and constraints"
   ]
  },
  {
   "cell_type": "code",
   "execution_count": 2,
   "metadata": {
    "collapsed": false
   },
   "outputs": [],
   "source": [
    "from dcprogs import read_idealized_bursts\n",
    "from dcprogs.likelihood import QMatrix\n",
    "\n",
    "name   = \"CH82.scn\"\n",
    "tau    = 1e-4\n",
    "tcrit  = 4e-3 \n",
    "graph  = [[\"V\", \"V\", \"V\",   0,   0],\n",
    "          [\"V\", \"V\",   0, \"V\",   0],\n",
    "          [\"V\",   0, \"V\", \"V\", \"V\"],\n",
    "          [  0, \"V\", \"V\", \"V\",   0],\n",
    "          [  0,   0, \"V\",   0, \"V\"]] \n",
    "nopen  = 2\n",
    "qmatrix = QMatrix([[ -3050,        50,  3000,      0,    0 ], \n",
    "                  [ 2./3., -1502./3.,     0,    500,    0 ],  \n",
    "                  [    15,         0, -2065,     50, 2000 ],  \n",
    "                  [     0,     15000,  4000, -19000,    0 ],  \n",
    "                  [     0,         0,    10,      0,  -10 ] ], 2)\n",
    "\n",
    "bursts = read_idealized_bursts(name, tau=tau, tcrit=tcrit)"
   ]
  },
  {
   "cell_type": "markdown",
   "metadata": {},
   "source": [
    "Creates the constraints, the likelihood function, as well as a function to create random Q-matrix."
   ]
  },
  {
   "cell_type": "code",
   "execution_count": 3,
   "metadata": {
    "collapsed": false
   },
   "outputs": [],
   "source": [
    "from scipy.optimize import minimize\n",
    "from numpy import NaN, zeros, arange\n",
    "import numpy as np\n",
    "from dcprogs.likelihood.random import qmatrix as random_qmatrix\n",
    "from dcprogs.likelihood import QMatrix, Log10Likelihood\n",
    "from dcprogs.likelihood.optimization import reduce_likelihood\n",
    "\n",
    "likelihood = Log10Likelihood(bursts, nopen, tau, tcrit)\n",
    "reduced = reduce_likelihood(likelihood, graph)\n",
    "x = reduced.to_reduced_coords( random_qmatrix(5).matrix )\n",
    "\n",
    "constraints = []\n",
    "def create_inequality_constraints(i, value=0e0, sign=1e0):\n",
    "    f = lambda x: sign * (x[i]  - value)\n",
    "    def df(x):\n",
    "        a = zeros(x.shape)\n",
    "        a[i] = sign\n",
    "        return a\n",
    "    return f, df\n",
    "\n",
    "for i in range(len(x)):\n",
    "    f, df = create_inequality_constraints(i)\n",
    "    constraints.append({'type': 'ineq', 'fun': f, 'jac': df})\n",
    "    f, df = create_inequality_constraints(i, 1e4, -1)\n",
    "    constraints.append({'type': 'ineq', 'fun': f, 'jac': df})\n",
    "\n",
    "    \n",
    "def random_starting_point():\n",
    "    from numpy import infty, NaN\n",
    "    from dcprogs.likelihood.random import rate_matrix as random_rate_matrix\n",
    "    \n",
    "     \n",
    "    for i in range(100):\n",
    "        matrix = random_rate_matrix(N=len(qmatrix.matrix), zeroprob=0)\n",
    "        x = reduced.to_reduced_coords( matrix )\n",
    "        try: \n",
    "            result = reduced(x)\n",
    "            print (result, reduced.to_full_coords(x))\n",
    "        except: pass\n",
    "        else: \n",
    "          if result != NaN and result != infty and result != -infty: break\n",
    "    else: raise RuntimeError(\"Could not create random matrix\") \n",
    "    return x\n",
    "\n",
    "def does_not_throw(x):\n",
    "    try: return -reduced(x)\n",
    "    except: return NaN"
   ]
  },
  {
   "cell_type": "markdown",
   "metadata": {},
   "source": [
    "Performs the minimization"
   ]
  },
  {
   "cell_type": "code",
   "execution_count": 4,
   "metadata": {
    "collapsed": false
   },
   "outputs": [
    {
     "name": "stdout",
     "output_type": "stream",
     "text": [
      "7.154277667364494 [[ -2.69911973e-01   1.50415096e-01   1.19496877e-01   0.00000000e+00\n",
      "    0.00000000e+00]\n",
      " [  1.46986723e-02  -5.58800246e+03   0.00000000e+00   5.58798776e+03\n",
      "    0.00000000e+00]\n",
      " [  7.29507443e-01   0.00000000e+00  -1.63498536e+00   4.47246686e-02\n",
      "    8.60753250e-01]\n",
      " [  0.00000000e+00   9.16930048e-01   9.72974628e-01  -1.88990468e+00\n",
      "    0.00000000e+00]\n",
      " [  0.00000000e+00   0.00000000e+00   1.49899831e+03   0.00000000e+00\n",
      "   -1.49899831e+03]]\n",
      "x= [  1.50415096e-01   1.19496877e-01   1.46986723e-02   5.58798776e+03\n",
      "   7.29507443e-01   4.47246686e-02   8.60753250e-01   9.16930048e-01\n",
      "   9.72974628e-01   1.49899831e+03]\n",
      "     fun: -1987.6068422693427\n",
      "   maxcv: 0.0\n",
      " message: 'Maximum number of function evaluations has been exceeded.'\n",
      "    nfev: 1000\n",
      "  status: 2\n",
      " success: False\n",
      "       x: array([  2.89737135e+01,   1.32233807e+02,   5.42556190e-01,\n",
      "         5.58930225e+03,   1.49663244e+02,   2.32219648e+01,\n",
      "         6.08275223e+00,   1.30174462e+00,   2.40385040e+00,\n",
      "         1.50324931e+03])\n",
      "-448.83704301901037 [[ -2.22813276e-01   4.85728662e-02   1.74240410e-01   0.00000000e+00\n",
      "    0.00000000e+00]\n",
      " [  1.00300373e-01  -8.76142612e-01   0.00000000e+00   7.75842239e-01\n",
      "    0.00000000e+00]\n",
      " [  8.15356857e-01   0.00000000e+00  -1.86797544e+00   1.35116097e-01\n",
      "    9.17502484e-01]\n",
      " [  0.00000000e+00   9.12900954e+01   8.93729323e+03  -9.02858332e+03\n",
      "    0.00000000e+00]\n",
      " [  0.00000000e+00   0.00000000e+00   1.28515965e-01   0.00000000e+00\n",
      "   -1.28515965e-01]]\n",
      "Iteration limit exceeded    (Exit mode 9)\n",
      "            Current function value: nan\n",
      "            Iterations: 1001\n",
      "            Function evaluations: 21943\n",
      "            Gradient evaluations: 1001\n",
      "     fun: nan\n",
      "     jac: array([ nan,  nan,  nan,  nan,  nan,  nan,  nan,  nan,  nan,  nan,   0.])\n",
      " message: 'Iteration limit exceeded'\n",
      "    nfev: 21943\n",
      "     nit: 1001\n",
      "    njev: 1001\n",
      "  status: 9\n",
      " success: False\n",
      "       x: array([ nan,  nan,  nan,  nan,  nan,  nan,  nan,  nan,  nan,  nan])\n",
      "-339.9407178649935 [[ -2.25822754e+03   2.25805159e+03   1.75954675e-01   0.00000000e+00\n",
      "    0.00000000e+00]\n",
      " [  3.22958368e-01  -9.67777183e-01   0.00000000e+00   6.44818815e-01\n",
      "    0.00000000e+00]\n",
      " [  6.73135404e-01   0.00000000e+00  -1.13244981e+04   7.02309635e+03\n",
      "    4.30072859e+03]\n",
      " [  0.00000000e+00   2.09759480e-01   3.31461435e-01  -5.41220915e-01\n",
      "    0.00000000e+00]\n",
      " [  0.00000000e+00   0.00000000e+00   4.37196742e-01   0.00000000e+00\n",
      "   -4.37196742e-01]]\n",
      "[  1.50415096e-01   1.19496877e-01   1.46986723e-02   5.58798776e+03\n",
      "   7.29507443e-01   4.47246686e-02   8.60753250e-01   9.16930048e-01\n",
      "   9.72974628e-01   1.49899831e+03]\n",
      "-1987.60684227\n"
     ]
    }
   ],
   "source": [
    "import math\n",
    "methods = ['COBYLA', 'SLSQP']\n",
    "x = random_starting_point()\n",
    "print ('x=', x)\n",
    "maxx = (x.copy(), reduced(x))\n",
    "for i in range(len(methods)):\n",
    "    result = minimize(does_not_throw,\n",
    "                      x,\n",
    "                      method=methods[i],\n",
    "                      constraints=constraints,\n",
    "                      options={'maxiter': 1000, 'disp':True}) \n",
    "\n",
    "    print(result)\n",
    "    if not math.isnan(result.fun):\n",
    "        if result.fun < maxx[1]: maxx = (x.copy(), result.fun)\n",
    "        if result.success and i > 4: break\n",
    "    x +=  random_starting_point() * 1e-2\n",
    "    if np.all(np.isnan(x)): x = random_starting_point()\n",
    "print(maxx[0])\n",
    "print(maxx[1])"
   ]
  },
  {
   "cell_type": "code",
   "execution_count": null,
   "metadata": {
    "collapsed": true
   },
   "outputs": [],
   "source": []
  }
 ],
 "metadata": {
  "kernelspec": {
   "display_name": "DCProgs GCC Python 3",
   "language": "python",
   "name": "dcprogsgcc"
  },
  "language_info": {
   "codemirror_mode": {
    "name": "ipython",
    "version": 3
   },
   "file_extension": ".py",
   "mimetype": "text/x-python",
   "name": "python",
   "nbconvert_exporter": "python",
   "pygments_lexer": "ipython3",
   "version": "3.5.2"
  }
 },
 "nbformat": 4,
 "nbformat_minor": 0
}
