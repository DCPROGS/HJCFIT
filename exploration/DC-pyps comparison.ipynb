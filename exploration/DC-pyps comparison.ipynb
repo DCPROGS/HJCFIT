{
 "metadata": {
  "name": "DC-pyps comparison"
 },
 "nbformat": 3,
 "nbformat_minor": 0,
 "worksheets": [
  {
   "cells": [
    {
     "cell_type": "heading",
     "level": 1,
     "metadata": {},
     "source": [
      "DC-Pyps setup"
     ]
    },
    {
     "cell_type": "markdown",
     "metadata": {},
     "source": [
      "We want to have, at the end of the day, a function that takes the rates in some fashion and returns the likelihood for the CH82 model.\n",
      "This is exactly what the code below does."
     ]
    },
    {
     "cell_type": "code",
     "collapsed": false,
     "input": [
      "from dcpyps import samples, dataset, dcio, scalcslib as scl\n",
      "from numpy import log, average, abs, array, any, all\n",
      "\n",
      "mechanism = samples.CH82()\n",
      "\n",
      "tres = 1e-4\n",
      "tcrit = 4e-3\n",
      "\n",
      "filename = \"/Users/mdavezac/usr/src/dc-pyps/dcpyps/samples/CH82.scn\"\n",
      "ioffset, nint, calfac, header = dcio.scn_read_header(filename)\n",
      "tint, iampl, iprops = dcio.scn_read_data(filename, ioffset, nint, calfac)\n",
      "rec1 = dataset.SCRecord(filename, header, tint, iampl, iprops)\n",
      "# Impose resolution, get open/shut times and bursts.\n",
      "rec1.impose_resolution(tres)\n",
      "rec1.get_open_shut_periods()\n",
      "rec1.get_bursts(tcrit)\n",
      "blength = rec1.get_burst_length_list()\n",
      "openings = rec1.get_openings_burst_list()\n",
      "\n",
      "# not sure impose_resolution works...\n",
      "bursts = [u for u in rec1.bursts if all(abs(array(u)*1e-3) > tres)]  \n",
      "\n",
      "# Prepare parameter dict for simplex\n",
      "opts = {}\n",
      "opts['mec'] = mechanism\n",
      "opts['conc'] = 50e-9\n",
      "opts['tres'] = tres \n",
      "opts['tcrit'] = tcrit\n",
      "opts['isCHS'] = True\n",
      "opts['data'] = bursts\n",
      "\n",
      "# MAXIMUM LIKELIHOOD FIT.\n",
      "def dcpyps(x):\n",
      "  start_lik, th = scl.HJClik(log(x), opts)\n",
      "  return start_lik \n",
      "theta = mechanism.theta() \n"
     ],
     "language": "python",
     "metadata": {},
     "outputs": [],
     "prompt_number": 2
    },
    {
     "cell_type": "heading",
     "level": 1,
     "metadata": {},
     "source": [
      "New dcprogs setup"
     ]
    },
    {
     "cell_type": "markdown",
     "metadata": {},
     "source": [
      "We want to create a function which does the exact same thing as the one above, but which uses internally the new dcprogs.\n",
      "In order to do that, we have dc-pyps translate its own input into a Q-matrix."
     ]
    },
    {
     "cell_type": "code",
     "collapsed": false,
     "input": [
      "from numpy import sum\n",
      "from dcprogs import read_idealized_bursts\n",
      "from dcprogs.likelihood import QMatrix, Log10Likelihood, MissedEventsG\n",
      "from dcprogs.likelihood.optimization import reduce_likelihood\n",
      "\n",
      "name   = 'CH82'\n",
      "tau    = 1e-4\n",
      "tcrit  = 4e-3 \n",
      "nopen  = 2\n",
      "\n",
      "bursts = read_idealized_bursts(name, tau=tau, tcrit=tcrit)\n",
      "likelihood = Log10Likelihood(bursts, nopen, tau, tcrit)\n",
      "\n",
      "def dcprogs(x):\n",
      "    mechanism.theta_unsqueeze(x)\n",
      "    mechanism.set_eff('c', opts['conc'])\n",
      "    return -likelihood(mechanism.Q) * log(10)"
     ],
     "language": "python",
     "metadata": {},
     "outputs": [],
     "prompt_number": 3
    },
    {
     "cell_type": "heading",
     "level": 1,
     "metadata": {},
     "source": [
      "Comparison"
     ]
    },
    {
     "cell_type": "markdown",
     "metadata": {},
     "source": [
      "The code below compares the result from both codes for somewhat random inputs."
     ]
    },
    {
     "cell_type": "code",
     "collapsed": false,
     "input": [
      "x = theta + 10.0*random.uniform(low=-1, high=1, size=8)\n",
      "print repr(x)\n",
      "print \"DCPYPS \", dcpyps(x)\n",
      "print \"DCPROGS\", dcprogs(x)"
     ],
     "language": "python",
     "metadata": {},
     "outputs": [
      {
       "output_type": "stream",
       "stream": "stdout",
       "text": [
        "array([  5.79032396e+00,   1.50080481e+04,   3.00708567e+03,\n",
        "         4.91997879e+02,   2.00399711e+03,   4.00455220e+03,\n",
        "         9.99999950e+07,   5.00000008e+08])\n",
        "DCPYPS  "
       ]
      },
      {
       "output_type": "stream",
       "stream": "stdout",
       "text": [
        "-9225.29341674\n",
        "DCPROGS -9225.29341675\n"
       ]
      }
     ],
     "prompt_number": 4
    },
    {
     "cell_type": "code",
     "collapsed": false,
     "input": [],
     "language": "python",
     "metadata": {},
     "outputs": []
    }
   ],
   "metadata": {}
  }
 ]
}