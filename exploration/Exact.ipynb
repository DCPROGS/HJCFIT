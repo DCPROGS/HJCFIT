{
 "metadata": {
  "name": "Exact"
 },
 "nbformat": 3,
 "nbformat_minor": 0,
 "worksheets": [
  {
   "cells": [
    {
     "cell_type": "markdown",
     "metadata": {},
     "source": [
      "The classic  $Q$ matrix first:"
     ]
    },
    {
     "cell_type": "code",
     "collapsed": false,
     "input": [
      "from numpy import array\n",
      "from dcprogs.likelihood import StateMatrix, DeterminantEq, Asymptotes, find_roots, ExactG\n",
      "Qmatrix = StateMatrix( \n",
      "           array([[ -3050,        50,  3000,      0,    0 ], \n",
      "                  [ 2./3., -1502./3.,     0,    500,    0 ],  \n",
      "                  [    15,         0, -2065,     50, 2000 ],  \n",
      "                  [     0,     15000,  4000, -19000,    0 ],  \n",
      "                  [     0,         0,    10,      0,  -10 ] ]), 2)\n"
     ],
     "language": "python",
     "metadata": {},
     "outputs": [],
     "prompt_number": 1
    },
    {
     "cell_type": "markdown",
     "metadata": {},
     "source": [
      "Then compares a few recursion terms by hand and by c++"
     ]
    },
    {
     "cell_type": "code",
     "collapsed": false,
     "input": [
      "from numpy import array\n",
      "from dcprogs.likelihood import StateMatrix, DeterminantEq, Asymptotes, find_roots, ExactG\n",
      "Qmatrix = StateMatrix( \n",
      "           array([[ -3050,        50,  3000,      0,    0 ], \n",
      "                  [ 2./3., -1502./3.,     0,    500,    0 ],  \n",
      "                  [    15,         0, -2065,     50, 2000 ],  \n",
      "                  [     0,     15000,  4000, -19000,    0 ],  \n",
      "                  [     0,         0,    10,      0,  -10 ] ]), 2)\n",
      "\n",
      "transitions = Qmatrix.transpose()\n",
      "tau = 1e-4\n",
      "exact = ExactG(transitions, tau)\n",
      "equation = DeterminantEq(transitions, tau)\n",
      "roots = find_roots(equation)\n",
      "approx = Asymptotes(equation, roots)\n",
      "eigenvalues = eig(-transitions.matrix)[0][[0, 1, 2, 4, 3]]\n",
      "\n",
      "def C_i10(i): \n",
      "    from numpy import zeros\n",
      "    result = zeros((transitions.nopen, transitions.nopen), dtype='float64')\n",
      "    for j in xrange(transitions.matrix.shape[0]):\n",
      "        if i == j: continue\n",
      "        result += dot(exact.D_af(i), exact.recursion_af(j, 0, 0)) / (eigenvalues[j] - eigenvalues[i])\n",
      "        result -= dot(exact.D_af(j), exact.recursion_af(i, 0, 0)) / (eigenvalues[i] - eigenvalues[j])\n",
      "    return result\n",
      "    \n",
      "def C_i20(i): \n",
      "    from numpy import zeros\n",
      "    result = zeros((transitions.nopen, transitions.nopen), dtype='float64')\n",
      "    for j in xrange(transitions.matrix.shape[0]):\n",
      "        if i == j: continue\n",
      "        result += ( dot(exact.D_af(i), exact.recursion_af(j, 1, 0)) \n",
      "                    + dot(exact.D_af(j), exact.recursion_af(i, 1, 0)) ) / (eigenvalues[j] - eigenvalues[i])\n",
      "        result += ( dot(exact.D_af(i), exact.recursion_af(j, 1, 1)) \n",
      "                    - dot(exact.D_af(j), exact.recursion_af(i, 1, 1)) ) / (eigenvalues[j] - eigenvalues[i])**2\n",
      "    return result\n",
      "\n",
      "def C_i21(i): \n",
      "    result = dot(exact.D_af(i), exact.recursion_af(i, 1, 0)) \n",
      "    for j in xrange(transitions.matrix.shape[0]):\n",
      "        if i == j: continue\n",
      "        result -= dot(exact.D_af(j), exact.recursion_af(i, 1, 1)) / (eigenvalues[i] - eigenvalues[j])\n",
      "    return result\n",
      "\n",
      "def C_i22(i): return dot(exact.D_af(i), exact.recursion_af(i, 1, 1)) * 0.5 \n",
      "\n",
      "print all([all(abs(C_i10(i) - exact.recursion_af(i, 1, 0)) < 1e-8) for i in xrange(5)])\n",
      "print all([all(abs(C_i20(i) - exact.recursion_af(i, 2, 0)) < 1e-8) for i in xrange(5)])\n",
      "print all([all(abs(C_i21(i) - exact.recursion_af(i, 2, 1)) < 1e-8) for i in xrange(5)])\n",
      "print all([all(abs(C_i22(i) - exact.recursion_af(i, 2, 2)) < 1e-8) for i in xrange(5)])\n",
      "    "
     ],
     "language": "python",
     "metadata": {},
     "outputs": [
      {
       "output_type": "stream",
       "stream": "stdout",
       "text": [
        "True\n",
        "True\n",
        "True\n",
        "True\n"
       ]
      }
     ],
     "prompt_number": 2
    },
    {
     "cell_type": "markdown",
     "metadata": {},
     "source": [
      "Try and compare exact and approx via plot."
     ]
    },
    {
     "cell_type": "code",
     "collapsed": false,
     "input": [
      "tau, i, j, n = 1e-4, 0, 0, 4\n",
      "\n",
      "transitions = Qmatrix.transpose()\n",
      "exact = ExactG(transitions, tau)\n",
      "equation = DeterminantEq(transitions, tau)\n",
      "roots = find_roots(equation)\n",
      "approx = Asymptotes(equation, roots)\n",
      "\n",
      "x = arange(0, n * tau, tau / 10.)\n",
      "plot(x, [exact.R_af(u)[i, j] for u in x], label=\"exact\")\n",
      "plot(x, [approx(u)[i, j] for u in x], label=\"approx\")\n",
      "title(\"Component ${0}$ of the matrix $R_{{af}}$.\".format((i, j)))\n",
      "legend()"
     ],
     "language": "python",
     "metadata": {},
     "outputs": [
      {
       "output_type": "pyout",
       "prompt_number": 3,
       "text": [
        "<matplotlib.legend.Legend at 0x10cf37910>"
       ]
      }
     ],
     "prompt_number": 3
    },
    {
     "cell_type": "code",
     "collapsed": false,
     "input": [
      "def B_im(exact, t, i, m):\n",
      "    matrices = lambda i, m, l: exact.recursion_af(i, m, l)\n",
      "    result = matrices(i, m, 0) \n",
      "    print \"B_{0}{1}0 = {1}\".format(i, m\n",
      "    for r in xrange(1, m+1): \n",
      "        result += matrices(i, m, r) * t**r\n",
      "    return result\n",
      "def M_m(exact, t, m):\n",
      "    matrices = lambda i, m, l: exact.recursion_af(i, m, l)\n",
      "    eigenvalues = exact.eigenvalues_af\n",
      "    result = B_im(exact, t, 0, m)\n",
      "    result[:, :] = 0e0\n",
      "    for i, eigenvalue in enumerate(eigenvalues):\n",
      "        if abs(eigenvalue) < 1e-10: continue\n",
      "        result += B_im(exact, t, i, m) * exp(-eigenvalue * t)\n",
      "    return result\n",
      "def R(exact, t):\n",
      "    current_t = t\n",
      "    tau = exact.tau\n",
      "    result = B_im(exact, tau, 0, 0)\n",
      "    result[:, :] = 0e0\n",
      "\n",
      "    m = 0\n",
      "    while current_t > 0:\n",
      "        sign = 1 if m % 2 == 0 else -1\n",
      "        result += sign * M_m(exact, current_t, m)\n",
      "        m += 1\n",
      "        current_t -= tau\n",
      "    return result"
     ],
     "language": "python",
     "metadata": {},
     "outputs": [],
     "prompt_number": 18
    },
    {
     "cell_type": "code",
     "collapsed": false,
     "input": [
      "print R(exact, tau + tau /10.0)\n",
      "print exact.R_af(tau +tau/10.0)\n",
      "print R(exact, 4.1*tau) - exact.R_af(4.1*tau)"
     ],
     "language": "python",
     "metadata": {},
     "outputs": [
      {
       "output_type": "stream",
       "stream": "stdout",
       "text": [
        "[[  7.93568832e-01   2.18702062e-03  -7.19465556e-01]\n",
        " [  1.74961650e-01   1.36694653e-01   2.62653111e+00]\n",
        " [ -3.59732778e-03   1.64158194e-04  -1.06490631e-02]]\n",
        "[[  7.93568832e-01   2.18702062e-03  -7.19465556e-01]\n",
        " [  1.74961650e-01   1.36694653e-01   2.62653111e+00]\n",
        " [ -3.59732778e-03   1.64158194e-04  -1.06490631e-02]]\n",
        "[[ 0.  0.  0.]\n",
        " [ 0.  0.  0.]\n",
        " [ 0.  0.  0.]]"
       ]
      },
      {
       "output_type": "stream",
       "stream": "stdout",
       "text": [
        "\n"
       ]
      }
     ],
     "prompt_number": 19
    },
    {
     "cell_type": "code",
     "collapsed": false,
     "input": [
      "tau, i, j, n = 1e-4, 0, 0, 5\n",
      "\n",
      "transitions = Qmatrix.transpose()\n",
      "exact = ExactG(transitions, tau)\n",
      "equation = DeterminantEq(transitions, tau)\n",
      "roots = find_roots(equation)\n",
      "approx = Asymptotes(equation, roots)\n",
      "\n",
      "x = arange(0, n * tau, tau / 10.)\n",
      "plot(x, [exact.R_af(u)[i, j] for u in x], label=\"exact\")\n",
      "plot(x, [R(exact, u)[i, j] for u in x], label=\"approx\")\n",
      "title(\"Component ${0}$ of the matrix $R_{{af}}$.\".format((i, j)))\n",
      "legend()"
     ],
     "language": "python",
     "metadata": {},
     "outputs": [
      {
       "output_type": "pyout",
       "prompt_number": 66,
       "text": [
        "<matplotlib.legend.Legend at 0x10ec38f50>"
       ]
      }
     ],
     "prompt_number": 66
    },
    {
     "cell_type": "code",
     "collapsed": false,
     "input": [
      "for n in xrange(7): print B_im(exact, (6-n) * exact.tau + exact.tau/10.0, 3, n)[0, 0]"
     ],
     "language": "python",
     "metadata": {},
     "outputs": [
      {
       "output_type": "stream",
       "stream": "stdout",
       "text": [
        "0.000894149050102\n",
        "-7.67425757502e-05\n",
        "-0.00309396909599\n",
        "-0.00973746366026\n",
        "-0.0329900373869\n",
        "-0.109828438689"
       ]
      },
      {
       "output_type": "stream",
       "stream": "stdout",
       "text": [
        "\n",
        "-0.362117874752"
       ]
      },
      {
       "output_type": "stream",
       "stream": "stdout",
       "text": [
        "\n"
       ]
      }
     ],
     "prompt_number": 67
    },
    {
     "cell_type": "code",
     "collapsed": false,
     "input": [
      "for n in xrange(1, 7):\n",
      "    print exact.recursion_af(3, n, 0)[0,0]"
     ],
     "language": "python",
     "metadata": {},
     "outputs": [
      {
       "output_type": "stream",
       "stream": "stdout",
       "text": [
        "-0.000245635916001\n",
        "-0.0030630603096\n",
        "-0.00938174341304\n",
        "-0.0322505488396\n",
        "-0.108507905881"
       ]
      },
      {
       "output_type": "stream",
       "stream": "stdout",
       "text": [
        "\n",
        "-0.361717123285"
       ]
      },
      {
       "output_type": "stream",
       "stream": "stdout",
       "text": [
        "\n"
       ]
      }
     ],
     "prompt_number": 55
    },
    {
     "cell_type": "code",
     "collapsed": false,
     "input": [
      "i, u, v = 3, 0, 0\n",
      "x = []\n",
      "y = []\n",
      "z = []\n",
      "t = 7.5 * equation.tau\n",
      "for m in range(8):\n",
      "    for l in range(0, m+1):\n",
      "        x.append(m)\n",
      "        y.append(l)\n",
      "        z.append(exact.recursion_af(i, m, l)[u, v]*(t-m*equation.tau)**l)\n",
      "\n",
      "from mpl_toolkits.mplot3d import Axes3D\n",
      "fig = figure()\n",
      "ax = fig.add_subplot(111, projection='3d')\n",
      "ax.plot_trisurf(x, y, log10(abs(array(z))))\n",
      "ax.set_xlabel('m')\n",
      "ax.set_ylabel('l')\n",
      "print max(z)"
     ],
     "language": "python",
     "metadata": {},
     "outputs": [
      {
       "output_type": "stream",
       "stream": "stdout",
       "text": [
        "0.000894149050102\n"
       ]
      }
     ],
     "prompt_number": 85
    },
    {
     "cell_type": "code",
     "collapsed": false,
     "input": [
      "print log10(max(abs(array(z)))), log10(min(abs(array(z))))"
     ],
     "language": "python",
     "metadata": {},
     "outputs": [
      {
       "output_type": "stream",
       "stream": "stdout",
       "text": [
        "-0.441630931736 -13.4375804466\n"
       ]
      }
     ],
     "prompt_number": 82
    }
   ],
   "metadata": {}
  }
 ]
}